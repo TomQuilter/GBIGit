{
  "nbformat": 4,
  "nbformat_minor": 0,
  "metadata": {
    "colab": {
      "provenance": []
    },
    "kernelspec": {
      "name": "python3",
      "display_name": "Python 3"
    },
    "language_info": {
      "name": "python"
    }
  },
  "cells": [
    {
      "cell_type": "code",
      "execution_count": null,
      "metadata": {
        "id": "ykhsMAsUtgAn",
        "colab": {
          "base_uri": "https://localhost:8080/",
          "height": 74
        },
        "outputId": "8baf5c07-ae3a-4e47-f293-0631a7e90883"
      },
      "outputs": [
        {
          "output_type": "display_data",
          "data": {
            "text/plain": [
              "<IPython.core.display.HTML object>"
            ],
            "text/html": [
              "\n",
              "     <input type=\"file\" id=\"files-80df0bbf-8744-47f3-a8e8-39aabea083ba\" name=\"files[]\" multiple disabled\n",
              "        style=\"border:none\" />\n",
              "     <output id=\"result-80df0bbf-8744-47f3-a8e8-39aabea083ba\">\n",
              "      Upload widget is only available when the cell has been executed in the\n",
              "      current browser session. Please rerun this cell to enable.\n",
              "      </output>\n",
              "      <script>// Copyright 2017 Google LLC\n",
              "//\n",
              "// Licensed under the Apache License, Version 2.0 (the \"License\");\n",
              "// you may not use this file except in compliance with the License.\n",
              "// You may obtain a copy of the License at\n",
              "//\n",
              "//      http://www.apache.org/licenses/LICENSE-2.0\n",
              "//\n",
              "// Unless required by applicable law or agreed to in writing, software\n",
              "// distributed under the License is distributed on an \"AS IS\" BASIS,\n",
              "// WITHOUT WARRANTIES OR CONDITIONS OF ANY KIND, either express or implied.\n",
              "// See the License for the specific language governing permissions and\n",
              "// limitations under the License.\n",
              "\n",
              "/**\n",
              " * @fileoverview Helpers for google.colab Python module.\n",
              " */\n",
              "(function(scope) {\n",
              "function span(text, styleAttributes = {}) {\n",
              "  const element = document.createElement('span');\n",
              "  element.textContent = text;\n",
              "  for (const key of Object.keys(styleAttributes)) {\n",
              "    element.style[key] = styleAttributes[key];\n",
              "  }\n",
              "  return element;\n",
              "}\n",
              "\n",
              "// Max number of bytes which will be uploaded at a time.\n",
              "const MAX_PAYLOAD_SIZE = 100 * 1024;\n",
              "\n",
              "function _uploadFiles(inputId, outputId) {\n",
              "  const steps = uploadFilesStep(inputId, outputId);\n",
              "  const outputElement = document.getElementById(outputId);\n",
              "  // Cache steps on the outputElement to make it available for the next call\n",
              "  // to uploadFilesContinue from Python.\n",
              "  outputElement.steps = steps;\n",
              "\n",
              "  return _uploadFilesContinue(outputId);\n",
              "}\n",
              "\n",
              "// This is roughly an async generator (not supported in the browser yet),\n",
              "// where there are multiple asynchronous steps and the Python side is going\n",
              "// to poll for completion of each step.\n",
              "// This uses a Promise to block the python side on completion of each step,\n",
              "// then passes the result of the previous step as the input to the next step.\n",
              "function _uploadFilesContinue(outputId) {\n",
              "  const outputElement = document.getElementById(outputId);\n",
              "  const steps = outputElement.steps;\n",
              "\n",
              "  const next = steps.next(outputElement.lastPromiseValue);\n",
              "  return Promise.resolve(next.value.promise).then((value) => {\n",
              "    // Cache the last promise value to make it available to the next\n",
              "    // step of the generator.\n",
              "    outputElement.lastPromiseValue = value;\n",
              "    return next.value.response;\n",
              "  });\n",
              "}\n",
              "\n",
              "/**\n",
              " * Generator function which is called between each async step of the upload\n",
              " * process.\n",
              " * @param {string} inputId Element ID of the input file picker element.\n",
              " * @param {string} outputId Element ID of the output display.\n",
              " * @return {!Iterable<!Object>} Iterable of next steps.\n",
              " */\n",
              "function* uploadFilesStep(inputId, outputId) {\n",
              "  const inputElement = document.getElementById(inputId);\n",
              "  inputElement.disabled = false;\n",
              "\n",
              "  const outputElement = document.getElementById(outputId);\n",
              "  outputElement.innerHTML = '';\n",
              "\n",
              "  const pickedPromise = new Promise((resolve) => {\n",
              "    inputElement.addEventListener('change', (e) => {\n",
              "      resolve(e.target.files);\n",
              "    });\n",
              "  });\n",
              "\n",
              "  const cancel = document.createElement('button');\n",
              "  inputElement.parentElement.appendChild(cancel);\n",
              "  cancel.textContent = 'Cancel upload';\n",
              "  const cancelPromise = new Promise((resolve) => {\n",
              "    cancel.onclick = () => {\n",
              "      resolve(null);\n",
              "    };\n",
              "  });\n",
              "\n",
              "  // Wait for the user to pick the files.\n",
              "  const files = yield {\n",
              "    promise: Promise.race([pickedPromise, cancelPromise]),\n",
              "    response: {\n",
              "      action: 'starting',\n",
              "    }\n",
              "  };\n",
              "\n",
              "  cancel.remove();\n",
              "\n",
              "  // Disable the input element since further picks are not allowed.\n",
              "  inputElement.disabled = true;\n",
              "\n",
              "  if (!files) {\n",
              "    return {\n",
              "      response: {\n",
              "        action: 'complete',\n",
              "      }\n",
              "    };\n",
              "  }\n",
              "\n",
              "  for (const file of files) {\n",
              "    const li = document.createElement('li');\n",
              "    li.append(span(file.name, {fontWeight: 'bold'}));\n",
              "    li.append(span(\n",
              "        `(${file.type || 'n/a'}) - ${file.size} bytes, ` +\n",
              "        `last modified: ${\n",
              "            file.lastModifiedDate ? file.lastModifiedDate.toLocaleDateString() :\n",
              "                                    'n/a'} - `));\n",
              "    const percent = span('0% done');\n",
              "    li.appendChild(percent);\n",
              "\n",
              "    outputElement.appendChild(li);\n",
              "\n",
              "    const fileDataPromise = new Promise((resolve) => {\n",
              "      const reader = new FileReader();\n",
              "      reader.onload = (e) => {\n",
              "        resolve(e.target.result);\n",
              "      };\n",
              "      reader.readAsArrayBuffer(file);\n",
              "    });\n",
              "    // Wait for the data to be ready.\n",
              "    let fileData = yield {\n",
              "      promise: fileDataPromise,\n",
              "      response: {\n",
              "        action: 'continue',\n",
              "      }\n",
              "    };\n",
              "\n",
              "    // Use a chunked sending to avoid message size limits. See b/62115660.\n",
              "    let position = 0;\n",
              "    do {\n",
              "      const length = Math.min(fileData.byteLength - position, MAX_PAYLOAD_SIZE);\n",
              "      const chunk = new Uint8Array(fileData, position, length);\n",
              "      position += length;\n",
              "\n",
              "      const base64 = btoa(String.fromCharCode.apply(null, chunk));\n",
              "      yield {\n",
              "        response: {\n",
              "          action: 'append',\n",
              "          file: file.name,\n",
              "          data: base64,\n",
              "        },\n",
              "      };\n",
              "\n",
              "      let percentDone = fileData.byteLength === 0 ?\n",
              "          100 :\n",
              "          Math.round((position / fileData.byteLength) * 100);\n",
              "      percent.textContent = `${percentDone}% done`;\n",
              "\n",
              "    } while (position < fileData.byteLength);\n",
              "  }\n",
              "\n",
              "  // All done.\n",
              "  yield {\n",
              "    response: {\n",
              "      action: 'complete',\n",
              "    }\n",
              "  };\n",
              "}\n",
              "\n",
              "scope.google = scope.google || {};\n",
              "scope.google.colab = scope.google.colab || {};\n",
              "scope.google.colab._files = {\n",
              "  _uploadFiles,\n",
              "  _uploadFilesContinue,\n",
              "};\n",
              "})(self);\n",
              "</script> "
            ]
          },
          "metadata": {}
        },
        {
          "output_type": "stream",
          "name": "stdout",
          "text": [
            "Saving combinationsHalfOfAll4by4s.csv to combinationsHalfOfAll4by4s.csv\n"
          ]
        }
      ],
      "source": [
        "##===========##\n",
        "##  Imports  ##\n",
        "##===========##\n",
        "\n",
        "import ast, logging, random, sys, time\n",
        "\n",
        "import matplotlib as mpl\n",
        "import numpy      as np\n",
        "import pandas     as pd\n",
        "import tensorflow as tf\n",
        "\n",
        "from matplotlib import pyplot as plt\n",
        "\n",
        "from google.colab import files\n",
        "uploaded = files.upload()"
      ]
    },
    {
      "cell_type": "code",
      "source": [
        "##====================================##\n",
        "##  Config (no hard-coded variables)  ##\n",
        "##====================================##\n",
        "\n",
        "config = {\n",
        "    \"general\" : {\n",
        "        \"base_seed\"  : -1,\n",
        "        \"board_size\" : 4,\n",
        "    },\n",
        "    \"data\" : {\n",
        "        \"input_fname\"      : \"combinationsHalfOfAll4by4s.csv\",\n",
        "    },\n",
        "    \"model\" : {\n",
        "        \"ndim\"              : 128,\n",
        "        \"encoder_depth\"     : 4,\n",
        "        \"encoder_num_heads\" : 8,\n",
        "        \"encoder_do_MLP\"    : True,\n",
        "        \"decoder_depth\"     : 4,\n",
        "        \"decoder_num_heads\" : 8,\n",
        "        \"decoder_do_MLP\"    : True,\n",
        "        \"MLP_depth\"         : 3,\n",
        "        \"use_bias\"          : True,\n",
        "        \"learning_rate\"     : 1e-5,\n",
        "    },\n",
        "    \"training\" : {\n",
        "        \"epochs\"           : 100,\n",
        "        \"batch_size\"       : 32,\n",
        "        \"patience\"         : 20,\n",
        "        \"validation_split\" : 0.2,\n",
        "    },\n",
        "}"
      ],
      "metadata": {
        "id": "m38hulsgtj4C"
      },
      "execution_count": null,
      "outputs": []
    },
    {
      "cell_type": "code",
      "source": [
        "##=====================##\n",
        "##  Configure logging  ##\n",
        "##=====================##\n",
        "\n",
        "##  Get named logger\n",
        "logger = logging.getLogger(__name__)\n",
        "\n",
        "##  Add output handler to stdout\n",
        "io_handler = logging.StreamHandler(sys.stdout)\n",
        "io_handler.setFormatter(logging.Formatter(\"%(levelname)7s %(asctime)s: %(message)s\", \"%Y-%m-%d %H:%M:%S\"))\n",
        "io_handler.setLevel(logging.INFO)\n",
        "logger.setLevel(logging.INFO)\n",
        "logger.addHandler(io_handler)\n",
        "\n",
        "##  Test that we see output\n",
        "logger.info(f\"Configured for logger '{logger.name}'\")"
      ],
      "metadata": {
        "colab": {
          "base_uri": "https://localhost:8080/"
        },
        "id": "hMCsHmRSuEJG",
        "outputId": "3a4ba11c-b487-4a28-e982-f026348ac71b"
      },
      "execution_count": null,
      "outputs": [
        {
          "output_type": "stream",
          "name": "stdout",
          "text": [
            "   INFO 2023-12-05 12:28:33: Configured for logger '__main__'\n"
          ]
        },
        {
          "output_type": "stream",
          "name": "stderr",
          "text": [
            "INFO:__main__:Configured for logger '__main__'\n"
          ]
        }
      ]
    },
    {
      "cell_type": "code",
      "source": [
        "##======================================##\n",
        "##  Print versions for reproducibility  ##\n",
        "##======================================##\n",
        "\n",
        "logger.info( \"---------------+-----------------------------------------------------------\")\n",
        "logger.info( \"      Package  | Version\")\n",
        "logger.info( \"---------------+-----------------------------------------------------------\")\n",
        "logger.info(f\"       Python  |  {sys.version}\")\n",
        "logger.info(f\"   Matplotlib  |  {mpl.__version__}\")\n",
        "logger.info(f\"        Numpy  |  {np.__version__}\")\n",
        "logger.info(f\"       Pandas  |  {pd.__version__}\")\n",
        "logger.info(f\"   Tensorflow  |  {tf.__version__}\")"
      ],
      "metadata": {
        "id": "XHD7uOeRuJT2",
        "colab": {
          "base_uri": "https://localhost:8080/"
        },
        "outputId": "8ac0771b-08aa-41a3-c69a-28fd52134842"
      },
      "execution_count": null,
      "outputs": [
        {
          "output_type": "stream",
          "name": "stdout",
          "text": [
            "   INFO 2023-12-05 12:28:33: ---------------+-----------------------------------------------------------\n"
          ]
        },
        {
          "output_type": "stream",
          "name": "stderr",
          "text": [
            "INFO:__main__:---------------+-----------------------------------------------------------\n"
          ]
        },
        {
          "output_type": "stream",
          "name": "stdout",
          "text": [
            "   INFO 2023-12-05 12:28:33:       Package  | Version\n"
          ]
        },
        {
          "output_type": "stream",
          "name": "stderr",
          "text": [
            "INFO:__main__:      Package  | Version\n"
          ]
        },
        {
          "output_type": "stream",
          "name": "stdout",
          "text": [
            "   INFO 2023-12-05 12:28:33: ---------------+-----------------------------------------------------------\n"
          ]
        },
        {
          "output_type": "stream",
          "name": "stderr",
          "text": [
            "INFO:__main__:---------------+-----------------------------------------------------------\n"
          ]
        },
        {
          "output_type": "stream",
          "name": "stdout",
          "text": [
            "   INFO 2023-12-05 12:28:33:        Python  |  3.10.12 (main, Nov 20 2023, 15:14:05) [GCC 11.4.0]\n"
          ]
        },
        {
          "output_type": "stream",
          "name": "stderr",
          "text": [
            "INFO:__main__:       Python  |  3.10.12 (main, Nov 20 2023, 15:14:05) [GCC 11.4.0]\n"
          ]
        },
        {
          "output_type": "stream",
          "name": "stdout",
          "text": [
            "   INFO 2023-12-05 12:28:33:    Matplotlib  |  3.7.1\n"
          ]
        },
        {
          "output_type": "stream",
          "name": "stderr",
          "text": [
            "INFO:__main__:   Matplotlib  |  3.7.1\n"
          ]
        },
        {
          "output_type": "stream",
          "name": "stdout",
          "text": [
            "   INFO 2023-12-05 12:28:33:         Numpy  |  1.23.5\n"
          ]
        },
        {
          "output_type": "stream",
          "name": "stderr",
          "text": [
            "INFO:__main__:        Numpy  |  1.23.5\n"
          ]
        },
        {
          "output_type": "stream",
          "name": "stdout",
          "text": [
            "   INFO 2023-12-05 12:28:33:        Pandas  |  1.5.3\n"
          ]
        },
        {
          "output_type": "stream",
          "name": "stderr",
          "text": [
            "INFO:__main__:       Pandas  |  1.5.3\n"
          ]
        },
        {
          "output_type": "stream",
          "name": "stdout",
          "text": [
            "   INFO 2023-12-05 12:28:33:    Tensorflow  |  2.14.0\n"
          ]
        },
        {
          "output_type": "stream",
          "name": "stderr",
          "text": [
            "INFO:__main__:   Tensorflow  |  2.14.0\n"
          ]
        }
      ]
    },
    {
      "cell_type": "code",
      "source": [
        "##==============##\n",
        "##  Log config  ##\n",
        "##==============##\n",
        "\n",
        "def log_flattened_dictionary(logger     : logging.Logger,\n",
        "                             dictionary : dict,\n",
        "                             base_str   : str = \"\",\n",
        "                             log_lvl    : int = logging.INFO,\n",
        "                            ) -> None :\n",
        "    \"\"\"\n",
        "    Recursively search through config dictionary provided and log all values found\n",
        "    Dictionary keys must be castable to str\n",
        "    \"\"\"\n",
        "    for key, val in dictionary.items() :\n",
        "        if isinstance(val, dict) :\n",
        "            log_flattened_dictionary(logger, val, base_str=f\"{base_str} > {key}\")\n",
        "            continue\n",
        "        logger.log(log_lvl, f\"{base_str} > {key} : {val}\")\n",
        "\n",
        "logger.info(\"Using the following config values:\")\n",
        "log_flattened_dictionary(logger, config)\n"
      ],
      "metadata": {
        "id": "5Xql19xmuNR2",
        "colab": {
          "base_uri": "https://localhost:8080/"
        },
        "outputId": "c3b5034e-fb89-480f-dede-16df9b8ee06c"
      },
      "execution_count": null,
      "outputs": [
        {
          "output_type": "stream",
          "name": "stdout",
          "text": [
            "   INFO 2023-12-05 12:28:33: Using the following config values:\n"
          ]
        },
        {
          "output_type": "stream",
          "name": "stderr",
          "text": [
            "INFO:__main__:Using the following config values:\n"
          ]
        },
        {
          "output_type": "stream",
          "name": "stdout",
          "text": [
            "   INFO 2023-12-05 12:28:33:  > general > base_seed : -1\n"
          ]
        },
        {
          "output_type": "stream",
          "name": "stderr",
          "text": [
            "INFO:__main__: > general > base_seed : -1\n"
          ]
        },
        {
          "output_type": "stream",
          "name": "stdout",
          "text": [
            "   INFO 2023-12-05 12:28:33:  > general > board_size : 4\n"
          ]
        },
        {
          "output_type": "stream",
          "name": "stderr",
          "text": [
            "INFO:__main__: > general > board_size : 4\n"
          ]
        },
        {
          "output_type": "stream",
          "name": "stdout",
          "text": [
            "   INFO 2023-12-05 12:28:33:  > data > input_fname : combinationsHalfOfAll4by4s.csv\n"
          ]
        },
        {
          "output_type": "stream",
          "name": "stderr",
          "text": [
            "INFO:__main__: > data > input_fname : combinationsHalfOfAll4by4s.csv\n"
          ]
        },
        {
          "output_type": "stream",
          "name": "stdout",
          "text": [
            "   INFO 2023-12-05 12:28:33:  > model > ndim : 128\n"
          ]
        },
        {
          "output_type": "stream",
          "name": "stderr",
          "text": [
            "INFO:__main__: > model > ndim : 128\n"
          ]
        },
        {
          "output_type": "stream",
          "name": "stdout",
          "text": [
            "   INFO 2023-12-05 12:28:33:  > model > encoder_depth : 4\n"
          ]
        },
        {
          "output_type": "stream",
          "name": "stderr",
          "text": [
            "INFO:__main__: > model > encoder_depth : 4\n"
          ]
        },
        {
          "output_type": "stream",
          "name": "stdout",
          "text": [
            "   INFO 2023-12-05 12:28:33:  > model > encoder_num_heads : 8\n"
          ]
        },
        {
          "output_type": "stream",
          "name": "stderr",
          "text": [
            "INFO:__main__: > model > encoder_num_heads : 8\n"
          ]
        },
        {
          "output_type": "stream",
          "name": "stdout",
          "text": [
            "   INFO 2023-12-05 12:28:33:  > model > encoder_do_MLP : True\n"
          ]
        },
        {
          "output_type": "stream",
          "name": "stderr",
          "text": [
            "INFO:__main__: > model > encoder_do_MLP : True\n"
          ]
        },
        {
          "output_type": "stream",
          "name": "stdout",
          "text": [
            "   INFO 2023-12-05 12:28:33:  > model > decoder_depth : 4\n"
          ]
        },
        {
          "output_type": "stream",
          "name": "stderr",
          "text": [
            "INFO:__main__: > model > decoder_depth : 4\n"
          ]
        },
        {
          "output_type": "stream",
          "name": "stdout",
          "text": [
            "   INFO 2023-12-05 12:28:33:  > model > decoder_num_heads : 8\n"
          ]
        },
        {
          "output_type": "stream",
          "name": "stderr",
          "text": [
            "INFO:__main__: > model > decoder_num_heads : 8\n"
          ]
        },
        {
          "output_type": "stream",
          "name": "stdout",
          "text": [
            "   INFO 2023-12-05 12:28:33:  > model > decoder_do_MLP : True\n"
          ]
        },
        {
          "output_type": "stream",
          "name": "stderr",
          "text": [
            "INFO:__main__: > model > decoder_do_MLP : True\n"
          ]
        },
        {
          "output_type": "stream",
          "name": "stdout",
          "text": [
            "   INFO 2023-12-05 12:28:33:  > model > MLP_depth : 3\n"
          ]
        },
        {
          "output_type": "stream",
          "name": "stderr",
          "text": [
            "INFO:__main__: > model > MLP_depth : 3\n"
          ]
        },
        {
          "output_type": "stream",
          "name": "stdout",
          "text": [
            "   INFO 2023-12-05 12:28:33:  > model > use_bias : True\n"
          ]
        },
        {
          "output_type": "stream",
          "name": "stderr",
          "text": [
            "INFO:__main__: > model > use_bias : True\n"
          ]
        },
        {
          "output_type": "stream",
          "name": "stdout",
          "text": [
            "   INFO 2023-12-05 12:28:33:  > model > learning_rate : 1e-05\n"
          ]
        },
        {
          "output_type": "stream",
          "name": "stderr",
          "text": [
            "INFO:__main__: > model > learning_rate : 1e-05\n"
          ]
        },
        {
          "output_type": "stream",
          "name": "stdout",
          "text": [
            "   INFO 2023-12-05 12:28:33:  > training > epochs : 100\n"
          ]
        },
        {
          "output_type": "stream",
          "name": "stderr",
          "text": [
            "INFO:__main__: > training > epochs : 100\n"
          ]
        },
        {
          "output_type": "stream",
          "name": "stdout",
          "text": [
            "   INFO 2023-12-05 12:28:33:  > training > batch_size : 32\n"
          ]
        },
        {
          "output_type": "stream",
          "name": "stderr",
          "text": [
            "INFO:__main__: > training > batch_size : 32\n"
          ]
        },
        {
          "output_type": "stream",
          "name": "stdout",
          "text": [
            "   INFO 2023-12-05 12:28:33:  > training > patience : 20\n"
          ]
        },
        {
          "output_type": "stream",
          "name": "stderr",
          "text": [
            "INFO:__main__: > training > patience : 20\n"
          ]
        },
        {
          "output_type": "stream",
          "name": "stdout",
          "text": [
            "   INFO 2023-12-05 12:28:33:  > training > validation_split : 0.2\n"
          ]
        },
        {
          "output_type": "stream",
          "name": "stderr",
          "text": [
            "INFO:__main__: > training > validation_split : 0.2\n"
          ]
        }
      ]
    },
    {
      "cell_type": "code",
      "source": [
        "##==========================##\n",
        "##  Configure random seeds  ##\n",
        "##==========================##\n",
        "\n",
        "##  Get base seed\n",
        "base_seed = config[\"general\"][\"base_seed\"]\n",
        "\n",
        "##  If <1 then set to clock time in seconds\n",
        "if base_seed < 1 :\n",
        "    base_seed = int(time.time())\n",
        "    logger.info(f\"Setting base_seed = {base_seed}\")\n",
        "\n",
        "##  Set python seed\n",
        "python_seed = base_seed\n",
        "random.seed(python_seed)\n",
        "logger.info(f\"Python seed = {python_seed}\")\n",
        "\n",
        "##  Set numpy seed\n",
        "np_seed = base_seed + 1\n",
        "np.random.seed(np_seed)\n",
        "logger.info(f\"Numpy seed = {np_seed}\")\n",
        "\n",
        "##  Set tensorflow seed\n",
        "tf_seed = base_seed + 2\n",
        "tf.random.set_seed(tf_seed)\n",
        "logger.info(f\"Tensorflow seed = {tf_seed}\")\n"
      ],
      "metadata": {
        "id": "QUKIDceSuSrk",
        "colab": {
          "base_uri": "https://localhost:8080/"
        },
        "outputId": "06263448-a42b-4bdb-95af-4b76d5f7d40d"
      },
      "execution_count": null,
      "outputs": [
        {
          "output_type": "stream",
          "name": "stdout",
          "text": [
            "   INFO 2023-12-05 12:28:33: Setting base_seed = 1701779313\n"
          ]
        },
        {
          "output_type": "stream",
          "name": "stderr",
          "text": [
            "INFO:__main__:Setting base_seed = 1701779313\n"
          ]
        },
        {
          "output_type": "stream",
          "name": "stdout",
          "text": [
            "   INFO 2023-12-05 12:28:33: Python seed = 1701779313\n"
          ]
        },
        {
          "output_type": "stream",
          "name": "stderr",
          "text": [
            "INFO:__main__:Python seed = 1701779313\n"
          ]
        },
        {
          "output_type": "stream",
          "name": "stdout",
          "text": [
            "   INFO 2023-12-05 12:28:33: Numpy seed = 1701779314\n"
          ]
        },
        {
          "output_type": "stream",
          "name": "stderr",
          "text": [
            "INFO:__main__:Numpy seed = 1701779314\n"
          ]
        },
        {
          "output_type": "stream",
          "name": "stdout",
          "text": [
            "   INFO 2023-12-05 12:28:33: Tensorflow seed = 1701779315\n"
          ]
        },
        {
          "output_type": "stream",
          "name": "stderr",
          "text": [
            "INFO:__main__:Tensorflow seed = 1701779315\n"
          ]
        }
      ]
    },
    {
      "cell_type": "code",
      "source": [
        "##===========================##\n",
        "##  Read input to dataframe  ##\n",
        "##===========================##\n",
        "\n",
        "##  Resolve filename\n",
        "input_fname = config[\"data\"][\"input_fname\"]\n",
        "logger.info(f\"Reading data from file {input_fname}\")\n",
        "\n",
        "##  Load file\n",
        "df = pd.read_csv(\n",
        "    input_fname,\n",
        ")\n",
        "\n",
        "##  Fix column heading format\n",
        "df = df.T.reset_index().T.reset_index(drop=True)\n",
        "df = df.set_axis([\"Barrier\", \"Trajectory\"], axis=1)\n",
        "\n",
        "##  Log results\n",
        "logger.info(f\"Dataframe create with length {len(df)}:\\n{str(df)}\")"
      ],
      "metadata": {
        "id": "JhhwsWUTuWfc",
        "colab": {
          "base_uri": "https://localhost:8080/"
        },
        "outputId": "f261d170-4a2c-47b2-934b-e9d1473fa983"
      },
      "execution_count": null,
      "outputs": [
        {
          "output_type": "stream",
          "name": "stdout",
          "text": [
            "   INFO 2023-12-05 12:28:33: Reading data from file combinationsHalfOfAll4by4s.csv\n"
          ]
        },
        {
          "output_type": "stream",
          "name": "stderr",
          "text": [
            "INFO:__main__:Reading data from file combinationsHalfOfAll4by4s.csv\n"
          ]
        },
        {
          "output_type": "stream",
          "name": "stdout",
          "text": [
            "   INFO 2023-12-05 12:28:33: Dataframe create with length 650:\n",
            "                                      Barrier  \\\n",
            "0                                    ((0, 1))   \n",
            "1                                    ((0, 2))   \n",
            "2                                    ((1, 0))   \n",
            "3                                    ((1, 1))   \n",
            "4                                    ((1, 2))   \n",
            "..                                        ...   \n",
            "645  ((0, 1), (1, 0), (2, 0), (3, 0), (3, 2))   \n",
            "646  ((0, 1), (1, 0), (2, 0), (3, 1), (3, 2))   \n",
            "647  ((0, 1), (1, 0), (2, 1), (2, 2), (3, 0))   \n",
            "648  ((0, 1), (1, 0), (2, 1), (2, 2), (3, 1))   \n",
            "649  ((0, 1), (1, 0), (2, 1), (2, 2), (3, 2))   \n",
            "\n",
            "                           Trajectory  \n",
            "0    [(0, 0), (1, 1), (0, 2), (0, 3)]  \n",
            "1    [(0, 0), (0, 1), (1, 2), (0, 3)]  \n",
            "2    [(0, 0), (0, 1), (0, 2), (0, 3)]  \n",
            "3    [(0, 0), (0, 1), (0, 2), (0, 3)]  \n",
            "4    [(0, 0), (0, 1), (0, 2), (0, 3)]  \n",
            "..                                ...  \n",
            "645  [(0, 0), (1, 1), (0, 2), (0, 3)]  \n",
            "646  [(0, 0), (1, 1), (0, 2), (0, 3)]  \n",
            "647  [(0, 0), (1, 1), (0, 2), (0, 3)]  \n",
            "648  [(0, 0), (1, 1), (0, 2), (0, 3)]  \n",
            "649  [(0, 0), (1, 1), (0, 2), (0, 3)]  \n",
            "\n",
            "[650 rows x 2 columns]\n"
          ]
        },
        {
          "output_type": "stream",
          "name": "stderr",
          "text": [
            "INFO:__main__:Dataframe create with length 650:\n",
            "                                      Barrier  \\\n",
            "0                                    ((0, 1))   \n",
            "1                                    ((0, 2))   \n",
            "2                                    ((1, 0))   \n",
            "3                                    ((1, 1))   \n",
            "4                                    ((1, 2))   \n",
            "..                                        ...   \n",
            "645  ((0, 1), (1, 0), (2, 0), (3, 0), (3, 2))   \n",
            "646  ((0, 1), (1, 0), (2, 0), (3, 1), (3, 2))   \n",
            "647  ((0, 1), (1, 0), (2, 1), (2, 2), (3, 0))   \n",
            "648  ((0, 1), (1, 0), (2, 1), (2, 2), (3, 1))   \n",
            "649  ((0, 1), (1, 0), (2, 1), (2, 2), (3, 2))   \n",
            "\n",
            "                           Trajectory  \n",
            "0    [(0, 0), (1, 1), (0, 2), (0, 3)]  \n",
            "1    [(0, 0), (0, 1), (1, 2), (0, 3)]  \n",
            "2    [(0, 0), (0, 1), (0, 2), (0, 3)]  \n",
            "3    [(0, 0), (0, 1), (0, 2), (0, 3)]  \n",
            "4    [(0, 0), (0, 1), (0, 2), (0, 3)]  \n",
            "..                                ...  \n",
            "645  [(0, 0), (1, 1), (0, 2), (0, 3)]  \n",
            "646  [(0, 0), (1, 1), (0, 2), (0, 3)]  \n",
            "647  [(0, 0), (1, 1), (0, 2), (0, 3)]  \n",
            "648  [(0, 0), (1, 1), (0, 2), (0, 3)]  \n",
            "649  [(0, 0), (1, 1), (0, 2), (0, 3)]  \n",
            "\n",
            "[650 rows x 2 columns]\n"
          ]
        }
      ]
    },
    {
      "cell_type": "code",
      "source": [
        "##=================================================##\n",
        "##  Pull barriers and trajectories from dataframe  ##\n",
        "##=================================================##\n",
        "\n",
        "barriers     = list(df.iloc[:,0].map(lambda x : np.array(ast.literal_eval(x), dtype=np.int8)))\n",
        "trajectories = list(df.iloc[:,1].map(lambda x : np.array(ast.literal_eval(x), dtype=np.int8)))\n"
      ],
      "metadata": {
        "id": "qdjTkAFLvxXW"
      },
      "execution_count": null,
      "outputs": []
    },
    {
      "cell_type": "code",
      "source": [
        "##==================##\n",
        "##  Create X array  ##\n",
        "##==================##\n",
        "\n",
        "##  Get board size\n",
        "board_size = config[\"general\"][\"board_size\"]\n",
        "logger.info(f\"Creating data arrays according to board_size={board_size}\")\n",
        "\n",
        "##  Create list of sequences with BEGIN and END tokens\n",
        "X = []\n",
        "BEG, END = np.array([[board_size+1, board_size+1]]), np.array([[board_size+2, board_size+2]])\n",
        "for x in trajectories :\n",
        "    if len(x.shape) == 1 :\n",
        "        x = x[None, :]\n",
        "    x = np.concatenate([BEG, x+1, END])\n",
        "    X.append(x)\n",
        "\n",
        "##  Pad sequences with MASK token and convert to square array\n",
        "max_x = max([len(x) for x in X])\n",
        "X     = np.array([np.pad(x, [[0, max_x - len(x)], [0, 0]]) for x in X])\n",
        "\n",
        "##  Log summary\n",
        "logger.info(f\"Data X created with shape {X.shape}\")\n",
        "\n",
        "##  Log a few datapoints\n",
        "for row_idx in range(min([5, len(X)])) :\n",
        "    logger.info(f\"Row at index {row_idx} is:\\n{X[row_idx]}\")\n"
      ],
      "metadata": {
        "id": "WHRF85C4v2Nb",
        "colab": {
          "base_uri": "https://localhost:8080/"
        },
        "outputId": "1a4a3fc7-c939-4df8-a79e-aefd16c449cb"
      },
      "execution_count": null,
      "outputs": [
        {
          "output_type": "stream",
          "name": "stdout",
          "text": [
            "   INFO 2023-12-05 12:28:33: Creating data arrays according to board_size=4\n"
          ]
        },
        {
          "output_type": "stream",
          "name": "stderr",
          "text": [
            "INFO:__main__:Creating data arrays according to board_size=4\n"
          ]
        },
        {
          "output_type": "stream",
          "name": "stdout",
          "text": [
            "   INFO 2023-12-05 12:28:33: Data X created with shape (650, 10, 2)\n"
          ]
        },
        {
          "output_type": "stream",
          "name": "stderr",
          "text": [
            "INFO:__main__:Data X created with shape (650, 10, 2)\n"
          ]
        },
        {
          "output_type": "stream",
          "name": "stdout",
          "text": [
            "   INFO 2023-12-05 12:28:33: Row at index 0 is:\n",
            "[[5 5]\n",
            " [1 1]\n",
            " [2 2]\n",
            " [1 3]\n",
            " [1 4]\n",
            " [6 6]\n",
            " [0 0]\n",
            " [0 0]\n",
            " [0 0]\n",
            " [0 0]]\n"
          ]
        },
        {
          "output_type": "stream",
          "name": "stderr",
          "text": [
            "INFO:__main__:Row at index 0 is:\n",
            "[[5 5]\n",
            " [1 1]\n",
            " [2 2]\n",
            " [1 3]\n",
            " [1 4]\n",
            " [6 6]\n",
            " [0 0]\n",
            " [0 0]\n",
            " [0 0]\n",
            " [0 0]]\n"
          ]
        },
        {
          "output_type": "stream",
          "name": "stdout",
          "text": [
            "   INFO 2023-12-05 12:28:33: Row at index 1 is:\n",
            "[[5 5]\n",
            " [1 1]\n",
            " [1 2]\n",
            " [2 3]\n",
            " [1 4]\n",
            " [6 6]\n",
            " [0 0]\n",
            " [0 0]\n",
            " [0 0]\n",
            " [0 0]]\n"
          ]
        },
        {
          "output_type": "stream",
          "name": "stderr",
          "text": [
            "INFO:__main__:Row at index 1 is:\n",
            "[[5 5]\n",
            " [1 1]\n",
            " [1 2]\n",
            " [2 3]\n",
            " [1 4]\n",
            " [6 6]\n",
            " [0 0]\n",
            " [0 0]\n",
            " [0 0]\n",
            " [0 0]]\n"
          ]
        },
        {
          "output_type": "stream",
          "name": "stdout",
          "text": [
            "   INFO 2023-12-05 12:28:33: Row at index 2 is:\n",
            "[[5 5]\n",
            " [1 1]\n",
            " [1 2]\n",
            " [1 3]\n",
            " [1 4]\n",
            " [6 6]\n",
            " [0 0]\n",
            " [0 0]\n",
            " [0 0]\n",
            " [0 0]]\n"
          ]
        },
        {
          "output_type": "stream",
          "name": "stderr",
          "text": [
            "INFO:__main__:Row at index 2 is:\n",
            "[[5 5]\n",
            " [1 1]\n",
            " [1 2]\n",
            " [1 3]\n",
            " [1 4]\n",
            " [6 6]\n",
            " [0 0]\n",
            " [0 0]\n",
            " [0 0]\n",
            " [0 0]]\n"
          ]
        },
        {
          "output_type": "stream",
          "name": "stdout",
          "text": [
            "   INFO 2023-12-05 12:28:33: Row at index 3 is:\n",
            "[[5 5]\n",
            " [1 1]\n",
            " [1 2]\n",
            " [1 3]\n",
            " [1 4]\n",
            " [6 6]\n",
            " [0 0]\n",
            " [0 0]\n",
            " [0 0]\n",
            " [0 0]]\n"
          ]
        },
        {
          "output_type": "stream",
          "name": "stderr",
          "text": [
            "INFO:__main__:Row at index 3 is:\n",
            "[[5 5]\n",
            " [1 1]\n",
            " [1 2]\n",
            " [1 3]\n",
            " [1 4]\n",
            " [6 6]\n",
            " [0 0]\n",
            " [0 0]\n",
            " [0 0]\n",
            " [0 0]]\n"
          ]
        },
        {
          "output_type": "stream",
          "name": "stdout",
          "text": [
            "   INFO 2023-12-05 12:28:33: Row at index 4 is:\n",
            "[[5 5]\n",
            " [1 1]\n",
            " [1 2]\n",
            " [1 3]\n",
            " [1 4]\n",
            " [6 6]\n",
            " [0 0]\n",
            " [0 0]\n",
            " [0 0]\n",
            " [0 0]]\n"
          ]
        },
        {
          "output_type": "stream",
          "name": "stderr",
          "text": [
            "INFO:__main__:Row at index 4 is:\n",
            "[[5 5]\n",
            " [1 1]\n",
            " [1 2]\n",
            " [1 3]\n",
            " [1 4]\n",
            " [6 6]\n",
            " [0 0]\n",
            " [0 0]\n",
            " [0 0]\n",
            " [0 0]]\n"
          ]
        }
      ]
    },
    {
      "cell_type": "code",
      "source": [
        "##==================##\n",
        "##  Create Y array  ##\n",
        "##==================##\n",
        "\n",
        "##  Create tensor of square arrays with 0 or 1 if there is a barrier\n",
        "Y = []\n",
        "for barrier in barriers :\n",
        "    if len(barrier.shape) == 1 :\n",
        "        barrier = barrier[None, :]\n",
        "    y = np.zeros((board_size, board_size))\n",
        "    for pixel in barrier :\n",
        "        y[pixel[0], pixel[1]] = 1\n",
        "    Y.append(y)\n",
        "Y = np.array(Y)\n",
        "\n",
        "##  Log summary\n",
        "logger.info(f\"Data Y created with shape {Y.shape}\")\n",
        "\n",
        "##  Log a few datapoints\n",
        "for row_idx in range(min([5, len(Y)])) :\n",
        "    logger.info(f\"Row at index {row_idx} is:\\n{Y[row_idx]}\")\n"
      ],
      "metadata": {
        "id": "LyHKVAfGwBFG",
        "colab": {
          "base_uri": "https://localhost:8080/"
        },
        "outputId": "fe3256fd-6f31-4163-b4ee-b678bbef2120"
      },
      "execution_count": null,
      "outputs": [
        {
          "output_type": "stream",
          "name": "stdout",
          "text": [
            "   INFO 2023-12-05 12:28:33: Data Y created with shape (650, 4, 4)\n"
          ]
        },
        {
          "output_type": "stream",
          "name": "stderr",
          "text": [
            "INFO:__main__:Data Y created with shape (650, 4, 4)\n"
          ]
        },
        {
          "output_type": "stream",
          "name": "stdout",
          "text": [
            "   INFO 2023-12-05 12:28:33: Row at index 0 is:\n",
            "[[0. 1. 0. 0.]\n",
            " [0. 0. 0. 0.]\n",
            " [0. 0. 0. 0.]\n",
            " [0. 0. 0. 0.]]\n"
          ]
        },
        {
          "output_type": "stream",
          "name": "stderr",
          "text": [
            "INFO:__main__:Row at index 0 is:\n",
            "[[0. 1. 0. 0.]\n",
            " [0. 0. 0. 0.]\n",
            " [0. 0. 0. 0.]\n",
            " [0. 0. 0. 0.]]\n"
          ]
        },
        {
          "output_type": "stream",
          "name": "stdout",
          "text": [
            "   INFO 2023-12-05 12:28:33: Row at index 1 is:\n",
            "[[0. 0. 1. 0.]\n",
            " [0. 0. 0. 0.]\n",
            " [0. 0. 0. 0.]\n",
            " [0. 0. 0. 0.]]\n"
          ]
        },
        {
          "output_type": "stream",
          "name": "stderr",
          "text": [
            "INFO:__main__:Row at index 1 is:\n",
            "[[0. 0. 1. 0.]\n",
            " [0. 0. 0. 0.]\n",
            " [0. 0. 0. 0.]\n",
            " [0. 0. 0. 0.]]\n"
          ]
        },
        {
          "output_type": "stream",
          "name": "stdout",
          "text": [
            "   INFO 2023-12-05 12:28:33: Row at index 2 is:\n",
            "[[0. 0. 0. 0.]\n",
            " [1. 0. 0. 0.]\n",
            " [0. 0. 0. 0.]\n",
            " [0. 0. 0. 0.]]\n"
          ]
        },
        {
          "output_type": "stream",
          "name": "stderr",
          "text": [
            "INFO:__main__:Row at index 2 is:\n",
            "[[0. 0. 0. 0.]\n",
            " [1. 0. 0. 0.]\n",
            " [0. 0. 0. 0.]\n",
            " [0. 0. 0. 0.]]\n"
          ]
        },
        {
          "output_type": "stream",
          "name": "stdout",
          "text": [
            "   INFO 2023-12-05 12:28:33: Row at index 3 is:\n",
            "[[0. 0. 0. 0.]\n",
            " [0. 1. 0. 0.]\n",
            " [0. 0. 0. 0.]\n",
            " [0. 0. 0. 0.]]\n"
          ]
        },
        {
          "output_type": "stream",
          "name": "stderr",
          "text": [
            "INFO:__main__:Row at index 3 is:\n",
            "[[0. 0. 0. 0.]\n",
            " [0. 1. 0. 0.]\n",
            " [0. 0. 0. 0.]\n",
            " [0. 0. 0. 0.]]\n"
          ]
        },
        {
          "output_type": "stream",
          "name": "stdout",
          "text": [
            "   INFO 2023-12-05 12:28:33: Row at index 4 is:\n",
            "[[0. 0. 0. 0.]\n",
            " [0. 0. 1. 0.]\n",
            " [0. 0. 0. 0.]\n",
            " [0. 0. 0. 0.]]\n"
          ]
        },
        {
          "output_type": "stream",
          "name": "stderr",
          "text": [
            "INFO:__main__:Row at index 4 is:\n",
            "[[0. 0. 0. 0.]\n",
            " [0. 0. 1. 0.]\n",
            " [0. 0. 0. 0.]\n",
            " [0. 0. 0. 0.]]\n"
          ]
        }
      ]
    },
    {
      "cell_type": "code",
      "source": [
        "##===================================================================##\n",
        "##  Define custom keras layer for enumerating an NxN grid of pixels  ##\n",
        "##===================================================================##\n",
        "\n",
        "class EnumerateGrid(tf.keras.layers.Layer) :\n",
        "\n",
        "    def __init__(self,\n",
        "                 xmax : int,\n",
        "                 ymax : int | None = None,\n",
        "                 **kwargs\n",
        "                ) :\n",
        "        \"\"\"\n",
        "        Keras layer that outputs two flat tensors enumerating the x and y pixel locations on a grid\n",
        "        Both output tensors have shape [B, xmax*ymax] where B is the batch dimension, evaluated at run-time\n",
        "        by matching with a data tensor provided in the layer call\n",
        "        \"\"\"\n",
        "        super().__init__(**kwargs)\n",
        "        if ymax is None :\n",
        "            ymax = xmax\n",
        "        self.xmax = xmax\n",
        "        self.ymax = ymax\n",
        "        X, Y      = np.meshgrid(np.arange(xmax), np.arange(ymax))\n",
        "        X, Y      = X.flatten(), Y.flatten()\n",
        "        self.X    = tf.constant(X[None, :], dtype=self.dtype)\n",
        "        self.Y    = tf.constant(Y[None, :], dtype=self.dtype)\n",
        "\n",
        "    def call(self,\n",
        "             x   : tf.Tensor,\n",
        "            ) :\n",
        "        \"\"\"\n",
        "        Create an output tensors with same batch dimension as input x\n",
        "        First output tensor enumerates x positions on a grid\n",
        "        Second output tensor enumerates y positions on a grid\n",
        "        Both tensors have shape [B, xmax*ymax]\n",
        "        \"\"\"\n",
        "        X = tf.tile(self.X, [tf.shape(x)[0], 1])\n",
        "        Y = tf.tile(self.Y, [tf.shape(x)[0], 1])\n",
        "        return X, Y\n",
        "\n",
        "    def get_config(self) :\n",
        "        \"\"\"\n",
        "        Create config dict, needed for saving model to file\n",
        "        \"\"\"\n",
        "        config = super().get_config()\n",
        "        config[\"amax\"] = self.amax\n",
        "        return config\n"
      ],
      "metadata": {
        "id": "ZRvdUFF9wKpD"
      },
      "execution_count": null,
      "outputs": []
    },
    {
      "cell_type": "code",
      "source": [
        "##==========================================================================##\n",
        "##  Define custom keras layer for slicing the right-most index of a tensor  ##\n",
        "##==========================================================================##\n",
        "\n",
        "class RightSlice(tf.keras.layers.Layer) :\n",
        "\n",
        "    def __init__(self,\n",
        "                 index       : int,\n",
        "                 expand_dims : bool = False,\n",
        "                 **kwargs\n",
        "                ) :\n",
        "        \"\"\"\n",
        "        Keras layer that slices a tensor along its right-most axis and returns the index provided\n",
        "        \"\"\"\n",
        "        super().__init__(**kwargs)\n",
        "        self.index       = index\n",
        "        self.expand_dims = expand_dims\n",
        "\n",
        "    def call(self,\n",
        "             x   : tf.Tensor,\n",
        "            ) :\n",
        "        \"\"\"\n",
        "        Slices x along its right-most axis and returns the index provided\n",
        "        Output tensor has one fewer dimensions than x unless expand_dims is set to True\n",
        "        \"\"\"\n",
        "        ##  Slice x\n",
        "        y = x[..., self.index]\n",
        "\n",
        "        ##  Expand dims\n",
        "        if self.expand_dims :\n",
        "            y = y[..., None]\n",
        "\n",
        "        ## Return\n",
        "        return y\n",
        "\n",
        "    def get_config(self) :\n",
        "        \"\"\"\n",
        "        Create config dict, needed for saving model to file\n",
        "        \"\"\"\n",
        "        config = super().get_config()\n",
        "        config[\"index\"      ] = self.index\n",
        "        config[\"expand_dims\"] = self.expand_dims\n",
        "        return config\n"
      ],
      "metadata": {
        "id": "TZ_PAFUzwSjC"
      },
      "execution_count": null,
      "outputs": []
    },
    {
      "cell_type": "code",
      "source": [
        "##====================================================##\n",
        "##  Define method for creating our transformer model  ##\n",
        "##====================================================##\n",
        "\n",
        "def create_model(board_size        : int,\n",
        "                 name              : str      = \"Tomformer\",\n",
        "                 ndim              : int      = 64,\n",
        "                 encoder_depth     : int      = 3,\n",
        "                 encoder_num_heads : int      = 8,\n",
        "                 encoder_do_MLP    : bool     = True,\n",
        "                 decoder_depth     : int      = 3,\n",
        "                 decoder_num_heads : int      = 8,\n",
        "                 decoder_do_MLP    : bool     = True,\n",
        "                 MLP_depth         : int      = 2,\n",
        "                 use_bias          : bool     = True,\n",
        "                 dtype                        = tf.float32,\n",
        "                 dtype_in                     = tf.int8,\n",
        "                 learning_rate     : float    = 1e-4,\n",
        "                 loss              : str      = \"binary_crossentropy\",\n",
        "                ) -> tf.keras.models.Model :\n",
        "    \"\"\"\n",
        "    Create keras transformer model and compile with Adam optimiser\n",
        "    \"\"\"\n",
        "\n",
        "    ##  Log model creation\n",
        "    logger.info(f\"Creating transformer model '{name}' with the following settings:\")\n",
        "    logger.info(f\"          board_size: {board_size}\")\n",
        "    logger.info(f\"                ndim: {ndim}\")\n",
        "    logger.info(f\"       encoder_depth: {encoder_depth}\")\n",
        "    logger.info(f\"   encoder_num_heads: {encoder_num_heads}\")\n",
        "    logger.info(f\"      encoder_do_MLP: {encoder_do_MLP}\")\n",
        "    logger.info(f\"       decoder_depth: {decoder_depth}\")\n",
        "    logger.info(f\"   decoder_num_heads: {decoder_num_heads}\")\n",
        "    logger.info(f\"      decoder_do_MLP: {decoder_do_MLP}\")\n",
        "    logger.info(f\"           MLP_depth: {MLP_depth}\")\n",
        "    logger.info(f\"            use_bias: {use_bias}\")\n",
        "    logger.info(f\"               dtype: {dtype}\")\n",
        "    logger.info(f\"            dtype_in: {dtype_in}\")\n",
        "    logger.info(f\"        learning_rate: {learning_rate}\")\n",
        "    logger.info(f\"                 loss: {loss}\")\n",
        "\n",
        "    ##  Input layer, size [S, 2]\n",
        "    x_in = tf.keras.layers.Input(\n",
        "        shape = (None, 2),\n",
        "        dtype = dtype_in,\n",
        "        name  = f\"{name}_input\",\n",
        "    )\n",
        "\n",
        "    ##  Pull x-component from input\n",
        "    Vx_in = RightSlice(\n",
        "        name  = f\"{name}_slice_x\",\n",
        "        index = 0,\n",
        "    )(x_in)\n",
        "\n",
        "    ##  Embed x-component\n",
        "    Vx = tf.keras.layers.Embedding(\n",
        "        name       = f\"{name}_encoder_embed_x\",\n",
        "        input_dim  = board_size + 3,\n",
        "        output_dim = ndim,\n",
        "        mask_zero  = True,\n",
        "    )(Vx_in)\n",
        "\n",
        "    ##  Pull y-component from input\n",
        "    Vy_in = RightSlice(\n",
        "        name  = f\"{name}_slice_y\",\n",
        "        index = 0,\n",
        "    )(x_in)\n",
        "\n",
        "    ##  Embed y-component\n",
        "    Vy = tf.keras.layers.Embedding(\n",
        "        name       = f\"{name}_encoder_embed_y\",\n",
        "        input_dim  = board_size + 3,\n",
        "        output_dim = ndim,\n",
        "        mask_zero  = True,\n",
        "    )(Vy_in)\n",
        "\n",
        "    ##  Combine x and y embeddings by addition\n",
        "    x = tf.keras.layers.Add(\n",
        "        name = f\"{name}_encoder_combine_x_y\",\n",
        "    )([Vx, Vy])\n",
        "\n",
        "    ##  Loop over encoder blocks\n",
        "    for layer_idx in range(encoder_depth) :\n",
        "\n",
        "        ##  Normalise x\n",
        "        m = tf.keras.layers.LayerNormalization(\n",
        "            name  = f\"{name}_encoder_LN0_layer{layer_idx}\",\n",
        "            dtype = dtype,\n",
        "        )(x)\n",
        "\n",
        "        ##  Calculate self-attention\n",
        "        m = tf.keras.layers.MultiHeadAttention(\n",
        "            name      = f\"{name}_encoder_MHSA_layer{layer_idx}\",\n",
        "            num_heads = encoder_num_heads,\n",
        "            key_dim   = ndim,\n",
        "            use_bias  = use_bias,\n",
        "            dtype     = dtype,\n",
        "        )(m, m)\n",
        "\n",
        "        ##  Add back to residual stream\n",
        "        x = tf.keras.layers.Add(\n",
        "            name = f\"{name}_encoder_add0_layer{layer_idx}\",\n",
        "        )([x, m])\n",
        "\n",
        "        ##  If no MLP then continue loop\n",
        "        if not encoder_do_MLP : continue\n",
        "\n",
        "        ##  Normalise x\n",
        "        m = tf.keras.layers.LayerNormalization(\n",
        "            name  = f\"{name}_encoder_LN1_layer{layer_idx}\",\n",
        "            dtype = dtype,\n",
        "        )(x)\n",
        "\n",
        "        ##  Calculate feed-forward block\n",
        "        m = tf.keras.layers.Dense(\n",
        "            name       = f\"{name}_encoder_MLP0_layer{layer_idx}\",\n",
        "            units      = 4*ndim,\n",
        "            use_bias   = use_bias,\n",
        "            activation = \"relu\",\n",
        "            dtype      = dtype,\n",
        "        )(m)\n",
        "        m = tf.keras.layers.Dense(\n",
        "            name       = f\"{name}_encoder_MLP1_layer{layer_idx}\",\n",
        "            units      = ndim,\n",
        "            use_bias   = use_bias,\n",
        "            activation = \"linear\",\n",
        "            dtype      = dtype,\n",
        "        )(m)\n",
        "\n",
        "        ##  Add back to residual stream\n",
        "        x = tf.keras.layers.Add(\n",
        "            name = f\"{name}_encoder_add1_layer{layer_idx}\",\n",
        "        )([x, m])\n",
        "\n",
        "    ##  Normalise x\n",
        "    x = tf.keras.layers.LayerNormalization(\n",
        "        name  = f\"{name}_encoder_post_LN\",\n",
        "        dtype = dtype,\n",
        "    )(x)\n",
        "\n",
        "    ##  Enumerate grid of pixels x and y for decoder\n",
        "    Vx, Vy = EnumerateGrid(\n",
        "        name = f\"{name}_decoder_enum_grid\",\n",
        "        xmax = board_size,\n",
        "    )(x)\n",
        "\n",
        "    ##  Embed x-component\n",
        "    Vx = tf.keras.layers.Embedding(\n",
        "        name       = f\"{name}_decoder_embed_x\",\n",
        "        input_dim  = board_size,\n",
        "        output_dim = ndim,\n",
        "        mask_zero  = False,\n",
        "    )(Vx)\n",
        "\n",
        "    ##  Embed y-component\n",
        "    Vy = tf.keras.layers.Embedding(\n",
        "        name       = f\"{name}_decoder_embed_y\",\n",
        "        input_dim  = board_size,\n",
        "        output_dim = ndim,\n",
        "        mask_zero  = False,\n",
        "    )(Vy)\n",
        "\n",
        "    ##  Combine x and y embeddings by addition\n",
        "    y = tf.keras.layers.Add(\n",
        "        name = f\"{name}_decoder_combine_x_y\",\n",
        "    )([Vx, Vy])\n",
        "\n",
        "    ##  Loop over decoder blocks\n",
        "    for layer_idx in range(decoder_depth) :\n",
        "\n",
        "        ##  Normalise y\n",
        "        m = tf.keras.layers.LayerNormalization(\n",
        "            name  = f\"{name}_decoder_LN0_layer{layer_idx}\",\n",
        "            dtype = dtype,\n",
        "        )(y)\n",
        "\n",
        "        ##  Calculate cross-attention\n",
        "        m = tf.keras.layers.MultiHeadAttention(\n",
        "            name      = f\"{name}_decoder_MHCA_layer{layer_idx}\",\n",
        "            num_heads = decoder_num_heads,\n",
        "            key_dim   = ndim,\n",
        "            use_bias  = use_bias,\n",
        "            dtype     = dtype,\n",
        "        )(m, x)\n",
        "\n",
        "        ##  Add back to residual stream\n",
        "        y = tf.keras.layers.Add(\n",
        "            name = f\"{name}_decoder_add0_layer{layer_idx}\",\n",
        "        )([y, m])\n",
        "\n",
        "        ##  Normalise y\n",
        "        m = tf.keras.layers.LayerNormalization(\n",
        "            name  = f\"{name}_decoder_LN1_layer{layer_idx}\",\n",
        "            dtype = dtype,\n",
        "        )(y)\n",
        "\n",
        "        ##  Calculate self-attention\n",
        "        m = tf.keras.layers.MultiHeadAttention(\n",
        "            name      = f\"{name}_decoder_MHSA_layer{layer_idx}\",\n",
        "            num_heads = decoder_num_heads,\n",
        "            key_dim   = ndim,\n",
        "            use_bias  = use_bias,\n",
        "            dtype     = dtype,\n",
        "        )(m, m)\n",
        "\n",
        "        ##  Add back to residual stream\n",
        "        y = tf.keras.layers.Add(\n",
        "            name = f\"{name}_decoder_add1_layer{layer_idx}\",\n",
        "        )([y, m])\n",
        "\n",
        "        ##  If no MLP then continue loop\n",
        "        if not decoder_do_MLP : continue\n",
        "\n",
        "        ##  Normalise y\n",
        "        m = tf.keras.layers.LayerNormalization(\n",
        "            name  = f\"{name}_decoder_LN2_layer{layer_idx}\",\n",
        "            dtype = dtype,\n",
        "        )(y)\n",
        "\n",
        "        ##  Calculate feed-forward block\n",
        "        m = tf.keras.layers.Dense(\n",
        "            name       = f\"{name}_decoder_MLP0_layer{layer_idx}\",\n",
        "            units      = 4*ndim,\n",
        "            use_bias   = use_bias,\n",
        "            activation = \"relu\",\n",
        "            dtype      = dtype,\n",
        "        )(m)\n",
        "        m = tf.keras.layers.Dense(\n",
        "            name       = f\"{name}_decoder_MLP1_layer{layer_idx}\",\n",
        "            units      = ndim,\n",
        "            use_bias   = use_bias,\n",
        "            activation = \"linear\",\n",
        "            dtype      = dtype,\n",
        "        )(m)\n",
        "\n",
        "        ##  Add back to residual stream\n",
        "        y = tf.keras.layers.Add(\n",
        "            name = f\"{name}_decoder_add2_layer{layer_idx}\",\n",
        "        )([y, m])\n",
        "\n",
        "    ##  Loop over MLP layers\n",
        "    for layer_idx in range(MLP_depth) :\n",
        "\n",
        "        ##  Normalise y\n",
        "        y = tf.keras.layers.LayerNormalization(\n",
        "            name  = f\"{name}_MLP_LN_layer{layer_idx}\",\n",
        "            dtype = dtype,\n",
        "        )(y)\n",
        "\n",
        "        ##  Calculate feed-forward block\n",
        "        y = tf.keras.layers.Dense(\n",
        "            name       = f\"{name}_MLP_layer{layer_idx}\",\n",
        "            units      = 4*ndim,\n",
        "            use_bias   = use_bias,\n",
        "            activation = \"relu\",\n",
        "            dtype      = dtype,\n",
        "        )(y)\n",
        "\n",
        "    y = tf.keras.layers.Dense(\n",
        "        name       = f\"{name}_logits\",\n",
        "        units      = 1,\n",
        "        use_bias   = use_bias,\n",
        "        activation = \"sigmoid\",\n",
        "        dtype      = dtype,\n",
        "    )(y)\n",
        "\n",
        "    ##  Shape to map size\n",
        "    y = tf.keras.layers.Reshape(\n",
        "        name         = f\"{name}_output\",\n",
        "        target_shape = (board_size, board_size),\n",
        "        input_shape  = (board_size*board_size, 1),\n",
        "    )(y)\n",
        "\n",
        "    ##  Create model\n",
        "    model = tf.keras.models.Model(\n",
        "        x_in,\n",
        "        y,\n",
        "        name = name,\n",
        "    )\n",
        "\n",
        "    ##  Compile\n",
        "    model.compile(\n",
        "        loss      = loss,\n",
        "        metrics   = [\"accuracy\"],\n",
        "        optimizer = tf.keras.optimizers.legacy.Adam(learning_rate=learning_rate),\n",
        "    )\n",
        "\n",
        "    ##  Log created model\n",
        "    model.summary(print_fn=logger.info)\n",
        "\n",
        "    ##  Return model\n",
        "    return model"
      ],
      "metadata": {
        "id": "FLeWZqZswaKT"
      },
      "execution_count": null,
      "outputs": []
    },
    {
      "cell_type": "code",
      "source": [
        "##==================================##\n",
        "##  Create transformer keras model  ##\n",
        "##==================================##\n",
        "\n",
        "model = create_model(\n",
        "    board_size = board_size,\n",
        "    **config[\"model\"],\n",
        ")\n"
      ],
      "metadata": {
        "id": "fgDkJI6KwpMT",
        "colab": {
          "base_uri": "https://localhost:8080/"
        },
        "outputId": "37a856d1-1757-4615-bb92-473a47cfc1e7"
      },
      "execution_count": null,
      "outputs": [
        {
          "output_type": "stream",
          "name": "stdout",
          "text": [
            "   INFO 2023-12-05 12:28:33: Creating transformer model 'Tomformer' with the following settings:\n"
          ]
        },
        {
          "output_type": "stream",
          "name": "stderr",
          "text": [
            "INFO:__main__:Creating transformer model 'Tomformer' with the following settings:\n"
          ]
        },
        {
          "output_type": "stream",
          "name": "stdout",
          "text": [
            "   INFO 2023-12-05 12:28:33:           board_size: 4\n"
          ]
        },
        {
          "output_type": "stream",
          "name": "stderr",
          "text": [
            "INFO:__main__:          board_size: 4\n"
          ]
        },
        {
          "output_type": "stream",
          "name": "stdout",
          "text": [
            "   INFO 2023-12-05 12:28:33:                 ndim: 128\n"
          ]
        },
        {
          "output_type": "stream",
          "name": "stderr",
          "text": [
            "INFO:__main__:                ndim: 128\n"
          ]
        },
        {
          "output_type": "stream",
          "name": "stdout",
          "text": [
            "   INFO 2023-12-05 12:28:33:        encoder_depth: 4\n"
          ]
        },
        {
          "output_type": "stream",
          "name": "stderr",
          "text": [
            "INFO:__main__:       encoder_depth: 4\n"
          ]
        },
        {
          "output_type": "stream",
          "name": "stdout",
          "text": [
            "   INFO 2023-12-05 12:28:33:    encoder_num_heads: 8\n"
          ]
        },
        {
          "output_type": "stream",
          "name": "stderr",
          "text": [
            "INFO:__main__:   encoder_num_heads: 8\n"
          ]
        },
        {
          "output_type": "stream",
          "name": "stdout",
          "text": [
            "   INFO 2023-12-05 12:28:33:       encoder_do_MLP: True\n"
          ]
        },
        {
          "output_type": "stream",
          "name": "stderr",
          "text": [
            "INFO:__main__:      encoder_do_MLP: True\n"
          ]
        },
        {
          "output_type": "stream",
          "name": "stdout",
          "text": [
            "   INFO 2023-12-05 12:28:33:        decoder_depth: 4\n"
          ]
        },
        {
          "output_type": "stream",
          "name": "stderr",
          "text": [
            "INFO:__main__:       decoder_depth: 4\n"
          ]
        },
        {
          "output_type": "stream",
          "name": "stdout",
          "text": [
            "   INFO 2023-12-05 12:28:33:    decoder_num_heads: 8\n"
          ]
        },
        {
          "output_type": "stream",
          "name": "stderr",
          "text": [
            "INFO:__main__:   decoder_num_heads: 8\n"
          ]
        },
        {
          "output_type": "stream",
          "name": "stdout",
          "text": [
            "   INFO 2023-12-05 12:28:33:       decoder_do_MLP: True\n"
          ]
        },
        {
          "output_type": "stream",
          "name": "stderr",
          "text": [
            "INFO:__main__:      decoder_do_MLP: True\n"
          ]
        },
        {
          "output_type": "stream",
          "name": "stdout",
          "text": [
            "   INFO 2023-12-05 12:28:33:            MLP_depth: 3\n"
          ]
        },
        {
          "output_type": "stream",
          "name": "stderr",
          "text": [
            "INFO:__main__:           MLP_depth: 3\n"
          ]
        },
        {
          "output_type": "stream",
          "name": "stdout",
          "text": [
            "   INFO 2023-12-05 12:28:33:             use_bias: True\n"
          ]
        },
        {
          "output_type": "stream",
          "name": "stderr",
          "text": [
            "INFO:__main__:            use_bias: True\n"
          ]
        },
        {
          "output_type": "stream",
          "name": "stdout",
          "text": [
            "   INFO 2023-12-05 12:28:33:                dtype: <dtype: 'float32'>\n"
          ]
        },
        {
          "output_type": "stream",
          "name": "stderr",
          "text": [
            "INFO:__main__:               dtype: <dtype: 'float32'>\n"
          ]
        },
        {
          "output_type": "stream",
          "name": "stdout",
          "text": [
            "   INFO 2023-12-05 12:28:33:             dtype_in: <dtype: 'int8'>\n"
          ]
        },
        {
          "output_type": "stream",
          "name": "stderr",
          "text": [
            "INFO:__main__:            dtype_in: <dtype: 'int8'>\n"
          ]
        },
        {
          "output_type": "stream",
          "name": "stdout",
          "text": [
            "   INFO 2023-12-05 12:28:33:         learning_rate: 1e-05\n"
          ]
        },
        {
          "output_type": "stream",
          "name": "stderr",
          "text": [
            "INFO:__main__:        learning_rate: 1e-05\n"
          ]
        },
        {
          "output_type": "stream",
          "name": "stdout",
          "text": [
            "   INFO 2023-12-05 12:28:33:                  loss: binary_crossentropy\n"
          ]
        },
        {
          "output_type": "stream",
          "name": "stderr",
          "text": [
            "INFO:__main__:                 loss: binary_crossentropy\n"
          ]
        },
        {
          "output_type": "stream",
          "name": "stdout",
          "text": [
            "   INFO 2023-12-05 12:28:36: Model: \"Tomformer\"\n"
          ]
        },
        {
          "output_type": "stream",
          "name": "stderr",
          "text": [
            "INFO:__main__:Model: \"Tomformer\"\n"
          ]
        },
        {
          "output_type": "stream",
          "name": "stdout",
          "text": [
            "   INFO 2023-12-05 12:28:36: __________________________________________________________________________________________________\n"
          ]
        },
        {
          "output_type": "stream",
          "name": "stderr",
          "text": [
            "INFO:__main__:__________________________________________________________________________________________________\n"
          ]
        },
        {
          "output_type": "stream",
          "name": "stdout",
          "text": [
            "   INFO 2023-12-05 12:28:36:  Layer (type)                Output Shape                 Param #   Connected to                  \n"
          ]
        },
        {
          "output_type": "stream",
          "name": "stderr",
          "text": [
            "INFO:__main__: Layer (type)                Output Shape                 Param #   Connected to                  \n"
          ]
        },
        {
          "output_type": "stream",
          "name": "stdout",
          "text": [
            "   INFO 2023-12-05 12:28:36: ==================================================================================================\n"
          ]
        },
        {
          "output_type": "stream",
          "name": "stderr",
          "text": [
            "INFO:__main__:==================================================================================================\n"
          ]
        },
        {
          "output_type": "stream",
          "name": "stdout",
          "text": [
            "   INFO 2023-12-05 12:28:36:  Tomformer_input (InputLaye  [(None, None, 2)]            0         []                            \n"
          ]
        },
        {
          "output_type": "stream",
          "name": "stderr",
          "text": [
            "INFO:__main__: Tomformer_input (InputLaye  [(None, None, 2)]            0         []                            \n"
          ]
        },
        {
          "output_type": "stream",
          "name": "stdout",
          "text": [
            "   INFO 2023-12-05 12:28:36:  r)                                                                                               \n"
          ]
        },
        {
          "output_type": "stream",
          "name": "stderr",
          "text": [
            "INFO:__main__: r)                                                                                               \n"
          ]
        },
        {
          "output_type": "stream",
          "name": "stdout",
          "text": [
            "   INFO 2023-12-05 12:28:36:                                                                                                   \n"
          ]
        },
        {
          "output_type": "stream",
          "name": "stderr",
          "text": [
            "INFO:__main__:                                                                                                  \n"
          ]
        },
        {
          "output_type": "stream",
          "name": "stdout",
          "text": [
            "   INFO 2023-12-05 12:28:36:  Tomformer_slice_x (RightSl  (None, None)                 0         ['Tomformer_input[0][0]']     \n"
          ]
        },
        {
          "output_type": "stream",
          "name": "stderr",
          "text": [
            "INFO:__main__: Tomformer_slice_x (RightSl  (None, None)                 0         ['Tomformer_input[0][0]']     \n"
          ]
        },
        {
          "output_type": "stream",
          "name": "stdout",
          "text": [
            "   INFO 2023-12-05 12:28:36:  ice)                                                                                             \n"
          ]
        },
        {
          "output_type": "stream",
          "name": "stderr",
          "text": [
            "INFO:__main__: ice)                                                                                             \n"
          ]
        },
        {
          "output_type": "stream",
          "name": "stdout",
          "text": [
            "   INFO 2023-12-05 12:28:36:                                                                                                   \n"
          ]
        },
        {
          "output_type": "stream",
          "name": "stderr",
          "text": [
            "INFO:__main__:                                                                                                  \n"
          ]
        },
        {
          "output_type": "stream",
          "name": "stdout",
          "text": [
            "   INFO 2023-12-05 12:28:36:  Tomformer_slice_y (RightSl  (None, None)                 0         ['Tomformer_input[0][0]']     \n"
          ]
        },
        {
          "output_type": "stream",
          "name": "stderr",
          "text": [
            "INFO:__main__: Tomformer_slice_y (RightSl  (None, None)                 0         ['Tomformer_input[0][0]']     \n"
          ]
        },
        {
          "output_type": "stream",
          "name": "stdout",
          "text": [
            "   INFO 2023-12-05 12:28:36:  ice)                                                                                             \n"
          ]
        },
        {
          "output_type": "stream",
          "name": "stderr",
          "text": [
            "INFO:__main__: ice)                                                                                             \n"
          ]
        },
        {
          "output_type": "stream",
          "name": "stdout",
          "text": [
            "   INFO 2023-12-05 12:28:36:                                                                                                   \n"
          ]
        },
        {
          "output_type": "stream",
          "name": "stderr",
          "text": [
            "INFO:__main__:                                                                                                  \n"
          ]
        },
        {
          "output_type": "stream",
          "name": "stdout",
          "text": [
            "   INFO 2023-12-05 12:28:36:  Tomformer_encoder_embed_x   (None, None, 128)            896       ['Tomformer_slice_x[0][0]']   \n"
          ]
        },
        {
          "output_type": "stream",
          "name": "stderr",
          "text": [
            "INFO:__main__: Tomformer_encoder_embed_x   (None, None, 128)            896       ['Tomformer_slice_x[0][0]']   \n"
          ]
        },
        {
          "output_type": "stream",
          "name": "stdout",
          "text": [
            "   INFO 2023-12-05 12:28:36:  (Embedding)                                                                                      \n"
          ]
        },
        {
          "output_type": "stream",
          "name": "stderr",
          "text": [
            "INFO:__main__: (Embedding)                                                                                      \n"
          ]
        },
        {
          "output_type": "stream",
          "name": "stdout",
          "text": [
            "   INFO 2023-12-05 12:28:36:                                                                                                   \n"
          ]
        },
        {
          "output_type": "stream",
          "name": "stderr",
          "text": [
            "INFO:__main__:                                                                                                  \n"
          ]
        },
        {
          "output_type": "stream",
          "name": "stdout",
          "text": [
            "   INFO 2023-12-05 12:28:36:  Tomformer_encoder_embed_y   (None, None, 128)            896       ['Tomformer_slice_y[0][0]']   \n"
          ]
        },
        {
          "output_type": "stream",
          "name": "stderr",
          "text": [
            "INFO:__main__: Tomformer_encoder_embed_y   (None, None, 128)            896       ['Tomformer_slice_y[0][0]']   \n"
          ]
        },
        {
          "output_type": "stream",
          "name": "stdout",
          "text": [
            "   INFO 2023-12-05 12:28:36:  (Embedding)                                                                                      \n"
          ]
        },
        {
          "output_type": "stream",
          "name": "stderr",
          "text": [
            "INFO:__main__: (Embedding)                                                                                      \n"
          ]
        },
        {
          "output_type": "stream",
          "name": "stdout",
          "text": [
            "   INFO 2023-12-05 12:28:36:                                                                                                   \n"
          ]
        },
        {
          "output_type": "stream",
          "name": "stderr",
          "text": [
            "INFO:__main__:                                                                                                  \n"
          ]
        },
        {
          "output_type": "stream",
          "name": "stdout",
          "text": [
            "   INFO 2023-12-05 12:28:36:  Tomformer_encoder_combine_  (None, None, 128)            0         ['Tomformer_encoder_embed_x[0]\n"
          ]
        },
        {
          "output_type": "stream",
          "name": "stderr",
          "text": [
            "INFO:__main__: Tomformer_encoder_combine_  (None, None, 128)            0         ['Tomformer_encoder_embed_x[0]\n"
          ]
        },
        {
          "output_type": "stream",
          "name": "stdout",
          "text": [
            "   INFO 2023-12-05 12:28:36:  x_y (Add)                                                          [0]',                         \n"
          ]
        },
        {
          "output_type": "stream",
          "name": "stderr",
          "text": [
            "INFO:__main__: x_y (Add)                                                          [0]',                         \n"
          ]
        },
        {
          "output_type": "stream",
          "name": "stdout",
          "text": [
            "   INFO 2023-12-05 12:28:36:                                                                      'Tomformer_encoder_embed_y[0]\n"
          ]
        },
        {
          "output_type": "stream",
          "name": "stderr",
          "text": [
            "INFO:__main__:                                                                     'Tomformer_encoder_embed_y[0]\n"
          ]
        },
        {
          "output_type": "stream",
          "name": "stdout",
          "text": [
            "   INFO 2023-12-05 12:28:36:                                                                     [0]']                         \n"
          ]
        },
        {
          "output_type": "stream",
          "name": "stderr",
          "text": [
            "INFO:__main__:                                                                    [0]']                         \n"
          ]
        },
        {
          "output_type": "stream",
          "name": "stdout",
          "text": [
            "   INFO 2023-12-05 12:28:36:                                                                                                   \n"
          ]
        },
        {
          "output_type": "stream",
          "name": "stderr",
          "text": [
            "INFO:__main__:                                                                                                  \n"
          ]
        },
        {
          "output_type": "stream",
          "name": "stdout",
          "text": [
            "   INFO 2023-12-05 12:28:36:  Tomformer_encoder_LN0_laye  (None, None, 128)            256       ['Tomformer_encoder_combine_x_\n"
          ]
        },
        {
          "output_type": "stream",
          "name": "stderr",
          "text": [
            "INFO:__main__: Tomformer_encoder_LN0_laye  (None, None, 128)            256       ['Tomformer_encoder_combine_x_\n"
          ]
        },
        {
          "output_type": "stream",
          "name": "stdout",
          "text": [
            "   INFO 2023-12-05 12:28:36:  r0 (LayerNormalization)                                            y[0][0]']                     \n"
          ]
        },
        {
          "output_type": "stream",
          "name": "stderr",
          "text": [
            "INFO:__main__: r0 (LayerNormalization)                                            y[0][0]']                     \n"
          ]
        },
        {
          "output_type": "stream",
          "name": "stdout",
          "text": [
            "   INFO 2023-12-05 12:28:36:                                                                                                   \n"
          ]
        },
        {
          "output_type": "stream",
          "name": "stderr",
          "text": [
            "INFO:__main__:                                                                                                  \n"
          ]
        },
        {
          "output_type": "stream",
          "name": "stdout",
          "text": [
            "   INFO 2023-12-05 12:28:36:  Tomformer_encoder_MHSA_lay  (None, None, 128)            527488    ['Tomformer_encoder_LN0_layer0\n"
          ]
        },
        {
          "output_type": "stream",
          "name": "stderr",
          "text": [
            "INFO:__main__: Tomformer_encoder_MHSA_lay  (None, None, 128)            527488    ['Tomformer_encoder_LN0_layer0\n"
          ]
        },
        {
          "output_type": "stream",
          "name": "stdout",
          "text": [
            "   INFO 2023-12-05 12:28:36:  er0 (MultiHeadAttention)                                           [0][0]',                      \n"
          ]
        },
        {
          "output_type": "stream",
          "name": "stderr",
          "text": [
            "INFO:__main__: er0 (MultiHeadAttention)                                           [0][0]',                      \n"
          ]
        },
        {
          "output_type": "stream",
          "name": "stdout",
          "text": [
            "   INFO 2023-12-05 12:28:36:                                                                      'Tomformer_encoder_LN0_layer0\n"
          ]
        },
        {
          "output_type": "stream",
          "name": "stderr",
          "text": [
            "INFO:__main__:                                                                     'Tomformer_encoder_LN0_layer0\n"
          ]
        },
        {
          "output_type": "stream",
          "name": "stdout",
          "text": [
            "   INFO 2023-12-05 12:28:36:                                                                     [0][0]']                      \n"
          ]
        },
        {
          "output_type": "stream",
          "name": "stderr",
          "text": [
            "INFO:__main__:                                                                    [0][0]']                      \n"
          ]
        },
        {
          "output_type": "stream",
          "name": "stdout",
          "text": [
            "   INFO 2023-12-05 12:28:36:                                                                                                   \n"
          ]
        },
        {
          "output_type": "stream",
          "name": "stderr",
          "text": [
            "INFO:__main__:                                                                                                  \n"
          ]
        },
        {
          "output_type": "stream",
          "name": "stdout",
          "text": [
            "   INFO 2023-12-05 12:28:36:  Tomformer_encoder_add0_lay  (None, None, 128)            0         ['Tomformer_encoder_combine_x_\n"
          ]
        },
        {
          "output_type": "stream",
          "name": "stderr",
          "text": [
            "INFO:__main__: Tomformer_encoder_add0_lay  (None, None, 128)            0         ['Tomformer_encoder_combine_x_\n"
          ]
        },
        {
          "output_type": "stream",
          "name": "stdout",
          "text": [
            "   INFO 2023-12-05 12:28:36:  er0 (Add)                                                          y[0][0]',                     \n"
          ]
        },
        {
          "output_type": "stream",
          "name": "stderr",
          "text": [
            "INFO:__main__: er0 (Add)                                                          y[0][0]',                     \n"
          ]
        },
        {
          "output_type": "stream",
          "name": "stdout",
          "text": [
            "   INFO 2023-12-05 12:28:36:                                                                      'Tomformer_encoder_MHSA_layer\n"
          ]
        },
        {
          "output_type": "stream",
          "name": "stderr",
          "text": [
            "INFO:__main__:                                                                     'Tomformer_encoder_MHSA_layer\n"
          ]
        },
        {
          "output_type": "stream",
          "name": "stdout",
          "text": [
            "   INFO 2023-12-05 12:28:36:                                                                     0[0][0]']                     \n"
          ]
        },
        {
          "output_type": "stream",
          "name": "stderr",
          "text": [
            "INFO:__main__:                                                                    0[0][0]']                     \n"
          ]
        },
        {
          "output_type": "stream",
          "name": "stdout",
          "text": [
            "   INFO 2023-12-05 12:28:36:                                                                                                   \n"
          ]
        },
        {
          "output_type": "stream",
          "name": "stderr",
          "text": [
            "INFO:__main__:                                                                                                  \n"
          ]
        },
        {
          "output_type": "stream",
          "name": "stdout",
          "text": [
            "   INFO 2023-12-05 12:28:36:  Tomformer_encoder_LN1_laye  (None, None, 128)            256       ['Tomformer_encoder_add0_layer\n"
          ]
        },
        {
          "output_type": "stream",
          "name": "stderr",
          "text": [
            "INFO:__main__: Tomformer_encoder_LN1_laye  (None, None, 128)            256       ['Tomformer_encoder_add0_layer\n"
          ]
        },
        {
          "output_type": "stream",
          "name": "stdout",
          "text": [
            "   INFO 2023-12-05 12:28:36:  r0 (LayerNormalization)                                            0[0][0]']                     \n"
          ]
        },
        {
          "output_type": "stream",
          "name": "stderr",
          "text": [
            "INFO:__main__: r0 (LayerNormalization)                                            0[0][0]']                     \n"
          ]
        },
        {
          "output_type": "stream",
          "name": "stdout",
          "text": [
            "   INFO 2023-12-05 12:28:36:                                                                                                   \n"
          ]
        },
        {
          "output_type": "stream",
          "name": "stderr",
          "text": [
            "INFO:__main__:                                                                                                  \n"
          ]
        },
        {
          "output_type": "stream",
          "name": "stdout",
          "text": [
            "   INFO 2023-12-05 12:28:36:  Tomformer_encoder_MLP0_lay  (None, None, 512)            66048     ['Tomformer_encoder_LN1_layer0\n"
          ]
        },
        {
          "output_type": "stream",
          "name": "stderr",
          "text": [
            "INFO:__main__: Tomformer_encoder_MLP0_lay  (None, None, 512)            66048     ['Tomformer_encoder_LN1_layer0\n"
          ]
        },
        {
          "output_type": "stream",
          "name": "stdout",
          "text": [
            "   INFO 2023-12-05 12:28:36:  er0 (Dense)                                                        [0][0]']                      \n"
          ]
        },
        {
          "output_type": "stream",
          "name": "stderr",
          "text": [
            "INFO:__main__: er0 (Dense)                                                        [0][0]']                      \n"
          ]
        },
        {
          "output_type": "stream",
          "name": "stdout",
          "text": [
            "   INFO 2023-12-05 12:28:36:                                                                                                   \n"
          ]
        },
        {
          "output_type": "stream",
          "name": "stderr",
          "text": [
            "INFO:__main__:                                                                                                  \n"
          ]
        },
        {
          "output_type": "stream",
          "name": "stdout",
          "text": [
            "   INFO 2023-12-05 12:28:36:  Tomformer_encoder_MLP1_lay  (None, None, 128)            65664     ['Tomformer_encoder_MLP0_layer\n"
          ]
        },
        {
          "output_type": "stream",
          "name": "stderr",
          "text": [
            "INFO:__main__: Tomformer_encoder_MLP1_lay  (None, None, 128)            65664     ['Tomformer_encoder_MLP0_layer\n"
          ]
        },
        {
          "output_type": "stream",
          "name": "stdout",
          "text": [
            "   INFO 2023-12-05 12:28:36:  er0 (Dense)                                                        0[0][0]']                     \n"
          ]
        },
        {
          "output_type": "stream",
          "name": "stderr",
          "text": [
            "INFO:__main__: er0 (Dense)                                                        0[0][0]']                     \n"
          ]
        },
        {
          "output_type": "stream",
          "name": "stdout",
          "text": [
            "   INFO 2023-12-05 12:28:36:                                                                                                   \n"
          ]
        },
        {
          "output_type": "stream",
          "name": "stderr",
          "text": [
            "INFO:__main__:                                                                                                  \n"
          ]
        },
        {
          "output_type": "stream",
          "name": "stdout",
          "text": [
            "   INFO 2023-12-05 12:28:36:  Tomformer_encoder_add1_lay  (None, None, 128)            0         ['Tomformer_encoder_add0_layer\n"
          ]
        },
        {
          "output_type": "stream",
          "name": "stderr",
          "text": [
            "INFO:__main__: Tomformer_encoder_add1_lay  (None, None, 128)            0         ['Tomformer_encoder_add0_layer\n"
          ]
        },
        {
          "output_type": "stream",
          "name": "stdout",
          "text": [
            "   INFO 2023-12-05 12:28:36:  er0 (Add)                                                          0[0][0]',                     \n"
          ]
        },
        {
          "output_type": "stream",
          "name": "stderr",
          "text": [
            "INFO:__main__: er0 (Add)                                                          0[0][0]',                     \n"
          ]
        },
        {
          "output_type": "stream",
          "name": "stdout",
          "text": [
            "   INFO 2023-12-05 12:28:36:                                                                      'Tomformer_encoder_MLP1_layer\n"
          ]
        },
        {
          "output_type": "stream",
          "name": "stderr",
          "text": [
            "INFO:__main__:                                                                     'Tomformer_encoder_MLP1_layer\n"
          ]
        },
        {
          "output_type": "stream",
          "name": "stdout",
          "text": [
            "   INFO 2023-12-05 12:28:36:                                                                     0[0][0]']                     \n"
          ]
        },
        {
          "output_type": "stream",
          "name": "stderr",
          "text": [
            "INFO:__main__:                                                                    0[0][0]']                     \n"
          ]
        },
        {
          "output_type": "stream",
          "name": "stdout",
          "text": [
            "   INFO 2023-12-05 12:28:36:                                                                                                   \n"
          ]
        },
        {
          "output_type": "stream",
          "name": "stderr",
          "text": [
            "INFO:__main__:                                                                                                  \n"
          ]
        },
        {
          "output_type": "stream",
          "name": "stdout",
          "text": [
            "   INFO 2023-12-05 12:28:36:  Tomformer_encoder_LN0_laye  (None, None, 128)            256       ['Tomformer_encoder_add1_layer\n"
          ]
        },
        {
          "output_type": "stream",
          "name": "stderr",
          "text": [
            "INFO:__main__: Tomformer_encoder_LN0_laye  (None, None, 128)            256       ['Tomformer_encoder_add1_layer\n"
          ]
        },
        {
          "output_type": "stream",
          "name": "stdout",
          "text": [
            "   INFO 2023-12-05 12:28:36:  r1 (LayerNormalization)                                            0[0][0]']                     \n"
          ]
        },
        {
          "output_type": "stream",
          "name": "stderr",
          "text": [
            "INFO:__main__: r1 (LayerNormalization)                                            0[0][0]']                     \n"
          ]
        },
        {
          "output_type": "stream",
          "name": "stdout",
          "text": [
            "   INFO 2023-12-05 12:28:36:                                                                                                   \n"
          ]
        },
        {
          "output_type": "stream",
          "name": "stderr",
          "text": [
            "INFO:__main__:                                                                                                  \n"
          ]
        },
        {
          "output_type": "stream",
          "name": "stdout",
          "text": [
            "   INFO 2023-12-05 12:28:36:  Tomformer_encoder_MHSA_lay  (None, None, 128)            527488    ['Tomformer_encoder_LN0_layer1\n"
          ]
        },
        {
          "output_type": "stream",
          "name": "stderr",
          "text": [
            "INFO:__main__: Tomformer_encoder_MHSA_lay  (None, None, 128)            527488    ['Tomformer_encoder_LN0_layer1\n"
          ]
        },
        {
          "output_type": "stream",
          "name": "stdout",
          "text": [
            "   INFO 2023-12-05 12:28:36:  er1 (MultiHeadAttention)                                           [0][0]',                      \n"
          ]
        },
        {
          "output_type": "stream",
          "name": "stderr",
          "text": [
            "INFO:__main__: er1 (MultiHeadAttention)                                           [0][0]',                      \n"
          ]
        },
        {
          "output_type": "stream",
          "name": "stdout",
          "text": [
            "   INFO 2023-12-05 12:28:36:                                                                      'Tomformer_encoder_LN0_layer1\n"
          ]
        },
        {
          "output_type": "stream",
          "name": "stderr",
          "text": [
            "INFO:__main__:                                                                     'Tomformer_encoder_LN0_layer1\n"
          ]
        },
        {
          "output_type": "stream",
          "name": "stdout",
          "text": [
            "   INFO 2023-12-05 12:28:36:                                                                     [0][0]']                      \n"
          ]
        },
        {
          "output_type": "stream",
          "name": "stderr",
          "text": [
            "INFO:__main__:                                                                    [0][0]']                      \n"
          ]
        },
        {
          "output_type": "stream",
          "name": "stdout",
          "text": [
            "   INFO 2023-12-05 12:28:36:                                                                                                   \n"
          ]
        },
        {
          "output_type": "stream",
          "name": "stderr",
          "text": [
            "INFO:__main__:                                                                                                  \n"
          ]
        },
        {
          "output_type": "stream",
          "name": "stdout",
          "text": [
            "   INFO 2023-12-05 12:28:36:  Tomformer_encoder_add0_lay  (None, None, 128)            0         ['Tomformer_encoder_add1_layer\n"
          ]
        },
        {
          "output_type": "stream",
          "name": "stderr",
          "text": [
            "INFO:__main__: Tomformer_encoder_add0_lay  (None, None, 128)            0         ['Tomformer_encoder_add1_layer\n"
          ]
        },
        {
          "output_type": "stream",
          "name": "stdout",
          "text": [
            "   INFO 2023-12-05 12:28:36:  er1 (Add)                                                          0[0][0]',                     \n"
          ]
        },
        {
          "output_type": "stream",
          "name": "stderr",
          "text": [
            "INFO:__main__: er1 (Add)                                                          0[0][0]',                     \n"
          ]
        },
        {
          "output_type": "stream",
          "name": "stdout",
          "text": [
            "   INFO 2023-12-05 12:28:36:                                                                      'Tomformer_encoder_MHSA_layer\n"
          ]
        },
        {
          "output_type": "stream",
          "name": "stderr",
          "text": [
            "INFO:__main__:                                                                     'Tomformer_encoder_MHSA_layer\n"
          ]
        },
        {
          "output_type": "stream",
          "name": "stdout",
          "text": [
            "   INFO 2023-12-05 12:28:36:                                                                     1[0][0]']                     \n"
          ]
        },
        {
          "output_type": "stream",
          "name": "stderr",
          "text": [
            "INFO:__main__:                                                                    1[0][0]']                     \n"
          ]
        },
        {
          "output_type": "stream",
          "name": "stdout",
          "text": [
            "   INFO 2023-12-05 12:28:36:                                                                                                   \n"
          ]
        },
        {
          "output_type": "stream",
          "name": "stderr",
          "text": [
            "INFO:__main__:                                                                                                  \n"
          ]
        },
        {
          "output_type": "stream",
          "name": "stdout",
          "text": [
            "   INFO 2023-12-05 12:28:36:  Tomformer_encoder_LN1_laye  (None, None, 128)            256       ['Tomformer_encoder_add0_layer\n"
          ]
        },
        {
          "output_type": "stream",
          "name": "stderr",
          "text": [
            "INFO:__main__: Tomformer_encoder_LN1_laye  (None, None, 128)            256       ['Tomformer_encoder_add0_layer\n"
          ]
        },
        {
          "output_type": "stream",
          "name": "stdout",
          "text": [
            "   INFO 2023-12-05 12:28:36:  r1 (LayerNormalization)                                            1[0][0]']                     \n"
          ]
        },
        {
          "output_type": "stream",
          "name": "stderr",
          "text": [
            "INFO:__main__: r1 (LayerNormalization)                                            1[0][0]']                     \n"
          ]
        },
        {
          "output_type": "stream",
          "name": "stdout",
          "text": [
            "   INFO 2023-12-05 12:28:36:                                                                                                   \n"
          ]
        },
        {
          "output_type": "stream",
          "name": "stderr",
          "text": [
            "INFO:__main__:                                                                                                  \n"
          ]
        },
        {
          "output_type": "stream",
          "name": "stdout",
          "text": [
            "   INFO 2023-12-05 12:28:36:  Tomformer_encoder_MLP0_lay  (None, None, 512)            66048     ['Tomformer_encoder_LN1_layer1\n"
          ]
        },
        {
          "output_type": "stream",
          "name": "stderr",
          "text": [
            "INFO:__main__: Tomformer_encoder_MLP0_lay  (None, None, 512)            66048     ['Tomformer_encoder_LN1_layer1\n"
          ]
        },
        {
          "output_type": "stream",
          "name": "stdout",
          "text": [
            "   INFO 2023-12-05 12:28:36:  er1 (Dense)                                                        [0][0]']                      \n"
          ]
        },
        {
          "output_type": "stream",
          "name": "stderr",
          "text": [
            "INFO:__main__: er1 (Dense)                                                        [0][0]']                      \n"
          ]
        },
        {
          "output_type": "stream",
          "name": "stdout",
          "text": [
            "   INFO 2023-12-05 12:28:36:                                                                                                   \n"
          ]
        },
        {
          "output_type": "stream",
          "name": "stderr",
          "text": [
            "INFO:__main__:                                                                                                  \n"
          ]
        },
        {
          "output_type": "stream",
          "name": "stdout",
          "text": [
            "   INFO 2023-12-05 12:28:36:  Tomformer_encoder_MLP1_lay  (None, None, 128)            65664     ['Tomformer_encoder_MLP0_layer\n"
          ]
        },
        {
          "output_type": "stream",
          "name": "stderr",
          "text": [
            "INFO:__main__: Tomformer_encoder_MLP1_lay  (None, None, 128)            65664     ['Tomformer_encoder_MLP0_layer\n"
          ]
        },
        {
          "output_type": "stream",
          "name": "stdout",
          "text": [
            "   INFO 2023-12-05 12:28:36:  er1 (Dense)                                                        1[0][0]']                     \n"
          ]
        },
        {
          "output_type": "stream",
          "name": "stderr",
          "text": [
            "INFO:__main__: er1 (Dense)                                                        1[0][0]']                     \n"
          ]
        },
        {
          "output_type": "stream",
          "name": "stdout",
          "text": [
            "   INFO 2023-12-05 12:28:36:                                                                                                   \n"
          ]
        },
        {
          "output_type": "stream",
          "name": "stderr",
          "text": [
            "INFO:__main__:                                                                                                  \n"
          ]
        },
        {
          "output_type": "stream",
          "name": "stdout",
          "text": [
            "   INFO 2023-12-05 12:28:36:  Tomformer_encoder_add1_lay  (None, None, 128)            0         ['Tomformer_encoder_add0_layer\n"
          ]
        },
        {
          "output_type": "stream",
          "name": "stderr",
          "text": [
            "INFO:__main__: Tomformer_encoder_add1_lay  (None, None, 128)            0         ['Tomformer_encoder_add0_layer\n"
          ]
        },
        {
          "output_type": "stream",
          "name": "stdout",
          "text": [
            "   INFO 2023-12-05 12:28:36:  er1 (Add)                                                          1[0][0]',                     \n"
          ]
        },
        {
          "output_type": "stream",
          "name": "stderr",
          "text": [
            "INFO:__main__: er1 (Add)                                                          1[0][0]',                     \n"
          ]
        },
        {
          "output_type": "stream",
          "name": "stdout",
          "text": [
            "   INFO 2023-12-05 12:28:36:                                                                      'Tomformer_encoder_MLP1_layer\n"
          ]
        },
        {
          "output_type": "stream",
          "name": "stderr",
          "text": [
            "INFO:__main__:                                                                     'Tomformer_encoder_MLP1_layer\n"
          ]
        },
        {
          "output_type": "stream",
          "name": "stdout",
          "text": [
            "   INFO 2023-12-05 12:28:36:                                                                     1[0][0]']                     \n"
          ]
        },
        {
          "output_type": "stream",
          "name": "stderr",
          "text": [
            "INFO:__main__:                                                                    1[0][0]']                     \n"
          ]
        },
        {
          "output_type": "stream",
          "name": "stdout",
          "text": [
            "   INFO 2023-12-05 12:28:36:                                                                                                   \n"
          ]
        },
        {
          "output_type": "stream",
          "name": "stderr",
          "text": [
            "INFO:__main__:                                                                                                  \n"
          ]
        },
        {
          "output_type": "stream",
          "name": "stdout",
          "text": [
            "   INFO 2023-12-05 12:28:36:  Tomformer_encoder_LN0_laye  (None, None, 128)            256       ['Tomformer_encoder_add1_layer\n"
          ]
        },
        {
          "output_type": "stream",
          "name": "stderr",
          "text": [
            "INFO:__main__: Tomformer_encoder_LN0_laye  (None, None, 128)            256       ['Tomformer_encoder_add1_layer\n"
          ]
        },
        {
          "output_type": "stream",
          "name": "stdout",
          "text": [
            "   INFO 2023-12-05 12:28:36:  r2 (LayerNormalization)                                            1[0][0]']                     \n"
          ]
        },
        {
          "output_type": "stream",
          "name": "stderr",
          "text": [
            "INFO:__main__: r2 (LayerNormalization)                                            1[0][0]']                     \n"
          ]
        },
        {
          "output_type": "stream",
          "name": "stdout",
          "text": [
            "   INFO 2023-12-05 12:28:36:                                                                                                   \n"
          ]
        },
        {
          "output_type": "stream",
          "name": "stderr",
          "text": [
            "INFO:__main__:                                                                                                  \n"
          ]
        },
        {
          "output_type": "stream",
          "name": "stdout",
          "text": [
            "   INFO 2023-12-05 12:28:36:  Tomformer_encoder_MHSA_lay  (None, None, 128)            527488    ['Tomformer_encoder_LN0_layer2\n"
          ]
        },
        {
          "output_type": "stream",
          "name": "stderr",
          "text": [
            "INFO:__main__: Tomformer_encoder_MHSA_lay  (None, None, 128)            527488    ['Tomformer_encoder_LN0_layer2\n"
          ]
        },
        {
          "output_type": "stream",
          "name": "stdout",
          "text": [
            "   INFO 2023-12-05 12:28:36:  er2 (MultiHeadAttention)                                           [0][0]',                      \n"
          ]
        },
        {
          "output_type": "stream",
          "name": "stderr",
          "text": [
            "INFO:__main__: er2 (MultiHeadAttention)                                           [0][0]',                      \n"
          ]
        },
        {
          "output_type": "stream",
          "name": "stdout",
          "text": [
            "   INFO 2023-12-05 12:28:36:                                                                      'Tomformer_encoder_LN0_layer2\n"
          ]
        },
        {
          "output_type": "stream",
          "name": "stderr",
          "text": [
            "INFO:__main__:                                                                     'Tomformer_encoder_LN0_layer2\n"
          ]
        },
        {
          "output_type": "stream",
          "name": "stdout",
          "text": [
            "   INFO 2023-12-05 12:28:36:                                                                     [0][0]']                      \n"
          ]
        },
        {
          "output_type": "stream",
          "name": "stderr",
          "text": [
            "INFO:__main__:                                                                    [0][0]']                      \n"
          ]
        },
        {
          "output_type": "stream",
          "name": "stdout",
          "text": [
            "   INFO 2023-12-05 12:28:36:                                                                                                   \n"
          ]
        },
        {
          "output_type": "stream",
          "name": "stderr",
          "text": [
            "INFO:__main__:                                                                                                  \n"
          ]
        },
        {
          "output_type": "stream",
          "name": "stdout",
          "text": [
            "   INFO 2023-12-05 12:28:36:  Tomformer_encoder_add0_lay  (None, None, 128)            0         ['Tomformer_encoder_add1_layer\n"
          ]
        },
        {
          "output_type": "stream",
          "name": "stderr",
          "text": [
            "INFO:__main__: Tomformer_encoder_add0_lay  (None, None, 128)            0         ['Tomformer_encoder_add1_layer\n"
          ]
        },
        {
          "output_type": "stream",
          "name": "stdout",
          "text": [
            "   INFO 2023-12-05 12:28:37:  er2 (Add)                                                          1[0][0]',                     \n"
          ]
        },
        {
          "output_type": "stream",
          "name": "stderr",
          "text": [
            "INFO:__main__: er2 (Add)                                                          1[0][0]',                     \n"
          ]
        },
        {
          "output_type": "stream",
          "name": "stdout",
          "text": [
            "   INFO 2023-12-05 12:28:37:                                                                      'Tomformer_encoder_MHSA_layer\n"
          ]
        },
        {
          "output_type": "stream",
          "name": "stderr",
          "text": [
            "INFO:__main__:                                                                     'Tomformer_encoder_MHSA_layer\n"
          ]
        },
        {
          "output_type": "stream",
          "name": "stdout",
          "text": [
            "   INFO 2023-12-05 12:28:37:                                                                     2[0][0]']                     \n"
          ]
        },
        {
          "output_type": "stream",
          "name": "stderr",
          "text": [
            "INFO:__main__:                                                                    2[0][0]']                     \n"
          ]
        },
        {
          "output_type": "stream",
          "name": "stdout",
          "text": [
            "   INFO 2023-12-05 12:28:37:                                                                                                   \n"
          ]
        },
        {
          "output_type": "stream",
          "name": "stderr",
          "text": [
            "INFO:__main__:                                                                                                  \n"
          ]
        },
        {
          "output_type": "stream",
          "name": "stdout",
          "text": [
            "   INFO 2023-12-05 12:28:37:  Tomformer_encoder_LN1_laye  (None, None, 128)            256       ['Tomformer_encoder_add0_layer\n"
          ]
        },
        {
          "output_type": "stream",
          "name": "stderr",
          "text": [
            "INFO:__main__: Tomformer_encoder_LN1_laye  (None, None, 128)            256       ['Tomformer_encoder_add0_layer\n"
          ]
        },
        {
          "output_type": "stream",
          "name": "stdout",
          "text": [
            "   INFO 2023-12-05 12:28:37:  r2 (LayerNormalization)                                            2[0][0]']                     \n"
          ]
        },
        {
          "output_type": "stream",
          "name": "stderr",
          "text": [
            "INFO:__main__: r2 (LayerNormalization)                                            2[0][0]']                     \n"
          ]
        },
        {
          "output_type": "stream",
          "name": "stdout",
          "text": [
            "   INFO 2023-12-05 12:28:37:                                                                                                   \n"
          ]
        },
        {
          "output_type": "stream",
          "name": "stderr",
          "text": [
            "INFO:__main__:                                                                                                  \n"
          ]
        },
        {
          "output_type": "stream",
          "name": "stdout",
          "text": [
            "   INFO 2023-12-05 12:28:37:  Tomformer_encoder_MLP0_lay  (None, None, 512)            66048     ['Tomformer_encoder_LN1_layer2\n"
          ]
        },
        {
          "output_type": "stream",
          "name": "stderr",
          "text": [
            "INFO:__main__: Tomformer_encoder_MLP0_lay  (None, None, 512)            66048     ['Tomformer_encoder_LN1_layer2\n"
          ]
        },
        {
          "output_type": "stream",
          "name": "stdout",
          "text": [
            "   INFO 2023-12-05 12:28:37:  er2 (Dense)                                                        [0][0]']                      \n"
          ]
        },
        {
          "output_type": "stream",
          "name": "stderr",
          "text": [
            "INFO:__main__: er2 (Dense)                                                        [0][0]']                      \n"
          ]
        },
        {
          "output_type": "stream",
          "name": "stdout",
          "text": [
            "   INFO 2023-12-05 12:28:37:                                                                                                   \n"
          ]
        },
        {
          "output_type": "stream",
          "name": "stderr",
          "text": [
            "INFO:__main__:                                                                                                  \n"
          ]
        },
        {
          "output_type": "stream",
          "name": "stdout",
          "text": [
            "   INFO 2023-12-05 12:28:37:  Tomformer_encoder_MLP1_lay  (None, None, 128)            65664     ['Tomformer_encoder_MLP0_layer\n"
          ]
        },
        {
          "output_type": "stream",
          "name": "stderr",
          "text": [
            "INFO:__main__: Tomformer_encoder_MLP1_lay  (None, None, 128)            65664     ['Tomformer_encoder_MLP0_layer\n"
          ]
        },
        {
          "output_type": "stream",
          "name": "stdout",
          "text": [
            "   INFO 2023-12-05 12:28:37:  er2 (Dense)                                                        2[0][0]']                     \n"
          ]
        },
        {
          "output_type": "stream",
          "name": "stderr",
          "text": [
            "INFO:__main__: er2 (Dense)                                                        2[0][0]']                     \n"
          ]
        },
        {
          "output_type": "stream",
          "name": "stdout",
          "text": [
            "   INFO 2023-12-05 12:28:37:                                                                                                   \n"
          ]
        },
        {
          "output_type": "stream",
          "name": "stderr",
          "text": [
            "INFO:__main__:                                                                                                  \n"
          ]
        },
        {
          "output_type": "stream",
          "name": "stdout",
          "text": [
            "   INFO 2023-12-05 12:28:37:  Tomformer_encoder_add1_lay  (None, None, 128)            0         ['Tomformer_encoder_add0_layer\n"
          ]
        },
        {
          "output_type": "stream",
          "name": "stderr",
          "text": [
            "INFO:__main__: Tomformer_encoder_add1_lay  (None, None, 128)            0         ['Tomformer_encoder_add0_layer\n"
          ]
        },
        {
          "output_type": "stream",
          "name": "stdout",
          "text": [
            "   INFO 2023-12-05 12:28:37:  er2 (Add)                                                          2[0][0]',                     \n"
          ]
        },
        {
          "output_type": "stream",
          "name": "stderr",
          "text": [
            "INFO:__main__: er2 (Add)                                                          2[0][0]',                     \n"
          ]
        },
        {
          "output_type": "stream",
          "name": "stdout",
          "text": [
            "   INFO 2023-12-05 12:28:37:                                                                      'Tomformer_encoder_MLP1_layer\n"
          ]
        },
        {
          "output_type": "stream",
          "name": "stderr",
          "text": [
            "INFO:__main__:                                                                     'Tomformer_encoder_MLP1_layer\n"
          ]
        },
        {
          "output_type": "stream",
          "name": "stdout",
          "text": [
            "   INFO 2023-12-05 12:28:37:                                                                     2[0][0]']                     \n"
          ]
        },
        {
          "output_type": "stream",
          "name": "stderr",
          "text": [
            "INFO:__main__:                                                                    2[0][0]']                     \n"
          ]
        },
        {
          "output_type": "stream",
          "name": "stdout",
          "text": [
            "   INFO 2023-12-05 12:28:37:                                                                                                   \n"
          ]
        },
        {
          "output_type": "stream",
          "name": "stderr",
          "text": [
            "INFO:__main__:                                                                                                  \n"
          ]
        },
        {
          "output_type": "stream",
          "name": "stdout",
          "text": [
            "   INFO 2023-12-05 12:28:37:  Tomformer_encoder_LN0_laye  (None, None, 128)            256       ['Tomformer_encoder_add1_layer\n"
          ]
        },
        {
          "output_type": "stream",
          "name": "stderr",
          "text": [
            "INFO:__main__: Tomformer_encoder_LN0_laye  (None, None, 128)            256       ['Tomformer_encoder_add1_layer\n"
          ]
        },
        {
          "output_type": "stream",
          "name": "stdout",
          "text": [
            "   INFO 2023-12-05 12:28:37:  r3 (LayerNormalization)                                            2[0][0]']                     \n"
          ]
        },
        {
          "output_type": "stream",
          "name": "stderr",
          "text": [
            "INFO:__main__: r3 (LayerNormalization)                                            2[0][0]']                     \n"
          ]
        },
        {
          "output_type": "stream",
          "name": "stdout",
          "text": [
            "   INFO 2023-12-05 12:28:37:                                                                                                   \n"
          ]
        },
        {
          "output_type": "stream",
          "name": "stderr",
          "text": [
            "INFO:__main__:                                                                                                  \n"
          ]
        },
        {
          "output_type": "stream",
          "name": "stdout",
          "text": [
            "   INFO 2023-12-05 12:28:37:  Tomformer_encoder_MHSA_lay  (None, None, 128)            527488    ['Tomformer_encoder_LN0_layer3\n"
          ]
        },
        {
          "output_type": "stream",
          "name": "stderr",
          "text": [
            "INFO:__main__: Tomformer_encoder_MHSA_lay  (None, None, 128)            527488    ['Tomformer_encoder_LN0_layer3\n"
          ]
        },
        {
          "output_type": "stream",
          "name": "stdout",
          "text": [
            "   INFO 2023-12-05 12:28:37:  er3 (MultiHeadAttention)                                           [0][0]',                      \n"
          ]
        },
        {
          "output_type": "stream",
          "name": "stderr",
          "text": [
            "INFO:__main__: er3 (MultiHeadAttention)                                           [0][0]',                      \n"
          ]
        },
        {
          "output_type": "stream",
          "name": "stdout",
          "text": [
            "   INFO 2023-12-05 12:28:37:                                                                      'Tomformer_encoder_LN0_layer3\n"
          ]
        },
        {
          "output_type": "stream",
          "name": "stderr",
          "text": [
            "INFO:__main__:                                                                     'Tomformer_encoder_LN0_layer3\n"
          ]
        },
        {
          "output_type": "stream",
          "name": "stdout",
          "text": [
            "   INFO 2023-12-05 12:28:37:                                                                     [0][0]']                      \n"
          ]
        },
        {
          "output_type": "stream",
          "name": "stderr",
          "text": [
            "INFO:__main__:                                                                    [0][0]']                      \n"
          ]
        },
        {
          "output_type": "stream",
          "name": "stdout",
          "text": [
            "   INFO 2023-12-05 12:28:37:                                                                                                   \n"
          ]
        },
        {
          "output_type": "stream",
          "name": "stderr",
          "text": [
            "INFO:__main__:                                                                                                  \n"
          ]
        },
        {
          "output_type": "stream",
          "name": "stdout",
          "text": [
            "   INFO 2023-12-05 12:28:37:  Tomformer_encoder_add0_lay  (None, None, 128)            0         ['Tomformer_encoder_add1_layer\n"
          ]
        },
        {
          "output_type": "stream",
          "name": "stderr",
          "text": [
            "INFO:__main__: Tomformer_encoder_add0_lay  (None, None, 128)            0         ['Tomformer_encoder_add1_layer\n"
          ]
        },
        {
          "output_type": "stream",
          "name": "stdout",
          "text": [
            "   INFO 2023-12-05 12:28:37:  er3 (Add)                                                          2[0][0]',                     \n"
          ]
        },
        {
          "output_type": "stream",
          "name": "stderr",
          "text": [
            "INFO:__main__: er3 (Add)                                                          2[0][0]',                     \n"
          ]
        },
        {
          "output_type": "stream",
          "name": "stdout",
          "text": [
            "   INFO 2023-12-05 12:28:37:                                                                      'Tomformer_encoder_MHSA_layer\n"
          ]
        },
        {
          "output_type": "stream",
          "name": "stderr",
          "text": [
            "INFO:__main__:                                                                     'Tomformer_encoder_MHSA_layer\n"
          ]
        },
        {
          "output_type": "stream",
          "name": "stdout",
          "text": [
            "   INFO 2023-12-05 12:28:37:                                                                     3[0][0]']                     \n"
          ]
        },
        {
          "output_type": "stream",
          "name": "stderr",
          "text": [
            "INFO:__main__:                                                                    3[0][0]']                     \n"
          ]
        },
        {
          "output_type": "stream",
          "name": "stdout",
          "text": [
            "   INFO 2023-12-05 12:28:37:                                                                                                   \n"
          ]
        },
        {
          "output_type": "stream",
          "name": "stderr",
          "text": [
            "INFO:__main__:                                                                                                  \n"
          ]
        },
        {
          "output_type": "stream",
          "name": "stdout",
          "text": [
            "   INFO 2023-12-05 12:28:37:  Tomformer_encoder_LN1_laye  (None, None, 128)            256       ['Tomformer_encoder_add0_layer\n"
          ]
        },
        {
          "output_type": "stream",
          "name": "stderr",
          "text": [
            "INFO:__main__: Tomformer_encoder_LN1_laye  (None, None, 128)            256       ['Tomformer_encoder_add0_layer\n"
          ]
        },
        {
          "output_type": "stream",
          "name": "stdout",
          "text": [
            "   INFO 2023-12-05 12:28:37:  r3 (LayerNormalization)                                            3[0][0]']                     \n"
          ]
        },
        {
          "output_type": "stream",
          "name": "stderr",
          "text": [
            "INFO:__main__: r3 (LayerNormalization)                                            3[0][0]']                     \n"
          ]
        },
        {
          "output_type": "stream",
          "name": "stdout",
          "text": [
            "   INFO 2023-12-05 12:28:37:                                                                                                   \n"
          ]
        },
        {
          "output_type": "stream",
          "name": "stderr",
          "text": [
            "INFO:__main__:                                                                                                  \n"
          ]
        },
        {
          "output_type": "stream",
          "name": "stdout",
          "text": [
            "   INFO 2023-12-05 12:28:37:  Tomformer_encoder_MLP0_lay  (None, None, 512)            66048     ['Tomformer_encoder_LN1_layer3\n"
          ]
        },
        {
          "output_type": "stream",
          "name": "stderr",
          "text": [
            "INFO:__main__: Tomformer_encoder_MLP0_lay  (None, None, 512)            66048     ['Tomformer_encoder_LN1_layer3\n"
          ]
        },
        {
          "output_type": "stream",
          "name": "stdout",
          "text": [
            "   INFO 2023-12-05 12:28:37:  er3 (Dense)                                                        [0][0]']                      \n"
          ]
        },
        {
          "output_type": "stream",
          "name": "stderr",
          "text": [
            "INFO:__main__: er3 (Dense)                                                        [0][0]']                      \n"
          ]
        },
        {
          "output_type": "stream",
          "name": "stdout",
          "text": [
            "   INFO 2023-12-05 12:28:37:                                                                                                   \n"
          ]
        },
        {
          "output_type": "stream",
          "name": "stderr",
          "text": [
            "INFO:__main__:                                                                                                  \n"
          ]
        },
        {
          "output_type": "stream",
          "name": "stdout",
          "text": [
            "   INFO 2023-12-05 12:28:37:  Tomformer_encoder_MLP1_lay  (None, None, 128)            65664     ['Tomformer_encoder_MLP0_layer\n"
          ]
        },
        {
          "output_type": "stream",
          "name": "stderr",
          "text": [
            "INFO:__main__: Tomformer_encoder_MLP1_lay  (None, None, 128)            65664     ['Tomformer_encoder_MLP0_layer\n"
          ]
        },
        {
          "output_type": "stream",
          "name": "stdout",
          "text": [
            "   INFO 2023-12-05 12:28:37:  er3 (Dense)                                                        3[0][0]']                     \n"
          ]
        },
        {
          "output_type": "stream",
          "name": "stderr",
          "text": [
            "INFO:__main__: er3 (Dense)                                                        3[0][0]']                     \n"
          ]
        },
        {
          "output_type": "stream",
          "name": "stdout",
          "text": [
            "   INFO 2023-12-05 12:28:37:                                                                                                   \n"
          ]
        },
        {
          "output_type": "stream",
          "name": "stderr",
          "text": [
            "INFO:__main__:                                                                                                  \n"
          ]
        },
        {
          "output_type": "stream",
          "name": "stdout",
          "text": [
            "   INFO 2023-12-05 12:28:37:  Tomformer_encoder_add1_lay  (None, None, 128)            0         ['Tomformer_encoder_add0_layer\n"
          ]
        },
        {
          "output_type": "stream",
          "name": "stderr",
          "text": [
            "INFO:__main__: Tomformer_encoder_add1_lay  (None, None, 128)            0         ['Tomformer_encoder_add0_layer\n"
          ]
        },
        {
          "output_type": "stream",
          "name": "stdout",
          "text": [
            "   INFO 2023-12-05 12:28:37:  er3 (Add)                                                          3[0][0]',                     \n"
          ]
        },
        {
          "output_type": "stream",
          "name": "stderr",
          "text": [
            "INFO:__main__: er3 (Add)                                                          3[0][0]',                     \n"
          ]
        },
        {
          "output_type": "stream",
          "name": "stdout",
          "text": [
            "   INFO 2023-12-05 12:28:37:                                                                      'Tomformer_encoder_MLP1_layer\n"
          ]
        },
        {
          "output_type": "stream",
          "name": "stderr",
          "text": [
            "INFO:__main__:                                                                     'Tomformer_encoder_MLP1_layer\n"
          ]
        },
        {
          "output_type": "stream",
          "name": "stdout",
          "text": [
            "   INFO 2023-12-05 12:28:37:                                                                     3[0][0]']                     \n"
          ]
        },
        {
          "output_type": "stream",
          "name": "stderr",
          "text": [
            "INFO:__main__:                                                                    3[0][0]']                     \n"
          ]
        },
        {
          "output_type": "stream",
          "name": "stdout",
          "text": [
            "   INFO 2023-12-05 12:28:37:                                                                                                   \n"
          ]
        },
        {
          "output_type": "stream",
          "name": "stderr",
          "text": [
            "INFO:__main__:                                                                                                  \n"
          ]
        },
        {
          "output_type": "stream",
          "name": "stdout",
          "text": [
            "   INFO 2023-12-05 12:28:37:  Tomformer_encoder_post_LN   (None, None, 128)            256       ['Tomformer_encoder_add1_layer\n"
          ]
        },
        {
          "output_type": "stream",
          "name": "stderr",
          "text": [
            "INFO:__main__: Tomformer_encoder_post_LN   (None, None, 128)            256       ['Tomformer_encoder_add1_layer\n"
          ]
        },
        {
          "output_type": "stream",
          "name": "stdout",
          "text": [
            "   INFO 2023-12-05 12:28:37:  (LayerNormalization)                                               3[0][0]']                     \n"
          ]
        },
        {
          "output_type": "stream",
          "name": "stderr",
          "text": [
            "INFO:__main__: (LayerNormalization)                                               3[0][0]']                     \n"
          ]
        },
        {
          "output_type": "stream",
          "name": "stdout",
          "text": [
            "   INFO 2023-12-05 12:28:37:                                                                                                   \n"
          ]
        },
        {
          "output_type": "stream",
          "name": "stderr",
          "text": [
            "INFO:__main__:                                                                                                  \n"
          ]
        },
        {
          "output_type": "stream",
          "name": "stdout",
          "text": [
            "   INFO 2023-12-05 12:28:37:  Tomformer_decoder_enum_gri  ((None, 16),                 0         ['Tomformer_encoder_post_LN[0]\n"
          ]
        },
        {
          "output_type": "stream",
          "name": "stderr",
          "text": [
            "INFO:__main__: Tomformer_decoder_enum_gri  ((None, 16),                 0         ['Tomformer_encoder_post_LN[0]\n"
          ]
        },
        {
          "output_type": "stream",
          "name": "stdout",
          "text": [
            "   INFO 2023-12-05 12:28:37:  d (EnumerateGrid)            (None, 16))                           [0]']                         \n"
          ]
        },
        {
          "output_type": "stream",
          "name": "stderr",
          "text": [
            "INFO:__main__: d (EnumerateGrid)            (None, 16))                           [0]']                         \n"
          ]
        },
        {
          "output_type": "stream",
          "name": "stdout",
          "text": [
            "   INFO 2023-12-05 12:28:37:                                                                                                   \n"
          ]
        },
        {
          "output_type": "stream",
          "name": "stderr",
          "text": [
            "INFO:__main__:                                                                                                  \n"
          ]
        },
        {
          "output_type": "stream",
          "name": "stdout",
          "text": [
            "   INFO 2023-12-05 12:28:37:  Tomformer_decoder_embed_x   (None, 16, 128)              512       ['Tomformer_decoder_enum_grid[\n"
          ]
        },
        {
          "output_type": "stream",
          "name": "stderr",
          "text": [
            "INFO:__main__: Tomformer_decoder_embed_x   (None, 16, 128)              512       ['Tomformer_decoder_enum_grid[\n"
          ]
        },
        {
          "output_type": "stream",
          "name": "stdout",
          "text": [
            "   INFO 2023-12-05 12:28:37:  (Embedding)                                                        0][0]']                       \n"
          ]
        },
        {
          "output_type": "stream",
          "name": "stderr",
          "text": [
            "INFO:__main__: (Embedding)                                                        0][0]']                       \n"
          ]
        },
        {
          "output_type": "stream",
          "name": "stdout",
          "text": [
            "   INFO 2023-12-05 12:28:37:                                                                                                   \n"
          ]
        },
        {
          "output_type": "stream",
          "name": "stderr",
          "text": [
            "INFO:__main__:                                                                                                  \n"
          ]
        },
        {
          "output_type": "stream",
          "name": "stdout",
          "text": [
            "   INFO 2023-12-05 12:28:37:  Tomformer_decoder_embed_y   (None, 16, 128)              512       ['Tomformer_decoder_enum_grid[\n"
          ]
        },
        {
          "output_type": "stream",
          "name": "stderr",
          "text": [
            "INFO:__main__: Tomformer_decoder_embed_y   (None, 16, 128)              512       ['Tomformer_decoder_enum_grid[\n"
          ]
        },
        {
          "output_type": "stream",
          "name": "stdout",
          "text": [
            "   INFO 2023-12-05 12:28:37:  (Embedding)                                                        0][1]']                       \n"
          ]
        },
        {
          "output_type": "stream",
          "name": "stderr",
          "text": [
            "INFO:__main__: (Embedding)                                                        0][1]']                       \n"
          ]
        },
        {
          "output_type": "stream",
          "name": "stdout",
          "text": [
            "   INFO 2023-12-05 12:28:37:                                                                                                   \n"
          ]
        },
        {
          "output_type": "stream",
          "name": "stderr",
          "text": [
            "INFO:__main__:                                                                                                  \n"
          ]
        },
        {
          "output_type": "stream",
          "name": "stdout",
          "text": [
            "   INFO 2023-12-05 12:28:37:  Tomformer_decoder_combine_  (None, 16, 128)              0         ['Tomformer_decoder_embed_x[0]\n"
          ]
        },
        {
          "output_type": "stream",
          "name": "stderr",
          "text": [
            "INFO:__main__: Tomformer_decoder_combine_  (None, 16, 128)              0         ['Tomformer_decoder_embed_x[0]\n"
          ]
        },
        {
          "output_type": "stream",
          "name": "stdout",
          "text": [
            "   INFO 2023-12-05 12:28:37:  x_y (Add)                                                          [0]',                         \n"
          ]
        },
        {
          "output_type": "stream",
          "name": "stderr",
          "text": [
            "INFO:__main__: x_y (Add)                                                          [0]',                         \n"
          ]
        },
        {
          "output_type": "stream",
          "name": "stdout",
          "text": [
            "   INFO 2023-12-05 12:28:37:                                                                      'Tomformer_decoder_embed_y[0]\n"
          ]
        },
        {
          "output_type": "stream",
          "name": "stderr",
          "text": [
            "INFO:__main__:                                                                     'Tomformer_decoder_embed_y[0]\n"
          ]
        },
        {
          "output_type": "stream",
          "name": "stdout",
          "text": [
            "   INFO 2023-12-05 12:28:37:                                                                     [0]']                         \n"
          ]
        },
        {
          "output_type": "stream",
          "name": "stderr",
          "text": [
            "INFO:__main__:                                                                    [0]']                         \n"
          ]
        },
        {
          "output_type": "stream",
          "name": "stdout",
          "text": [
            "   INFO 2023-12-05 12:28:37:                                                                                                   \n"
          ]
        },
        {
          "output_type": "stream",
          "name": "stderr",
          "text": [
            "INFO:__main__:                                                                                                  \n"
          ]
        },
        {
          "output_type": "stream",
          "name": "stdout",
          "text": [
            "   INFO 2023-12-05 12:28:37:  Tomformer_decoder_LN0_laye  (None, 16, 128)              256       ['Tomformer_decoder_combine_x_\n"
          ]
        },
        {
          "output_type": "stream",
          "name": "stderr",
          "text": [
            "INFO:__main__: Tomformer_decoder_LN0_laye  (None, 16, 128)              256       ['Tomformer_decoder_combine_x_\n"
          ]
        },
        {
          "output_type": "stream",
          "name": "stdout",
          "text": [
            "   INFO 2023-12-05 12:28:37:  r0 (LayerNormalization)                                            y[0][0]']                     \n"
          ]
        },
        {
          "output_type": "stream",
          "name": "stderr",
          "text": [
            "INFO:__main__: r0 (LayerNormalization)                                            y[0][0]']                     \n"
          ]
        },
        {
          "output_type": "stream",
          "name": "stdout",
          "text": [
            "   INFO 2023-12-05 12:28:37:                                                                                                   \n"
          ]
        },
        {
          "output_type": "stream",
          "name": "stderr",
          "text": [
            "INFO:__main__:                                                                                                  \n"
          ]
        },
        {
          "output_type": "stream",
          "name": "stdout",
          "text": [
            "   INFO 2023-12-05 12:28:37:  Tomformer_decoder_MHCA_lay  (None, 16, 128)              527488    ['Tomformer_decoder_LN0_layer0\n"
          ]
        },
        {
          "output_type": "stream",
          "name": "stderr",
          "text": [
            "INFO:__main__: Tomformer_decoder_MHCA_lay  (None, 16, 128)              527488    ['Tomformer_decoder_LN0_layer0\n"
          ]
        },
        {
          "output_type": "stream",
          "name": "stdout",
          "text": [
            "   INFO 2023-12-05 12:28:37:  er0 (MultiHeadAttention)                                           [0][0]',                      \n"
          ]
        },
        {
          "output_type": "stream",
          "name": "stderr",
          "text": [
            "INFO:__main__: er0 (MultiHeadAttention)                                           [0][0]',                      \n"
          ]
        },
        {
          "output_type": "stream",
          "name": "stdout",
          "text": [
            "   INFO 2023-12-05 12:28:37:                                                                      'Tomformer_encoder_post_LN[0]\n"
          ]
        },
        {
          "output_type": "stream",
          "name": "stderr",
          "text": [
            "INFO:__main__:                                                                     'Tomformer_encoder_post_LN[0]\n"
          ]
        },
        {
          "output_type": "stream",
          "name": "stdout",
          "text": [
            "   INFO 2023-12-05 12:28:37:                                                                     [0]']                         \n"
          ]
        },
        {
          "output_type": "stream",
          "name": "stderr",
          "text": [
            "INFO:__main__:                                                                    [0]']                         \n"
          ]
        },
        {
          "output_type": "stream",
          "name": "stdout",
          "text": [
            "   INFO 2023-12-05 12:28:37:                                                                                                   \n"
          ]
        },
        {
          "output_type": "stream",
          "name": "stderr",
          "text": [
            "INFO:__main__:                                                                                                  \n"
          ]
        },
        {
          "output_type": "stream",
          "name": "stdout",
          "text": [
            "   INFO 2023-12-05 12:28:37:  Tomformer_decoder_add0_lay  (None, 16, 128)              0         ['Tomformer_decoder_combine_x_\n"
          ]
        },
        {
          "output_type": "stream",
          "name": "stderr",
          "text": [
            "INFO:__main__: Tomformer_decoder_add0_lay  (None, 16, 128)              0         ['Tomformer_decoder_combine_x_\n"
          ]
        },
        {
          "output_type": "stream",
          "name": "stdout",
          "text": [
            "   INFO 2023-12-05 12:28:37:  er0 (Add)                                                          y[0][0]',                     \n"
          ]
        },
        {
          "output_type": "stream",
          "name": "stderr",
          "text": [
            "INFO:__main__: er0 (Add)                                                          y[0][0]',                     \n"
          ]
        },
        {
          "output_type": "stream",
          "name": "stdout",
          "text": [
            "   INFO 2023-12-05 12:28:37:                                                                      'Tomformer_decoder_MHCA_layer\n"
          ]
        },
        {
          "output_type": "stream",
          "name": "stderr",
          "text": [
            "INFO:__main__:                                                                     'Tomformer_decoder_MHCA_layer\n"
          ]
        },
        {
          "output_type": "stream",
          "name": "stdout",
          "text": [
            "   INFO 2023-12-05 12:28:37:                                                                     0[0][0]']                     \n"
          ]
        },
        {
          "output_type": "stream",
          "name": "stderr",
          "text": [
            "INFO:__main__:                                                                    0[0][0]']                     \n"
          ]
        },
        {
          "output_type": "stream",
          "name": "stdout",
          "text": [
            "   INFO 2023-12-05 12:28:37:                                                                                                   \n"
          ]
        },
        {
          "output_type": "stream",
          "name": "stderr",
          "text": [
            "INFO:__main__:                                                                                                  \n"
          ]
        },
        {
          "output_type": "stream",
          "name": "stdout",
          "text": [
            "   INFO 2023-12-05 12:28:37:  Tomformer_decoder_LN1_laye  (None, 16, 128)              256       ['Tomformer_decoder_add0_layer\n"
          ]
        },
        {
          "output_type": "stream",
          "name": "stderr",
          "text": [
            "INFO:__main__: Tomformer_decoder_LN1_laye  (None, 16, 128)              256       ['Tomformer_decoder_add0_layer\n"
          ]
        },
        {
          "output_type": "stream",
          "name": "stdout",
          "text": [
            "   INFO 2023-12-05 12:28:37:  r0 (LayerNormalization)                                            0[0][0]']                     \n"
          ]
        },
        {
          "output_type": "stream",
          "name": "stderr",
          "text": [
            "INFO:__main__: r0 (LayerNormalization)                                            0[0][0]']                     \n"
          ]
        },
        {
          "output_type": "stream",
          "name": "stdout",
          "text": [
            "   INFO 2023-12-05 12:28:37:                                                                                                   \n"
          ]
        },
        {
          "output_type": "stream",
          "name": "stderr",
          "text": [
            "INFO:__main__:                                                                                                  \n"
          ]
        },
        {
          "output_type": "stream",
          "name": "stdout",
          "text": [
            "   INFO 2023-12-05 12:28:37:  Tomformer_decoder_MHSA_lay  (None, 16, 128)              527488    ['Tomformer_decoder_LN1_layer0\n"
          ]
        },
        {
          "output_type": "stream",
          "name": "stderr",
          "text": [
            "INFO:__main__: Tomformer_decoder_MHSA_lay  (None, 16, 128)              527488    ['Tomformer_decoder_LN1_layer0\n"
          ]
        },
        {
          "output_type": "stream",
          "name": "stdout",
          "text": [
            "   INFO 2023-12-05 12:28:37:  er0 (MultiHeadAttention)                                           [0][0]',                      \n"
          ]
        },
        {
          "output_type": "stream",
          "name": "stderr",
          "text": [
            "INFO:__main__: er0 (MultiHeadAttention)                                           [0][0]',                      \n"
          ]
        },
        {
          "output_type": "stream",
          "name": "stdout",
          "text": [
            "   INFO 2023-12-05 12:28:37:                                                                      'Tomformer_decoder_LN1_layer0\n"
          ]
        },
        {
          "output_type": "stream",
          "name": "stderr",
          "text": [
            "INFO:__main__:                                                                     'Tomformer_decoder_LN1_layer0\n"
          ]
        },
        {
          "output_type": "stream",
          "name": "stdout",
          "text": [
            "   INFO 2023-12-05 12:28:37:                                                                     [0][0]']                      \n"
          ]
        },
        {
          "output_type": "stream",
          "name": "stderr",
          "text": [
            "INFO:__main__:                                                                    [0][0]']                      \n"
          ]
        },
        {
          "output_type": "stream",
          "name": "stdout",
          "text": [
            "   INFO 2023-12-05 12:28:37:                                                                                                   \n"
          ]
        },
        {
          "output_type": "stream",
          "name": "stderr",
          "text": [
            "INFO:__main__:                                                                                                  \n"
          ]
        },
        {
          "output_type": "stream",
          "name": "stdout",
          "text": [
            "   INFO 2023-12-05 12:28:37:  Tomformer_decoder_add1_lay  (None, 16, 128)              0         ['Tomformer_decoder_add0_layer\n"
          ]
        },
        {
          "output_type": "stream",
          "name": "stderr",
          "text": [
            "INFO:__main__: Tomformer_decoder_add1_lay  (None, 16, 128)              0         ['Tomformer_decoder_add0_layer\n"
          ]
        },
        {
          "output_type": "stream",
          "name": "stdout",
          "text": [
            "   INFO 2023-12-05 12:28:37:  er0 (Add)                                                          0[0][0]',                     \n"
          ]
        },
        {
          "output_type": "stream",
          "name": "stderr",
          "text": [
            "INFO:__main__: er0 (Add)                                                          0[0][0]',                     \n"
          ]
        },
        {
          "output_type": "stream",
          "name": "stdout",
          "text": [
            "   INFO 2023-12-05 12:28:37:                                                                      'Tomformer_decoder_MHSA_layer\n"
          ]
        },
        {
          "output_type": "stream",
          "name": "stderr",
          "text": [
            "INFO:__main__:                                                                     'Tomformer_decoder_MHSA_layer\n"
          ]
        },
        {
          "output_type": "stream",
          "name": "stdout",
          "text": [
            "   INFO 2023-12-05 12:28:37:                                                                     0[0][0]']                     \n"
          ]
        },
        {
          "output_type": "stream",
          "name": "stderr",
          "text": [
            "INFO:__main__:                                                                    0[0][0]']                     \n"
          ]
        },
        {
          "output_type": "stream",
          "name": "stdout",
          "text": [
            "   INFO 2023-12-05 12:28:37:                                                                                                   \n"
          ]
        },
        {
          "output_type": "stream",
          "name": "stderr",
          "text": [
            "INFO:__main__:                                                                                                  \n"
          ]
        },
        {
          "output_type": "stream",
          "name": "stdout",
          "text": [
            "   INFO 2023-12-05 12:28:37:  Tomformer_decoder_LN2_laye  (None, 16, 128)              256       ['Tomformer_decoder_add1_layer\n"
          ]
        },
        {
          "output_type": "stream",
          "name": "stderr",
          "text": [
            "INFO:__main__: Tomformer_decoder_LN2_laye  (None, 16, 128)              256       ['Tomformer_decoder_add1_layer\n"
          ]
        },
        {
          "output_type": "stream",
          "name": "stdout",
          "text": [
            "   INFO 2023-12-05 12:28:37:  r0 (LayerNormalization)                                            0[0][0]']                     \n"
          ]
        },
        {
          "output_type": "stream",
          "name": "stderr",
          "text": [
            "INFO:__main__: r0 (LayerNormalization)                                            0[0][0]']                     \n"
          ]
        },
        {
          "output_type": "stream",
          "name": "stdout",
          "text": [
            "   INFO 2023-12-05 12:28:37:                                                                                                   \n"
          ]
        },
        {
          "output_type": "stream",
          "name": "stderr",
          "text": [
            "INFO:__main__:                                                                                                  \n"
          ]
        },
        {
          "output_type": "stream",
          "name": "stdout",
          "text": [
            "   INFO 2023-12-05 12:28:37:  Tomformer_decoder_MLP0_lay  (None, 16, 512)              66048     ['Tomformer_decoder_LN2_layer0\n"
          ]
        },
        {
          "output_type": "stream",
          "name": "stderr",
          "text": [
            "INFO:__main__: Tomformer_decoder_MLP0_lay  (None, 16, 512)              66048     ['Tomformer_decoder_LN2_layer0\n"
          ]
        },
        {
          "output_type": "stream",
          "name": "stdout",
          "text": [
            "   INFO 2023-12-05 12:28:37:  er0 (Dense)                                                        [0][0]']                      \n"
          ]
        },
        {
          "output_type": "stream",
          "name": "stderr",
          "text": [
            "INFO:__main__: er0 (Dense)                                                        [0][0]']                      \n"
          ]
        },
        {
          "output_type": "stream",
          "name": "stdout",
          "text": [
            "   INFO 2023-12-05 12:28:37:                                                                                                   \n"
          ]
        },
        {
          "output_type": "stream",
          "name": "stderr",
          "text": [
            "INFO:__main__:                                                                                                  \n"
          ]
        },
        {
          "output_type": "stream",
          "name": "stdout",
          "text": [
            "   INFO 2023-12-05 12:28:37:  Tomformer_decoder_MLP1_lay  (None, 16, 128)              65664     ['Tomformer_decoder_MLP0_layer\n"
          ]
        },
        {
          "output_type": "stream",
          "name": "stderr",
          "text": [
            "INFO:__main__: Tomformer_decoder_MLP1_lay  (None, 16, 128)              65664     ['Tomformer_decoder_MLP0_layer\n"
          ]
        },
        {
          "output_type": "stream",
          "name": "stdout",
          "text": [
            "   INFO 2023-12-05 12:28:37:  er0 (Dense)                                                        0[0][0]']                     \n"
          ]
        },
        {
          "output_type": "stream",
          "name": "stderr",
          "text": [
            "INFO:__main__: er0 (Dense)                                                        0[0][0]']                     \n"
          ]
        },
        {
          "output_type": "stream",
          "name": "stdout",
          "text": [
            "   INFO 2023-12-05 12:28:37:                                                                                                   \n"
          ]
        },
        {
          "output_type": "stream",
          "name": "stderr",
          "text": [
            "INFO:__main__:                                                                                                  \n"
          ]
        },
        {
          "output_type": "stream",
          "name": "stdout",
          "text": [
            "   INFO 2023-12-05 12:28:37:  Tomformer_decoder_add2_lay  (None, 16, 128)              0         ['Tomformer_decoder_add1_layer\n"
          ]
        },
        {
          "output_type": "stream",
          "name": "stderr",
          "text": [
            "INFO:__main__: Tomformer_decoder_add2_lay  (None, 16, 128)              0         ['Tomformer_decoder_add1_layer\n"
          ]
        },
        {
          "output_type": "stream",
          "name": "stdout",
          "text": [
            "   INFO 2023-12-05 12:28:37:  er0 (Add)                                                          0[0][0]',                     \n"
          ]
        },
        {
          "output_type": "stream",
          "name": "stderr",
          "text": [
            "INFO:__main__: er0 (Add)                                                          0[0][0]',                     \n"
          ]
        },
        {
          "output_type": "stream",
          "name": "stdout",
          "text": [
            "   INFO 2023-12-05 12:28:37:                                                                      'Tomformer_decoder_MLP1_layer\n"
          ]
        },
        {
          "output_type": "stream",
          "name": "stderr",
          "text": [
            "INFO:__main__:                                                                     'Tomformer_decoder_MLP1_layer\n"
          ]
        },
        {
          "output_type": "stream",
          "name": "stdout",
          "text": [
            "   INFO 2023-12-05 12:28:37:                                                                     0[0][0]']                     \n"
          ]
        },
        {
          "output_type": "stream",
          "name": "stderr",
          "text": [
            "INFO:__main__:                                                                    0[0][0]']                     \n"
          ]
        },
        {
          "output_type": "stream",
          "name": "stdout",
          "text": [
            "   INFO 2023-12-05 12:28:37:                                                                                                   \n"
          ]
        },
        {
          "output_type": "stream",
          "name": "stderr",
          "text": [
            "INFO:__main__:                                                                                                  \n"
          ]
        },
        {
          "output_type": "stream",
          "name": "stdout",
          "text": [
            "   INFO 2023-12-05 12:28:37:  Tomformer_decoder_LN0_laye  (None, 16, 128)              256       ['Tomformer_decoder_add2_layer\n"
          ]
        },
        {
          "output_type": "stream",
          "name": "stderr",
          "text": [
            "INFO:__main__: Tomformer_decoder_LN0_laye  (None, 16, 128)              256       ['Tomformer_decoder_add2_layer\n"
          ]
        },
        {
          "output_type": "stream",
          "name": "stdout",
          "text": [
            "   INFO 2023-12-05 12:28:37:  r1 (LayerNormalization)                                            0[0][0]']                     \n"
          ]
        },
        {
          "output_type": "stream",
          "name": "stderr",
          "text": [
            "INFO:__main__: r1 (LayerNormalization)                                            0[0][0]']                     \n"
          ]
        },
        {
          "output_type": "stream",
          "name": "stdout",
          "text": [
            "   INFO 2023-12-05 12:28:37:                                                                                                   \n"
          ]
        },
        {
          "output_type": "stream",
          "name": "stderr",
          "text": [
            "INFO:__main__:                                                                                                  \n"
          ]
        },
        {
          "output_type": "stream",
          "name": "stdout",
          "text": [
            "   INFO 2023-12-05 12:28:37:  Tomformer_decoder_MHCA_lay  (None, 16, 128)              527488    ['Tomformer_decoder_LN0_layer1\n"
          ]
        },
        {
          "output_type": "stream",
          "name": "stderr",
          "text": [
            "INFO:__main__: Tomformer_decoder_MHCA_lay  (None, 16, 128)              527488    ['Tomformer_decoder_LN0_layer1\n"
          ]
        },
        {
          "output_type": "stream",
          "name": "stdout",
          "text": [
            "   INFO 2023-12-05 12:28:37:  er1 (MultiHeadAttention)                                           [0][0]',                      \n"
          ]
        },
        {
          "output_type": "stream",
          "name": "stderr",
          "text": [
            "INFO:__main__: er1 (MultiHeadAttention)                                           [0][0]',                      \n"
          ]
        },
        {
          "output_type": "stream",
          "name": "stdout",
          "text": [
            "   INFO 2023-12-05 12:28:37:                                                                      'Tomformer_encoder_post_LN[0]\n"
          ]
        },
        {
          "output_type": "stream",
          "name": "stderr",
          "text": [
            "INFO:__main__:                                                                     'Tomformer_encoder_post_LN[0]\n"
          ]
        },
        {
          "output_type": "stream",
          "name": "stdout",
          "text": [
            "   INFO 2023-12-05 12:28:37:                                                                     [0]']                         \n"
          ]
        },
        {
          "output_type": "stream",
          "name": "stderr",
          "text": [
            "INFO:__main__:                                                                    [0]']                         \n"
          ]
        },
        {
          "output_type": "stream",
          "name": "stdout",
          "text": [
            "   INFO 2023-12-05 12:28:37:                                                                                                   \n"
          ]
        },
        {
          "output_type": "stream",
          "name": "stderr",
          "text": [
            "INFO:__main__:                                                                                                  \n"
          ]
        },
        {
          "output_type": "stream",
          "name": "stdout",
          "text": [
            "   INFO 2023-12-05 12:28:37:  Tomformer_decoder_add0_lay  (None, 16, 128)              0         ['Tomformer_decoder_add2_layer\n"
          ]
        },
        {
          "output_type": "stream",
          "name": "stderr",
          "text": [
            "INFO:__main__: Tomformer_decoder_add0_lay  (None, 16, 128)              0         ['Tomformer_decoder_add2_layer\n"
          ]
        },
        {
          "output_type": "stream",
          "name": "stdout",
          "text": [
            "   INFO 2023-12-05 12:28:37:  er1 (Add)                                                          0[0][0]',                     \n"
          ]
        },
        {
          "output_type": "stream",
          "name": "stderr",
          "text": [
            "INFO:__main__: er1 (Add)                                                          0[0][0]',                     \n"
          ]
        },
        {
          "output_type": "stream",
          "name": "stdout",
          "text": [
            "   INFO 2023-12-05 12:28:37:                                                                      'Tomformer_decoder_MHCA_layer\n"
          ]
        },
        {
          "output_type": "stream",
          "name": "stderr",
          "text": [
            "INFO:__main__:                                                                     'Tomformer_decoder_MHCA_layer\n"
          ]
        },
        {
          "output_type": "stream",
          "name": "stdout",
          "text": [
            "   INFO 2023-12-05 12:28:37:                                                                     1[0][0]']                     \n"
          ]
        },
        {
          "output_type": "stream",
          "name": "stderr",
          "text": [
            "INFO:__main__:                                                                    1[0][0]']                     \n"
          ]
        },
        {
          "output_type": "stream",
          "name": "stdout",
          "text": [
            "   INFO 2023-12-05 12:28:37:                                                                                                   \n"
          ]
        },
        {
          "output_type": "stream",
          "name": "stderr",
          "text": [
            "INFO:__main__:                                                                                                  \n"
          ]
        },
        {
          "output_type": "stream",
          "name": "stdout",
          "text": [
            "   INFO 2023-12-05 12:28:37:  Tomformer_decoder_LN1_laye  (None, 16, 128)              256       ['Tomformer_decoder_add0_layer\n"
          ]
        },
        {
          "output_type": "stream",
          "name": "stderr",
          "text": [
            "INFO:__main__: Tomformer_decoder_LN1_laye  (None, 16, 128)              256       ['Tomformer_decoder_add0_layer\n"
          ]
        },
        {
          "output_type": "stream",
          "name": "stdout",
          "text": [
            "   INFO 2023-12-05 12:28:37:  r1 (LayerNormalization)                                            1[0][0]']                     \n"
          ]
        },
        {
          "output_type": "stream",
          "name": "stderr",
          "text": [
            "INFO:__main__: r1 (LayerNormalization)                                            1[0][0]']                     \n"
          ]
        },
        {
          "output_type": "stream",
          "name": "stdout",
          "text": [
            "   INFO 2023-12-05 12:28:37:                                                                                                   \n"
          ]
        },
        {
          "output_type": "stream",
          "name": "stderr",
          "text": [
            "INFO:__main__:                                                                                                  \n"
          ]
        },
        {
          "output_type": "stream",
          "name": "stdout",
          "text": [
            "   INFO 2023-12-05 12:28:37:  Tomformer_decoder_MHSA_lay  (None, 16, 128)              527488    ['Tomformer_decoder_LN1_layer1\n"
          ]
        },
        {
          "output_type": "stream",
          "name": "stderr",
          "text": [
            "INFO:__main__: Tomformer_decoder_MHSA_lay  (None, 16, 128)              527488    ['Tomformer_decoder_LN1_layer1\n"
          ]
        },
        {
          "output_type": "stream",
          "name": "stdout",
          "text": [
            "   INFO 2023-12-05 12:28:37:  er1 (MultiHeadAttention)                                           [0][0]',                      \n"
          ]
        },
        {
          "output_type": "stream",
          "name": "stderr",
          "text": [
            "INFO:__main__: er1 (MultiHeadAttention)                                           [0][0]',                      \n"
          ]
        },
        {
          "output_type": "stream",
          "name": "stdout",
          "text": [
            "   INFO 2023-12-05 12:28:37:                                                                      'Tomformer_decoder_LN1_layer1\n"
          ]
        },
        {
          "output_type": "stream",
          "name": "stderr",
          "text": [
            "INFO:__main__:                                                                     'Tomformer_decoder_LN1_layer1\n"
          ]
        },
        {
          "output_type": "stream",
          "name": "stdout",
          "text": [
            "   INFO 2023-12-05 12:28:37:                                                                     [0][0]']                      \n"
          ]
        },
        {
          "output_type": "stream",
          "name": "stderr",
          "text": [
            "INFO:__main__:                                                                    [0][0]']                      \n"
          ]
        },
        {
          "output_type": "stream",
          "name": "stdout",
          "text": [
            "   INFO 2023-12-05 12:28:37:                                                                                                   \n"
          ]
        },
        {
          "output_type": "stream",
          "name": "stderr",
          "text": [
            "INFO:__main__:                                                                                                  \n"
          ]
        },
        {
          "output_type": "stream",
          "name": "stdout",
          "text": [
            "   INFO 2023-12-05 12:28:37:  Tomformer_decoder_add1_lay  (None, 16, 128)              0         ['Tomformer_decoder_add0_layer\n"
          ]
        },
        {
          "output_type": "stream",
          "name": "stderr",
          "text": [
            "INFO:__main__: Tomformer_decoder_add1_lay  (None, 16, 128)              0         ['Tomformer_decoder_add0_layer\n"
          ]
        },
        {
          "output_type": "stream",
          "name": "stdout",
          "text": [
            "   INFO 2023-12-05 12:28:37:  er1 (Add)                                                          1[0][0]',                     \n"
          ]
        },
        {
          "output_type": "stream",
          "name": "stderr",
          "text": [
            "INFO:__main__: er1 (Add)                                                          1[0][0]',                     \n"
          ]
        },
        {
          "output_type": "stream",
          "name": "stdout",
          "text": [
            "   INFO 2023-12-05 12:28:37:                                                                      'Tomformer_decoder_MHSA_layer\n"
          ]
        },
        {
          "output_type": "stream",
          "name": "stderr",
          "text": [
            "INFO:__main__:                                                                     'Tomformer_decoder_MHSA_layer\n"
          ]
        },
        {
          "output_type": "stream",
          "name": "stdout",
          "text": [
            "   INFO 2023-12-05 12:28:37:                                                                     1[0][0]']                     \n"
          ]
        },
        {
          "output_type": "stream",
          "name": "stderr",
          "text": [
            "INFO:__main__:                                                                    1[0][0]']                     \n"
          ]
        },
        {
          "output_type": "stream",
          "name": "stdout",
          "text": [
            "   INFO 2023-12-05 12:28:37:                                                                                                   \n"
          ]
        },
        {
          "output_type": "stream",
          "name": "stderr",
          "text": [
            "INFO:__main__:                                                                                                  \n"
          ]
        },
        {
          "output_type": "stream",
          "name": "stdout",
          "text": [
            "   INFO 2023-12-05 12:28:37:  Tomformer_decoder_LN2_laye  (None, 16, 128)              256       ['Tomformer_decoder_add1_layer\n"
          ]
        },
        {
          "output_type": "stream",
          "name": "stderr",
          "text": [
            "INFO:__main__: Tomformer_decoder_LN2_laye  (None, 16, 128)              256       ['Tomformer_decoder_add1_layer\n"
          ]
        },
        {
          "output_type": "stream",
          "name": "stdout",
          "text": [
            "   INFO 2023-12-05 12:28:37:  r1 (LayerNormalization)                                            1[0][0]']                     \n"
          ]
        },
        {
          "output_type": "stream",
          "name": "stderr",
          "text": [
            "INFO:__main__: r1 (LayerNormalization)                                            1[0][0]']                     \n"
          ]
        },
        {
          "output_type": "stream",
          "name": "stdout",
          "text": [
            "   INFO 2023-12-05 12:28:37:                                                                                                   \n"
          ]
        },
        {
          "output_type": "stream",
          "name": "stderr",
          "text": [
            "INFO:__main__:                                                                                                  \n"
          ]
        },
        {
          "output_type": "stream",
          "name": "stdout",
          "text": [
            "   INFO 2023-12-05 12:28:37:  Tomformer_decoder_MLP0_lay  (None, 16, 512)              66048     ['Tomformer_decoder_LN2_layer1\n"
          ]
        },
        {
          "output_type": "stream",
          "name": "stderr",
          "text": [
            "INFO:__main__: Tomformer_decoder_MLP0_lay  (None, 16, 512)              66048     ['Tomformer_decoder_LN2_layer1\n"
          ]
        },
        {
          "output_type": "stream",
          "name": "stdout",
          "text": [
            "   INFO 2023-12-05 12:28:37:  er1 (Dense)                                                        [0][0]']                      \n"
          ]
        },
        {
          "output_type": "stream",
          "name": "stderr",
          "text": [
            "INFO:__main__: er1 (Dense)                                                        [0][0]']                      \n"
          ]
        },
        {
          "output_type": "stream",
          "name": "stdout",
          "text": [
            "   INFO 2023-12-05 12:28:37:                                                                                                   \n"
          ]
        },
        {
          "output_type": "stream",
          "name": "stderr",
          "text": [
            "INFO:__main__:                                                                                                  \n"
          ]
        },
        {
          "output_type": "stream",
          "name": "stdout",
          "text": [
            "   INFO 2023-12-05 12:28:37:  Tomformer_decoder_MLP1_lay  (None, 16, 128)              65664     ['Tomformer_decoder_MLP0_layer\n"
          ]
        },
        {
          "output_type": "stream",
          "name": "stderr",
          "text": [
            "INFO:__main__: Tomformer_decoder_MLP1_lay  (None, 16, 128)              65664     ['Tomformer_decoder_MLP0_layer\n"
          ]
        },
        {
          "output_type": "stream",
          "name": "stdout",
          "text": [
            "   INFO 2023-12-05 12:28:37:  er1 (Dense)                                                        1[0][0]']                     \n"
          ]
        },
        {
          "output_type": "stream",
          "name": "stderr",
          "text": [
            "INFO:__main__: er1 (Dense)                                                        1[0][0]']                     \n"
          ]
        },
        {
          "output_type": "stream",
          "name": "stdout",
          "text": [
            "   INFO 2023-12-05 12:28:37:                                                                                                   \n"
          ]
        },
        {
          "output_type": "stream",
          "name": "stderr",
          "text": [
            "INFO:__main__:                                                                                                  \n"
          ]
        },
        {
          "output_type": "stream",
          "name": "stdout",
          "text": [
            "   INFO 2023-12-05 12:28:37:  Tomformer_decoder_add2_lay  (None, 16, 128)              0         ['Tomformer_decoder_add1_layer\n"
          ]
        },
        {
          "output_type": "stream",
          "name": "stderr",
          "text": [
            "INFO:__main__: Tomformer_decoder_add2_lay  (None, 16, 128)              0         ['Tomformer_decoder_add1_layer\n"
          ]
        },
        {
          "output_type": "stream",
          "name": "stdout",
          "text": [
            "   INFO 2023-12-05 12:28:37:  er1 (Add)                                                          1[0][0]',                     \n"
          ]
        },
        {
          "output_type": "stream",
          "name": "stderr",
          "text": [
            "INFO:__main__: er1 (Add)                                                          1[0][0]',                     \n"
          ]
        },
        {
          "output_type": "stream",
          "name": "stdout",
          "text": [
            "   INFO 2023-12-05 12:28:37:                                                                      'Tomformer_decoder_MLP1_layer\n"
          ]
        },
        {
          "output_type": "stream",
          "name": "stderr",
          "text": [
            "INFO:__main__:                                                                     'Tomformer_decoder_MLP1_layer\n"
          ]
        },
        {
          "output_type": "stream",
          "name": "stdout",
          "text": [
            "   INFO 2023-12-05 12:28:37:                                                                     1[0][0]']                     \n"
          ]
        },
        {
          "output_type": "stream",
          "name": "stderr",
          "text": [
            "INFO:__main__:                                                                    1[0][0]']                     \n"
          ]
        },
        {
          "output_type": "stream",
          "name": "stdout",
          "text": [
            "   INFO 2023-12-05 12:28:37:                                                                                                   \n"
          ]
        },
        {
          "output_type": "stream",
          "name": "stderr",
          "text": [
            "INFO:__main__:                                                                                                  \n"
          ]
        },
        {
          "output_type": "stream",
          "name": "stdout",
          "text": [
            "   INFO 2023-12-05 12:28:37:  Tomformer_decoder_LN0_laye  (None, 16, 128)              256       ['Tomformer_decoder_add2_layer\n"
          ]
        },
        {
          "output_type": "stream",
          "name": "stderr",
          "text": [
            "INFO:__main__: Tomformer_decoder_LN0_laye  (None, 16, 128)              256       ['Tomformer_decoder_add2_layer\n"
          ]
        },
        {
          "output_type": "stream",
          "name": "stdout",
          "text": [
            "   INFO 2023-12-05 12:28:37:  r2 (LayerNormalization)                                            1[0][0]']                     \n"
          ]
        },
        {
          "output_type": "stream",
          "name": "stderr",
          "text": [
            "INFO:__main__: r2 (LayerNormalization)                                            1[0][0]']                     \n"
          ]
        },
        {
          "output_type": "stream",
          "name": "stdout",
          "text": [
            "   INFO 2023-12-05 12:28:37:                                                                                                   \n"
          ]
        },
        {
          "output_type": "stream",
          "name": "stderr",
          "text": [
            "INFO:__main__:                                                                                                  \n"
          ]
        },
        {
          "output_type": "stream",
          "name": "stdout",
          "text": [
            "   INFO 2023-12-05 12:28:37:  Tomformer_decoder_MHCA_lay  (None, 16, 128)              527488    ['Tomformer_decoder_LN0_layer2\n"
          ]
        },
        {
          "output_type": "stream",
          "name": "stderr",
          "text": [
            "INFO:__main__: Tomformer_decoder_MHCA_lay  (None, 16, 128)              527488    ['Tomformer_decoder_LN0_layer2\n"
          ]
        },
        {
          "output_type": "stream",
          "name": "stdout",
          "text": [
            "   INFO 2023-12-05 12:28:37:  er2 (MultiHeadAttention)                                           [0][0]',                      \n"
          ]
        },
        {
          "output_type": "stream",
          "name": "stderr",
          "text": [
            "INFO:__main__: er2 (MultiHeadAttention)                                           [0][0]',                      \n"
          ]
        },
        {
          "output_type": "stream",
          "name": "stdout",
          "text": [
            "   INFO 2023-12-05 12:28:37:                                                                      'Tomformer_encoder_post_LN[0]\n"
          ]
        },
        {
          "output_type": "stream",
          "name": "stderr",
          "text": [
            "INFO:__main__:                                                                     'Tomformer_encoder_post_LN[0]\n"
          ]
        },
        {
          "output_type": "stream",
          "name": "stdout",
          "text": [
            "   INFO 2023-12-05 12:28:37:                                                                     [0]']                         \n"
          ]
        },
        {
          "output_type": "stream",
          "name": "stderr",
          "text": [
            "INFO:__main__:                                                                    [0]']                         \n"
          ]
        },
        {
          "output_type": "stream",
          "name": "stdout",
          "text": [
            "   INFO 2023-12-05 12:28:37:                                                                                                   \n"
          ]
        },
        {
          "output_type": "stream",
          "name": "stderr",
          "text": [
            "INFO:__main__:                                                                                                  \n"
          ]
        },
        {
          "output_type": "stream",
          "name": "stdout",
          "text": [
            "   INFO 2023-12-05 12:28:37:  Tomformer_decoder_add0_lay  (None, 16, 128)              0         ['Tomformer_decoder_add2_layer\n"
          ]
        },
        {
          "output_type": "stream",
          "name": "stderr",
          "text": [
            "INFO:__main__: Tomformer_decoder_add0_lay  (None, 16, 128)              0         ['Tomformer_decoder_add2_layer\n"
          ]
        },
        {
          "output_type": "stream",
          "name": "stdout",
          "text": [
            "   INFO 2023-12-05 12:28:37:  er2 (Add)                                                          1[0][0]',                     \n"
          ]
        },
        {
          "output_type": "stream",
          "name": "stderr",
          "text": [
            "INFO:__main__: er2 (Add)                                                          1[0][0]',                     \n"
          ]
        },
        {
          "output_type": "stream",
          "name": "stdout",
          "text": [
            "   INFO 2023-12-05 12:28:37:                                                                      'Tomformer_decoder_MHCA_layer\n"
          ]
        },
        {
          "output_type": "stream",
          "name": "stderr",
          "text": [
            "INFO:__main__:                                                                     'Tomformer_decoder_MHCA_layer\n"
          ]
        },
        {
          "output_type": "stream",
          "name": "stdout",
          "text": [
            "   INFO 2023-12-05 12:28:37:                                                                     2[0][0]']                     \n"
          ]
        },
        {
          "output_type": "stream",
          "name": "stderr",
          "text": [
            "INFO:__main__:                                                                    2[0][0]']                     \n"
          ]
        },
        {
          "output_type": "stream",
          "name": "stdout",
          "text": [
            "   INFO 2023-12-05 12:28:37:                                                                                                   \n"
          ]
        },
        {
          "output_type": "stream",
          "name": "stderr",
          "text": [
            "INFO:__main__:                                                                                                  \n"
          ]
        },
        {
          "output_type": "stream",
          "name": "stdout",
          "text": [
            "   INFO 2023-12-05 12:28:37:  Tomformer_decoder_LN1_laye  (None, 16, 128)              256       ['Tomformer_decoder_add0_layer\n"
          ]
        },
        {
          "output_type": "stream",
          "name": "stderr",
          "text": [
            "INFO:__main__: Tomformer_decoder_LN1_laye  (None, 16, 128)              256       ['Tomformer_decoder_add0_layer\n"
          ]
        },
        {
          "output_type": "stream",
          "name": "stdout",
          "text": [
            "   INFO 2023-12-05 12:28:37:  r2 (LayerNormalization)                                            2[0][0]']                     \n"
          ]
        },
        {
          "output_type": "stream",
          "name": "stderr",
          "text": [
            "INFO:__main__: r2 (LayerNormalization)                                            2[0][0]']                     \n"
          ]
        },
        {
          "output_type": "stream",
          "name": "stdout",
          "text": [
            "   INFO 2023-12-05 12:28:37:                                                                                                   \n"
          ]
        },
        {
          "output_type": "stream",
          "name": "stderr",
          "text": [
            "INFO:__main__:                                                                                                  \n"
          ]
        },
        {
          "output_type": "stream",
          "name": "stdout",
          "text": [
            "   INFO 2023-12-05 12:28:37:  Tomformer_decoder_MHSA_lay  (None, 16, 128)              527488    ['Tomformer_decoder_LN1_layer2\n"
          ]
        },
        {
          "output_type": "stream",
          "name": "stderr",
          "text": [
            "INFO:__main__: Tomformer_decoder_MHSA_lay  (None, 16, 128)              527488    ['Tomformer_decoder_LN1_layer2\n"
          ]
        },
        {
          "output_type": "stream",
          "name": "stdout",
          "text": [
            "   INFO 2023-12-05 12:28:37:  er2 (MultiHeadAttention)                                           [0][0]',                      \n"
          ]
        },
        {
          "output_type": "stream",
          "name": "stderr",
          "text": [
            "INFO:__main__: er2 (MultiHeadAttention)                                           [0][0]',                      \n"
          ]
        },
        {
          "output_type": "stream",
          "name": "stdout",
          "text": [
            "   INFO 2023-12-05 12:28:37:                                                                      'Tomformer_decoder_LN1_layer2\n"
          ]
        },
        {
          "output_type": "stream",
          "name": "stderr",
          "text": [
            "INFO:__main__:                                                                     'Tomformer_decoder_LN1_layer2\n"
          ]
        },
        {
          "output_type": "stream",
          "name": "stdout",
          "text": [
            "   INFO 2023-12-05 12:28:37:                                                                     [0][0]']                      \n"
          ]
        },
        {
          "output_type": "stream",
          "name": "stderr",
          "text": [
            "INFO:__main__:                                                                    [0][0]']                      \n"
          ]
        },
        {
          "output_type": "stream",
          "name": "stdout",
          "text": [
            "   INFO 2023-12-05 12:28:37:                                                                                                   \n"
          ]
        },
        {
          "output_type": "stream",
          "name": "stderr",
          "text": [
            "INFO:__main__:                                                                                                  \n"
          ]
        },
        {
          "output_type": "stream",
          "name": "stdout",
          "text": [
            "   INFO 2023-12-05 12:28:37:  Tomformer_decoder_add1_lay  (None, 16, 128)              0         ['Tomformer_decoder_add0_layer\n"
          ]
        },
        {
          "output_type": "stream",
          "name": "stderr",
          "text": [
            "INFO:__main__: Tomformer_decoder_add1_lay  (None, 16, 128)              0         ['Tomformer_decoder_add0_layer\n"
          ]
        },
        {
          "output_type": "stream",
          "name": "stdout",
          "text": [
            "   INFO 2023-12-05 12:28:37:  er2 (Add)                                                          2[0][0]',                     \n"
          ]
        },
        {
          "output_type": "stream",
          "name": "stderr",
          "text": [
            "INFO:__main__: er2 (Add)                                                          2[0][0]',                     \n"
          ]
        },
        {
          "output_type": "stream",
          "name": "stdout",
          "text": [
            "   INFO 2023-12-05 12:28:37:                                                                      'Tomformer_decoder_MHSA_layer\n"
          ]
        },
        {
          "output_type": "stream",
          "name": "stderr",
          "text": [
            "INFO:__main__:                                                                     'Tomformer_decoder_MHSA_layer\n"
          ]
        },
        {
          "output_type": "stream",
          "name": "stdout",
          "text": [
            "   INFO 2023-12-05 12:28:37:                                                                     2[0][0]']                     \n"
          ]
        },
        {
          "output_type": "stream",
          "name": "stderr",
          "text": [
            "INFO:__main__:                                                                    2[0][0]']                     \n"
          ]
        },
        {
          "output_type": "stream",
          "name": "stdout",
          "text": [
            "   INFO 2023-12-05 12:28:37:                                                                                                   \n"
          ]
        },
        {
          "output_type": "stream",
          "name": "stderr",
          "text": [
            "INFO:__main__:                                                                                                  \n"
          ]
        },
        {
          "output_type": "stream",
          "name": "stdout",
          "text": [
            "   INFO 2023-12-05 12:28:37:  Tomformer_decoder_LN2_laye  (None, 16, 128)              256       ['Tomformer_decoder_add1_layer\n"
          ]
        },
        {
          "output_type": "stream",
          "name": "stderr",
          "text": [
            "INFO:__main__: Tomformer_decoder_LN2_laye  (None, 16, 128)              256       ['Tomformer_decoder_add1_layer\n"
          ]
        },
        {
          "output_type": "stream",
          "name": "stdout",
          "text": [
            "   INFO 2023-12-05 12:28:37:  r2 (LayerNormalization)                                            2[0][0]']                     \n"
          ]
        },
        {
          "output_type": "stream",
          "name": "stderr",
          "text": [
            "INFO:__main__: r2 (LayerNormalization)                                            2[0][0]']                     \n"
          ]
        },
        {
          "output_type": "stream",
          "name": "stdout",
          "text": [
            "   INFO 2023-12-05 12:28:37:                                                                                                   \n"
          ]
        },
        {
          "output_type": "stream",
          "name": "stderr",
          "text": [
            "INFO:__main__:                                                                                                  \n"
          ]
        },
        {
          "output_type": "stream",
          "name": "stdout",
          "text": [
            "   INFO 2023-12-05 12:28:37:  Tomformer_decoder_MLP0_lay  (None, 16, 512)              66048     ['Tomformer_decoder_LN2_layer2\n"
          ]
        },
        {
          "output_type": "stream",
          "name": "stderr",
          "text": [
            "INFO:__main__: Tomformer_decoder_MLP0_lay  (None, 16, 512)              66048     ['Tomformer_decoder_LN2_layer2\n"
          ]
        },
        {
          "output_type": "stream",
          "name": "stdout",
          "text": [
            "   INFO 2023-12-05 12:28:37:  er2 (Dense)                                                        [0][0]']                      \n"
          ]
        },
        {
          "output_type": "stream",
          "name": "stderr",
          "text": [
            "INFO:__main__: er2 (Dense)                                                        [0][0]']                      \n"
          ]
        },
        {
          "output_type": "stream",
          "name": "stdout",
          "text": [
            "   INFO 2023-12-05 12:28:37:                                                                                                   \n"
          ]
        },
        {
          "output_type": "stream",
          "name": "stderr",
          "text": [
            "INFO:__main__:                                                                                                  \n"
          ]
        },
        {
          "output_type": "stream",
          "name": "stdout",
          "text": [
            "   INFO 2023-12-05 12:28:37:  Tomformer_decoder_MLP1_lay  (None, 16, 128)              65664     ['Tomformer_decoder_MLP0_layer\n"
          ]
        },
        {
          "output_type": "stream",
          "name": "stderr",
          "text": [
            "INFO:__main__: Tomformer_decoder_MLP1_lay  (None, 16, 128)              65664     ['Tomformer_decoder_MLP0_layer\n"
          ]
        },
        {
          "output_type": "stream",
          "name": "stdout",
          "text": [
            "   INFO 2023-12-05 12:28:37:  er2 (Dense)                                                        2[0][0]']                     \n"
          ]
        },
        {
          "output_type": "stream",
          "name": "stderr",
          "text": [
            "INFO:__main__: er2 (Dense)                                                        2[0][0]']                     \n"
          ]
        },
        {
          "output_type": "stream",
          "name": "stdout",
          "text": [
            "   INFO 2023-12-05 12:28:37:                                                                                                   \n"
          ]
        },
        {
          "output_type": "stream",
          "name": "stderr",
          "text": [
            "INFO:__main__:                                                                                                  \n"
          ]
        },
        {
          "output_type": "stream",
          "name": "stdout",
          "text": [
            "   INFO 2023-12-05 12:28:37:  Tomformer_decoder_add2_lay  (None, 16, 128)              0         ['Tomformer_decoder_add1_layer\n"
          ]
        },
        {
          "output_type": "stream",
          "name": "stderr",
          "text": [
            "INFO:__main__: Tomformer_decoder_add2_lay  (None, 16, 128)              0         ['Tomformer_decoder_add1_layer\n"
          ]
        },
        {
          "output_type": "stream",
          "name": "stdout",
          "text": [
            "   INFO 2023-12-05 12:28:37:  er2 (Add)                                                          2[0][0]',                     \n"
          ]
        },
        {
          "output_type": "stream",
          "name": "stderr",
          "text": [
            "INFO:__main__: er2 (Add)                                                          2[0][0]',                     \n"
          ]
        },
        {
          "output_type": "stream",
          "name": "stdout",
          "text": [
            "   INFO 2023-12-05 12:28:37:                                                                      'Tomformer_decoder_MLP1_layer\n"
          ]
        },
        {
          "output_type": "stream",
          "name": "stderr",
          "text": [
            "INFO:__main__:                                                                     'Tomformer_decoder_MLP1_layer\n"
          ]
        },
        {
          "output_type": "stream",
          "name": "stdout",
          "text": [
            "   INFO 2023-12-05 12:28:37:                                                                     2[0][0]']                     \n"
          ]
        },
        {
          "output_type": "stream",
          "name": "stderr",
          "text": [
            "INFO:__main__:                                                                    2[0][0]']                     \n"
          ]
        },
        {
          "output_type": "stream",
          "name": "stdout",
          "text": [
            "   INFO 2023-12-05 12:28:37:                                                                                                   \n"
          ]
        },
        {
          "output_type": "stream",
          "name": "stderr",
          "text": [
            "INFO:__main__:                                                                                                  \n"
          ]
        },
        {
          "output_type": "stream",
          "name": "stdout",
          "text": [
            "   INFO 2023-12-05 12:28:37:  Tomformer_decoder_LN0_laye  (None, 16, 128)              256       ['Tomformer_decoder_add2_layer\n"
          ]
        },
        {
          "output_type": "stream",
          "name": "stderr",
          "text": [
            "INFO:__main__: Tomformer_decoder_LN0_laye  (None, 16, 128)              256       ['Tomformer_decoder_add2_layer\n"
          ]
        },
        {
          "output_type": "stream",
          "name": "stdout",
          "text": [
            "   INFO 2023-12-05 12:28:37:  r3 (LayerNormalization)                                            2[0][0]']                     \n"
          ]
        },
        {
          "output_type": "stream",
          "name": "stderr",
          "text": [
            "INFO:__main__: r3 (LayerNormalization)                                            2[0][0]']                     \n"
          ]
        },
        {
          "output_type": "stream",
          "name": "stdout",
          "text": [
            "   INFO 2023-12-05 12:28:37:                                                                                                   \n"
          ]
        },
        {
          "output_type": "stream",
          "name": "stderr",
          "text": [
            "INFO:__main__:                                                                                                  \n"
          ]
        },
        {
          "output_type": "stream",
          "name": "stdout",
          "text": [
            "   INFO 2023-12-05 12:28:37:  Tomformer_decoder_MHCA_lay  (None, 16, 128)              527488    ['Tomformer_decoder_LN0_layer3\n"
          ]
        },
        {
          "output_type": "stream",
          "name": "stderr",
          "text": [
            "INFO:__main__: Tomformer_decoder_MHCA_lay  (None, 16, 128)              527488    ['Tomformer_decoder_LN0_layer3\n"
          ]
        },
        {
          "output_type": "stream",
          "name": "stdout",
          "text": [
            "   INFO 2023-12-05 12:28:37:  er3 (MultiHeadAttention)                                           [0][0]',                      \n"
          ]
        },
        {
          "output_type": "stream",
          "name": "stderr",
          "text": [
            "INFO:__main__: er3 (MultiHeadAttention)                                           [0][0]',                      \n"
          ]
        },
        {
          "output_type": "stream",
          "name": "stdout",
          "text": [
            "   INFO 2023-12-05 12:28:37:                                                                      'Tomformer_encoder_post_LN[0]\n"
          ]
        },
        {
          "output_type": "stream",
          "name": "stderr",
          "text": [
            "INFO:__main__:                                                                     'Tomformer_encoder_post_LN[0]\n"
          ]
        },
        {
          "output_type": "stream",
          "name": "stdout",
          "text": [
            "   INFO 2023-12-05 12:28:37:                                                                     [0]']                         \n"
          ]
        },
        {
          "output_type": "stream",
          "name": "stderr",
          "text": [
            "INFO:__main__:                                                                    [0]']                         \n"
          ]
        },
        {
          "output_type": "stream",
          "name": "stdout",
          "text": [
            "   INFO 2023-12-05 12:28:37:                                                                                                   \n"
          ]
        },
        {
          "output_type": "stream",
          "name": "stderr",
          "text": [
            "INFO:__main__:                                                                                                  \n"
          ]
        },
        {
          "output_type": "stream",
          "name": "stdout",
          "text": [
            "   INFO 2023-12-05 12:28:37:  Tomformer_decoder_add0_lay  (None, 16, 128)              0         ['Tomformer_decoder_add2_layer\n"
          ]
        },
        {
          "output_type": "stream",
          "name": "stderr",
          "text": [
            "INFO:__main__: Tomformer_decoder_add0_lay  (None, 16, 128)              0         ['Tomformer_decoder_add2_layer\n"
          ]
        },
        {
          "output_type": "stream",
          "name": "stdout",
          "text": [
            "   INFO 2023-12-05 12:28:37:  er3 (Add)                                                          2[0][0]',                     \n"
          ]
        },
        {
          "output_type": "stream",
          "name": "stderr",
          "text": [
            "INFO:__main__: er3 (Add)                                                          2[0][0]',                     \n"
          ]
        },
        {
          "output_type": "stream",
          "name": "stdout",
          "text": [
            "   INFO 2023-12-05 12:28:37:                                                                      'Tomformer_decoder_MHCA_layer\n"
          ]
        },
        {
          "output_type": "stream",
          "name": "stderr",
          "text": [
            "INFO:__main__:                                                                     'Tomformer_decoder_MHCA_layer\n"
          ]
        },
        {
          "output_type": "stream",
          "name": "stdout",
          "text": [
            "   INFO 2023-12-05 12:28:37:                                                                     3[0][0]']                     \n"
          ]
        },
        {
          "output_type": "stream",
          "name": "stderr",
          "text": [
            "INFO:__main__:                                                                    3[0][0]']                     \n"
          ]
        },
        {
          "output_type": "stream",
          "name": "stdout",
          "text": [
            "   INFO 2023-12-05 12:28:37:                                                                                                   \n"
          ]
        },
        {
          "output_type": "stream",
          "name": "stderr",
          "text": [
            "INFO:__main__:                                                                                                  \n"
          ]
        },
        {
          "output_type": "stream",
          "name": "stdout",
          "text": [
            "   INFO 2023-12-05 12:28:37:  Tomformer_decoder_LN1_laye  (None, 16, 128)              256       ['Tomformer_decoder_add0_layer\n"
          ]
        },
        {
          "output_type": "stream",
          "name": "stderr",
          "text": [
            "INFO:__main__: Tomformer_decoder_LN1_laye  (None, 16, 128)              256       ['Tomformer_decoder_add0_layer\n"
          ]
        },
        {
          "output_type": "stream",
          "name": "stdout",
          "text": [
            "   INFO 2023-12-05 12:28:37:  r3 (LayerNormalization)                                            3[0][0]']                     \n"
          ]
        },
        {
          "output_type": "stream",
          "name": "stderr",
          "text": [
            "INFO:__main__: r3 (LayerNormalization)                                            3[0][0]']                     \n"
          ]
        },
        {
          "output_type": "stream",
          "name": "stdout",
          "text": [
            "   INFO 2023-12-05 12:28:37:                                                                                                   \n"
          ]
        },
        {
          "output_type": "stream",
          "name": "stderr",
          "text": [
            "INFO:__main__:                                                                                                  \n"
          ]
        },
        {
          "output_type": "stream",
          "name": "stdout",
          "text": [
            "   INFO 2023-12-05 12:28:37:  Tomformer_decoder_MHSA_lay  (None, 16, 128)              527488    ['Tomformer_decoder_LN1_layer3\n"
          ]
        },
        {
          "output_type": "stream",
          "name": "stderr",
          "text": [
            "INFO:__main__: Tomformer_decoder_MHSA_lay  (None, 16, 128)              527488    ['Tomformer_decoder_LN1_layer3\n"
          ]
        },
        {
          "output_type": "stream",
          "name": "stdout",
          "text": [
            "   INFO 2023-12-05 12:28:37:  er3 (MultiHeadAttention)                                           [0][0]',                      \n"
          ]
        },
        {
          "output_type": "stream",
          "name": "stderr",
          "text": [
            "INFO:__main__: er3 (MultiHeadAttention)                                           [0][0]',                      \n"
          ]
        },
        {
          "output_type": "stream",
          "name": "stdout",
          "text": [
            "   INFO 2023-12-05 12:28:37:                                                                      'Tomformer_decoder_LN1_layer3\n"
          ]
        },
        {
          "output_type": "stream",
          "name": "stderr",
          "text": [
            "INFO:__main__:                                                                     'Tomformer_decoder_LN1_layer3\n"
          ]
        },
        {
          "output_type": "stream",
          "name": "stdout",
          "text": [
            "   INFO 2023-12-05 12:28:37:                                                                     [0][0]']                      \n"
          ]
        },
        {
          "output_type": "stream",
          "name": "stderr",
          "text": [
            "INFO:__main__:                                                                    [0][0]']                      \n"
          ]
        },
        {
          "output_type": "stream",
          "name": "stdout",
          "text": [
            "   INFO 2023-12-05 12:28:37:                                                                                                   \n"
          ]
        },
        {
          "output_type": "stream",
          "name": "stderr",
          "text": [
            "INFO:__main__:                                                                                                  \n"
          ]
        },
        {
          "output_type": "stream",
          "name": "stdout",
          "text": [
            "   INFO 2023-12-05 12:28:37:  Tomformer_decoder_add1_lay  (None, 16, 128)              0         ['Tomformer_decoder_add0_layer\n"
          ]
        },
        {
          "output_type": "stream",
          "name": "stderr",
          "text": [
            "INFO:__main__: Tomformer_decoder_add1_lay  (None, 16, 128)              0         ['Tomformer_decoder_add0_layer\n"
          ]
        },
        {
          "output_type": "stream",
          "name": "stdout",
          "text": [
            "   INFO 2023-12-05 12:28:37:  er3 (Add)                                                          3[0][0]',                     \n"
          ]
        },
        {
          "output_type": "stream",
          "name": "stderr",
          "text": [
            "INFO:__main__: er3 (Add)                                                          3[0][0]',                     \n"
          ]
        },
        {
          "output_type": "stream",
          "name": "stdout",
          "text": [
            "   INFO 2023-12-05 12:28:37:                                                                      'Tomformer_decoder_MHSA_layer\n"
          ]
        },
        {
          "output_type": "stream",
          "name": "stderr",
          "text": [
            "INFO:__main__:                                                                     'Tomformer_decoder_MHSA_layer\n"
          ]
        },
        {
          "output_type": "stream",
          "name": "stdout",
          "text": [
            "   INFO 2023-12-05 12:28:37:                                                                     3[0][0]']                     \n"
          ]
        },
        {
          "output_type": "stream",
          "name": "stderr",
          "text": [
            "INFO:__main__:                                                                    3[0][0]']                     \n"
          ]
        },
        {
          "output_type": "stream",
          "name": "stdout",
          "text": [
            "   INFO 2023-12-05 12:28:37:                                                                                                   \n"
          ]
        },
        {
          "output_type": "stream",
          "name": "stderr",
          "text": [
            "INFO:__main__:                                                                                                  \n"
          ]
        },
        {
          "output_type": "stream",
          "name": "stdout",
          "text": [
            "   INFO 2023-12-05 12:28:37:  Tomformer_decoder_LN2_laye  (None, 16, 128)              256       ['Tomformer_decoder_add1_layer\n"
          ]
        },
        {
          "output_type": "stream",
          "name": "stderr",
          "text": [
            "INFO:__main__: Tomformer_decoder_LN2_laye  (None, 16, 128)              256       ['Tomformer_decoder_add1_layer\n"
          ]
        },
        {
          "output_type": "stream",
          "name": "stdout",
          "text": [
            "   INFO 2023-12-05 12:28:37:  r3 (LayerNormalization)                                            3[0][0]']                     \n"
          ]
        },
        {
          "output_type": "stream",
          "name": "stderr",
          "text": [
            "INFO:__main__: r3 (LayerNormalization)                                            3[0][0]']                     \n"
          ]
        },
        {
          "output_type": "stream",
          "name": "stdout",
          "text": [
            "   INFO 2023-12-05 12:28:37:                                                                                                   \n"
          ]
        },
        {
          "output_type": "stream",
          "name": "stderr",
          "text": [
            "INFO:__main__:                                                                                                  \n"
          ]
        },
        {
          "output_type": "stream",
          "name": "stdout",
          "text": [
            "   INFO 2023-12-05 12:28:37:  Tomformer_decoder_MLP0_lay  (None, 16, 512)              66048     ['Tomformer_decoder_LN2_layer3\n"
          ]
        },
        {
          "output_type": "stream",
          "name": "stderr",
          "text": [
            "INFO:__main__: Tomformer_decoder_MLP0_lay  (None, 16, 512)              66048     ['Tomformer_decoder_LN2_layer3\n"
          ]
        },
        {
          "output_type": "stream",
          "name": "stdout",
          "text": [
            "   INFO 2023-12-05 12:28:37:  er3 (Dense)                                                        [0][0]']                      \n"
          ]
        },
        {
          "output_type": "stream",
          "name": "stderr",
          "text": [
            "INFO:__main__: er3 (Dense)                                                        [0][0]']                      \n"
          ]
        },
        {
          "output_type": "stream",
          "name": "stdout",
          "text": [
            "   INFO 2023-12-05 12:28:37:                                                                                                   \n"
          ]
        },
        {
          "output_type": "stream",
          "name": "stderr",
          "text": [
            "INFO:__main__:                                                                                                  \n"
          ]
        },
        {
          "output_type": "stream",
          "name": "stdout",
          "text": [
            "   INFO 2023-12-05 12:28:37:  Tomformer_decoder_MLP1_lay  (None, 16, 128)              65664     ['Tomformer_decoder_MLP0_layer\n"
          ]
        },
        {
          "output_type": "stream",
          "name": "stderr",
          "text": [
            "INFO:__main__: Tomformer_decoder_MLP1_lay  (None, 16, 128)              65664     ['Tomformer_decoder_MLP0_layer\n"
          ]
        },
        {
          "output_type": "stream",
          "name": "stdout",
          "text": [
            "   INFO 2023-12-05 12:28:37:  er3 (Dense)                                                        3[0][0]']                     \n"
          ]
        },
        {
          "output_type": "stream",
          "name": "stderr",
          "text": [
            "INFO:__main__: er3 (Dense)                                                        3[0][0]']                     \n"
          ]
        },
        {
          "output_type": "stream",
          "name": "stdout",
          "text": [
            "   INFO 2023-12-05 12:28:37:                                                                                                   \n"
          ]
        },
        {
          "output_type": "stream",
          "name": "stderr",
          "text": [
            "INFO:__main__:                                                                                                  \n"
          ]
        },
        {
          "output_type": "stream",
          "name": "stdout",
          "text": [
            "   INFO 2023-12-05 12:28:37:  Tomformer_decoder_add2_lay  (None, 16, 128)              0         ['Tomformer_decoder_add1_layer\n"
          ]
        },
        {
          "output_type": "stream",
          "name": "stderr",
          "text": [
            "INFO:__main__: Tomformer_decoder_add2_lay  (None, 16, 128)              0         ['Tomformer_decoder_add1_layer\n"
          ]
        },
        {
          "output_type": "stream",
          "name": "stdout",
          "text": [
            "   INFO 2023-12-05 12:28:37:  er3 (Add)                                                          3[0][0]',                     \n"
          ]
        },
        {
          "output_type": "stream",
          "name": "stderr",
          "text": [
            "INFO:__main__: er3 (Add)                                                          3[0][0]',                     \n"
          ]
        },
        {
          "output_type": "stream",
          "name": "stdout",
          "text": [
            "   INFO 2023-12-05 12:28:37:                                                                      'Tomformer_decoder_MLP1_layer\n"
          ]
        },
        {
          "output_type": "stream",
          "name": "stderr",
          "text": [
            "INFO:__main__:                                                                     'Tomformer_decoder_MLP1_layer\n"
          ]
        },
        {
          "output_type": "stream",
          "name": "stdout",
          "text": [
            "   INFO 2023-12-05 12:28:37:                                                                     3[0][0]']                     \n"
          ]
        },
        {
          "output_type": "stream",
          "name": "stderr",
          "text": [
            "INFO:__main__:                                                                    3[0][0]']                     \n"
          ]
        },
        {
          "output_type": "stream",
          "name": "stdout",
          "text": [
            "   INFO 2023-12-05 12:28:37:                                                                                                   \n"
          ]
        },
        {
          "output_type": "stream",
          "name": "stderr",
          "text": [
            "INFO:__main__:                                                                                                  \n"
          ]
        },
        {
          "output_type": "stream",
          "name": "stdout",
          "text": [
            "   INFO 2023-12-05 12:28:37:  Tomformer_MLP_LN_layer0 (L  (None, 16, 128)              256       ['Tomformer_decoder_add2_layer\n"
          ]
        },
        {
          "output_type": "stream",
          "name": "stderr",
          "text": [
            "INFO:__main__: Tomformer_MLP_LN_layer0 (L  (None, 16, 128)              256       ['Tomformer_decoder_add2_layer\n"
          ]
        },
        {
          "output_type": "stream",
          "name": "stdout",
          "text": [
            "   INFO 2023-12-05 12:28:37:  ayerNormalization)                                                 3[0][0]']                     \n"
          ]
        },
        {
          "output_type": "stream",
          "name": "stderr",
          "text": [
            "INFO:__main__: ayerNormalization)                                                 3[0][0]']                     \n"
          ]
        },
        {
          "output_type": "stream",
          "name": "stdout",
          "text": [
            "   INFO 2023-12-05 12:28:37:                                                                                                   \n"
          ]
        },
        {
          "output_type": "stream",
          "name": "stderr",
          "text": [
            "INFO:__main__:                                                                                                  \n"
          ]
        },
        {
          "output_type": "stream",
          "name": "stdout",
          "text": [
            "   INFO 2023-12-05 12:28:37:  Tomformer_MLP_layer0 (Dens  (None, 16, 512)              66048     ['Tomformer_MLP_LN_layer0[0][0\n"
          ]
        },
        {
          "output_type": "stream",
          "name": "stderr",
          "text": [
            "INFO:__main__: Tomformer_MLP_layer0 (Dens  (None, 16, 512)              66048     ['Tomformer_MLP_LN_layer0[0][0\n"
          ]
        },
        {
          "output_type": "stream",
          "name": "stdout",
          "text": [
            "   INFO 2023-12-05 12:28:37:  e)                                                                 ]']                           \n"
          ]
        },
        {
          "output_type": "stream",
          "name": "stderr",
          "text": [
            "INFO:__main__: e)                                                                 ]']                           \n"
          ]
        },
        {
          "output_type": "stream",
          "name": "stdout",
          "text": [
            "   INFO 2023-12-05 12:28:37:                                                                                                   \n"
          ]
        },
        {
          "output_type": "stream",
          "name": "stderr",
          "text": [
            "INFO:__main__:                                                                                                  \n"
          ]
        },
        {
          "output_type": "stream",
          "name": "stdout",
          "text": [
            "   INFO 2023-12-05 12:28:37:  Tomformer_MLP_LN_layer1 (L  (None, 16, 512)              1024      ['Tomformer_MLP_layer0[0][0]']\n"
          ]
        },
        {
          "output_type": "stream",
          "name": "stderr",
          "text": [
            "INFO:__main__: Tomformer_MLP_LN_layer1 (L  (None, 16, 512)              1024      ['Tomformer_MLP_layer0[0][0]']\n"
          ]
        },
        {
          "output_type": "stream",
          "name": "stdout",
          "text": [
            "   INFO 2023-12-05 12:28:37:  ayerNormalization)                                                                               \n"
          ]
        },
        {
          "output_type": "stream",
          "name": "stderr",
          "text": [
            "INFO:__main__: ayerNormalization)                                                                               \n"
          ]
        },
        {
          "output_type": "stream",
          "name": "stdout",
          "text": [
            "   INFO 2023-12-05 12:28:37:                                                                                                   \n"
          ]
        },
        {
          "output_type": "stream",
          "name": "stderr",
          "text": [
            "INFO:__main__:                                                                                                  \n"
          ]
        },
        {
          "output_type": "stream",
          "name": "stdout",
          "text": [
            "   INFO 2023-12-05 12:28:37:  Tomformer_MLP_layer1 (Dens  (None, 16, 512)              262656    ['Tomformer_MLP_LN_layer1[0][0\n"
          ]
        },
        {
          "output_type": "stream",
          "name": "stderr",
          "text": [
            "INFO:__main__: Tomformer_MLP_layer1 (Dens  (None, 16, 512)              262656    ['Tomformer_MLP_LN_layer1[0][0\n"
          ]
        },
        {
          "output_type": "stream",
          "name": "stdout",
          "text": [
            "   INFO 2023-12-05 12:28:37:  e)                                                                 ]']                           \n"
          ]
        },
        {
          "output_type": "stream",
          "name": "stderr",
          "text": [
            "INFO:__main__: e)                                                                 ]']                           \n"
          ]
        },
        {
          "output_type": "stream",
          "name": "stdout",
          "text": [
            "   INFO 2023-12-05 12:28:37:                                                                                                   \n"
          ]
        },
        {
          "output_type": "stream",
          "name": "stderr",
          "text": [
            "INFO:__main__:                                                                                                  \n"
          ]
        },
        {
          "output_type": "stream",
          "name": "stdout",
          "text": [
            "   INFO 2023-12-05 12:28:37:  Tomformer_MLP_LN_layer2 (L  (None, 16, 512)              1024      ['Tomformer_MLP_layer1[0][0]']\n"
          ]
        },
        {
          "output_type": "stream",
          "name": "stderr",
          "text": [
            "INFO:__main__: Tomformer_MLP_LN_layer2 (L  (None, 16, 512)              1024      ['Tomformer_MLP_layer1[0][0]']\n"
          ]
        },
        {
          "output_type": "stream",
          "name": "stdout",
          "text": [
            "   INFO 2023-12-05 12:28:37:  ayerNormalization)                                                                               \n"
          ]
        },
        {
          "output_type": "stream",
          "name": "stderr",
          "text": [
            "INFO:__main__: ayerNormalization)                                                                               \n"
          ]
        },
        {
          "output_type": "stream",
          "name": "stdout",
          "text": [
            "   INFO 2023-12-05 12:28:37:                                                                                                   \n"
          ]
        },
        {
          "output_type": "stream",
          "name": "stderr",
          "text": [
            "INFO:__main__:                                                                                                  \n"
          ]
        },
        {
          "output_type": "stream",
          "name": "stdout",
          "text": [
            "   INFO 2023-12-05 12:28:37:  Tomformer_MLP_layer2 (Dens  (None, 16, 512)              262656    ['Tomformer_MLP_LN_layer2[0][0\n"
          ]
        },
        {
          "output_type": "stream",
          "name": "stderr",
          "text": [
            "INFO:__main__: Tomformer_MLP_layer2 (Dens  (None, 16, 512)              262656    ['Tomformer_MLP_LN_layer2[0][0\n"
          ]
        },
        {
          "output_type": "stream",
          "name": "stdout",
          "text": [
            "   INFO 2023-12-05 12:28:37:  e)                                                                 ]']                           \n"
          ]
        },
        {
          "output_type": "stream",
          "name": "stderr",
          "text": [
            "INFO:__main__: e)                                                                 ]']                           \n"
          ]
        },
        {
          "output_type": "stream",
          "name": "stdout",
          "text": [
            "   INFO 2023-12-05 12:28:37:                                                                                                   \n"
          ]
        },
        {
          "output_type": "stream",
          "name": "stderr",
          "text": [
            "INFO:__main__:                                                                                                  \n"
          ]
        },
        {
          "output_type": "stream",
          "name": "stdout",
          "text": [
            "   INFO 2023-12-05 12:28:37:  Tomformer_logits (Dense)    (None, 16, 1)                513       ['Tomformer_MLP_layer2[0][0]']\n"
          ]
        },
        {
          "output_type": "stream",
          "name": "stderr",
          "text": [
            "INFO:__main__: Tomformer_logits (Dense)    (None, 16, 1)                513       ['Tomformer_MLP_layer2[0][0]']\n"
          ]
        },
        {
          "output_type": "stream",
          "name": "stdout",
          "text": [
            "   INFO 2023-12-05 12:28:37:                                                                                                   \n"
          ]
        },
        {
          "output_type": "stream",
          "name": "stderr",
          "text": [
            "INFO:__main__:                                                                                                  \n"
          ]
        },
        {
          "output_type": "stream",
          "name": "stdout",
          "text": [
            "   INFO 2023-12-05 12:28:37:  Tomformer_output (Reshape)  (None, 4, 4)                 0         ['Tomformer_logits[0][0]']    \n"
          ]
        },
        {
          "output_type": "stream",
          "name": "stderr",
          "text": [
            "INFO:__main__: Tomformer_output (Reshape)  (None, 4, 4)                 0         ['Tomformer_logits[0][0]']    \n"
          ]
        },
        {
          "output_type": "stream",
          "name": "stdout",
          "text": [
            "   INFO 2023-12-05 12:28:37:                                                                                                   \n"
          ]
        },
        {
          "output_type": "stream",
          "name": "stderr",
          "text": [
            "INFO:__main__:                                                                                                  \n"
          ]
        },
        {
          "output_type": "stream",
          "name": "stdout",
          "text": [
            "   INFO 2023-12-05 12:28:37: ==================================================================================================\n"
          ]
        },
        {
          "output_type": "stream",
          "name": "stderr",
          "text": [
            "INFO:__main__:==================================================================================================\n"
          ]
        },
        {
          "output_type": "stream",
          "name": "stdout",
          "text": [
            "   INFO 2023-12-05 12:28:37: Total params: 7985921 (30.46 MB)\n"
          ]
        },
        {
          "output_type": "stream",
          "name": "stderr",
          "text": [
            "INFO:__main__:Total params: 7985921 (30.46 MB)\n"
          ]
        },
        {
          "output_type": "stream",
          "name": "stdout",
          "text": [
            "   INFO 2023-12-05 12:28:37: Trainable params: 7985921 (30.46 MB)\n"
          ]
        },
        {
          "output_type": "stream",
          "name": "stderr",
          "text": [
            "INFO:__main__:Trainable params: 7985921 (30.46 MB)\n"
          ]
        },
        {
          "output_type": "stream",
          "name": "stdout",
          "text": [
            "   INFO 2023-12-05 12:28:37: Non-trainable params: 0 (0.00 Byte)\n"
          ]
        },
        {
          "output_type": "stream",
          "name": "stderr",
          "text": [
            "INFO:__main__:Non-trainable params: 0 (0.00 Byte)\n"
          ]
        },
        {
          "output_type": "stream",
          "name": "stdout",
          "text": [
            "   INFO 2023-12-05 12:28:37: __________________________________________________________________________________________________\n"
          ]
        },
        {
          "output_type": "stream",
          "name": "stderr",
          "text": [
            "INFO:__main__:__________________________________________________________________________________________________\n"
          ]
        }
      ]
    },
    {
      "cell_type": "code",
      "source": [
        "##============================================================##\n",
        "##  Shuffle and split data into training and validation sets  ##\n",
        "##============================================================##\n",
        "\n",
        "##  Enumerate datapoints and shuffle\n",
        "idcs = np.arange(len(X))\n",
        "np.random.shuffle(idcs)\n",
        "\n",
        "##  Separate indices into train and validation sets\n",
        "val_split            = config[\"training\"][\"validation_split\"]\n",
        "split_idx            = int(val_split*len(idcs))\n",
        "train_idcs, val_idcs = idcs[split_idx:], idcs[:split_idx]\n",
        "logger.info(f\"Validation split is {val_split}\")\n",
        "logger.info(f\"Assigned following indicies for training data: {train_idcs}\")\n",
        "logger.info(f\"Assigned following indicies for validation data: {val_idcs}\")\n",
        "\n",
        "##  Create train and validation sets\n",
        "train_X, train_Y = X[train_idcs], Y[train_idcs]\n",
        "val_X  , val_Y   = X[  val_idcs], Y[  val_idcs]\n",
        "logger.info(f\"train_X created with shape: {train_X.shape}\")\n",
        "logger.info(f\"train_Y created with shape: {train_Y.shape}\")\n",
        "logger.info(f\"  val_X created with shape: {  val_X.shape}\")\n",
        "logger.info(f\"  val_Y created with shape: {  val_Y.shape}\")"
      ],
      "metadata": {
        "id": "xonJvXlIwxki",
        "colab": {
          "base_uri": "https://localhost:8080/"
        },
        "outputId": "85b44fe1-6bc5-4f03-c947-3523ef416989"
      },
      "execution_count": null,
      "outputs": [
        {
          "output_type": "stream",
          "name": "stdout",
          "text": [
            "   INFO 2023-12-05 12:28:37: Validation split is 0.2\n"
          ]
        },
        {
          "output_type": "stream",
          "name": "stderr",
          "text": [
            "INFO:__main__:Validation split is 0.2\n"
          ]
        },
        {
          "output_type": "stream",
          "name": "stdout",
          "text": [
            "   INFO 2023-12-05 12:28:37: Assigned following indicies for training data: [ 90 536 460 331 385  32  17 617 222 630 463 499 202  29 198 481 464  39\n",
            " 168 271 166  34  79 209 321 211 424 531 520  59 192 584 193 525 383 575\n",
            "  37 370 163 240 641 606 566 144 374 489 181 624  52 616 577 585 106 637\n",
            " 151 327 328 571  25  33 583 628 237  40 542 528 526  76 200 375 329 153\n",
            "  63 132 325 285 634 497 289 418 357 547  66 236   6 250 502 333 640 484\n",
            "  16 235   4 245 453 196 207 610 201 246 509 204 131 316  56 266 647 593\n",
            " 604 180 286 242 323 635  54 175 306 274 292 349 138  53 623 605 350 392\n",
            " 176 591 124 450 111 633 562 471 232 598  43 493 356 365 524 558 253 407\n",
            " 152 133 611 332 276 214 404 156 108 142 467 116 335 612 540 107 532  15\n",
            " 128 167 618 433 451 537 307  94 580 534  92 478 459  18  20 184 564 425\n",
            " 550 410 343 428 503 423 448 339  41  27  70 548 426 305 642 231 324 533\n",
            " 290 226 195 422 544 480 265 648 401 313 486 121 258 234 427   5 579 546\n",
            " 496 430  49 552  11 137 521 538 148 212 440  64  46 162  80 513 102 510\n",
            " 643 146 485 477 169 243 516 312 530 268 514 269  57  71 299 442   7 515\n",
            " 206  45  30 465 319 416 229 259 337 139  14 341  96 501 554 208 145 314\n",
            " 508 322  19 303 361 293 197 581 185 409 110 403  58  81  24   1 249  23\n",
            " 364 224 182 275  38 191 105  74 551 620 221  36 280 238 556 118 391  65\n",
            " 507 505 141  22 384 228 498 298 414 586 573 494 147 199 405 568 164 273\n",
            " 420 596 352 354  98 340 599 342 529 270 626 447 395 602 588 348 511 347\n",
            " 397  67 122 644  47 519 435 472 603  73 101 378 449 126 135 353  55 601\n",
            " 283 154 631 411 190 287 557  69  83 594 254 233  82 434  85 386  72  44\n",
            " 123 609 334 363 468 419 346 393 248 297 373 225  12 555 213 205 461 445\n",
            "  60 399 296  26 649 549   0 441 636 251 457 545 488 358 210 161 252 517\n",
            " 587 473 173   3  97 417 281 455 368 109 495 470 390 217 438 559 474  13\n",
            " 482  28 267 490 621  77 300 223  88 203   2 282 189 396 613 541 359 178\n",
            " 535 389 614 239 355 279  48 398 400 351 458 632 264  93 257 565 309 310\n",
            " 159 572  91 377 600 437 578 134  84 150  89 155 452  35 444 608 112 569\n",
            "  50 487 103 301 561 439 543 330 462 219 140 263 475 590 570 512 446 362\n",
            " 117 500 563 160 129 469 619 272 627   9 336 380 382 295 376 170]\n"
          ]
        },
        {
          "output_type": "stream",
          "name": "stderr",
          "text": [
            "INFO:__main__:Assigned following indicies for training data: [ 90 536 460 331 385  32  17 617 222 630 463 499 202  29 198 481 464  39\n",
            " 168 271 166  34  79 209 321 211 424 531 520  59 192 584 193 525 383 575\n",
            "  37 370 163 240 641 606 566 144 374 489 181 624  52 616 577 585 106 637\n",
            " 151 327 328 571  25  33 583 628 237  40 542 528 526  76 200 375 329 153\n",
            "  63 132 325 285 634 497 289 418 357 547  66 236   6 250 502 333 640 484\n",
            "  16 235   4 245 453 196 207 610 201 246 509 204 131 316  56 266 647 593\n",
            " 604 180 286 242 323 635  54 175 306 274 292 349 138  53 623 605 350 392\n",
            " 176 591 124 450 111 633 562 471 232 598  43 493 356 365 524 558 253 407\n",
            " 152 133 611 332 276 214 404 156 108 142 467 116 335 612 540 107 532  15\n",
            " 128 167 618 433 451 537 307  94 580 534  92 478 459  18  20 184 564 425\n",
            " 550 410 343 428 503 423 448 339  41  27  70 548 426 305 642 231 324 533\n",
            " 290 226 195 422 544 480 265 648 401 313 486 121 258 234 427   5 579 546\n",
            " 496 430  49 552  11 137 521 538 148 212 440  64  46 162  80 513 102 510\n",
            " 643 146 485 477 169 243 516 312 530 268 514 269  57  71 299 442   7 515\n",
            " 206  45  30 465 319 416 229 259 337 139  14 341  96 501 554 208 145 314\n",
            " 508 322  19 303 361 293 197 581 185 409 110 403  58  81  24   1 249  23\n",
            " 364 224 182 275  38 191 105  74 551 620 221  36 280 238 556 118 391  65\n",
            " 507 505 141  22 384 228 498 298 414 586 573 494 147 199 405 568 164 273\n",
            " 420 596 352 354  98 340 599 342 529 270 626 447 395 602 588 348 511 347\n",
            " 397  67 122 644  47 519 435 472 603  73 101 378 449 126 135 353  55 601\n",
            " 283 154 631 411 190 287 557  69  83 594 254 233  82 434  85 386  72  44\n",
            " 123 609 334 363 468 419 346 393 248 297 373 225  12 555 213 205 461 445\n",
            "  60 399 296  26 649 549   0 441 636 251 457 545 488 358 210 161 252 517\n",
            " 587 473 173   3  97 417 281 455 368 109 495 470 390 217 438 559 474  13\n",
            " 482  28 267 490 621  77 300 223  88 203   2 282 189 396 613 541 359 178\n",
            " 535 389 614 239 355 279  48 398 400 351 458 632 264  93 257 565 309 310\n",
            " 159 572  91 377 600 437 578 134  84 150  89 155 452  35 444 608 112 569\n",
            "  50 487 103 301 561 439 543 330 462 219 140 263 475 590 570 512 446 362\n",
            " 117 500 563 160 129 469 619 272 627   9 336 380 382 295 376 170]\n"
          ]
        },
        {
          "output_type": "stream",
          "name": "stdout",
          "text": [
            "   INFO 2023-12-05 12:28:37: Assigned following indicies for validation data: [ 21 308 302 491 574 120 130 387 381  10 158 255 113 492 466 629 522  62\n",
            " 518 186 476 318 483 304 589 136 157 100 432 187  78 320 344 394 379 388\n",
            " 119 174 326 215 317 412 125 527 372  95 366 220 115 615  42 443 104 315\n",
            " 408 406 256 454 260 479 311 429 127 595  51  31 179 560  61 553 216   8\n",
            " 177 646 622 345 194 291 294 227 421 149 539  75 625 261  86 638 230 607\n",
            " 262 247 504 360  99 582 415 218 278 576 436  68 456 172 369  87 183 143\n",
            " 367 188 592 402 413 597 244 241 277 288 171 284 338 114 371 645 523 506\n",
            " 165 567 639 431]\n"
          ]
        },
        {
          "output_type": "stream",
          "name": "stderr",
          "text": [
            "INFO:__main__:Assigned following indicies for validation data: [ 21 308 302 491 574 120 130 387 381  10 158 255 113 492 466 629 522  62\n",
            " 518 186 476 318 483 304 589 136 157 100 432 187  78 320 344 394 379 388\n",
            " 119 174 326 215 317 412 125 527 372  95 366 220 115 615  42 443 104 315\n",
            " 408 406 256 454 260 479 311 429 127 595  51  31 179 560  61 553 216   8\n",
            " 177 646 622 345 194 291 294 227 421 149 539  75 625 261  86 638 230 607\n",
            " 262 247 504 360  99 582 415 218 278 576 436  68 456 172 369  87 183 143\n",
            " 367 188 592 402 413 597 244 241 277 288 171 284 338 114 371 645 523 506\n",
            " 165 567 639 431]\n"
          ]
        },
        {
          "output_type": "stream",
          "name": "stdout",
          "text": [
            "   INFO 2023-12-05 12:28:37: train_X created with shape: (520, 10, 2)\n"
          ]
        },
        {
          "output_type": "stream",
          "name": "stderr",
          "text": [
            "INFO:__main__:train_X created with shape: (520, 10, 2)\n"
          ]
        },
        {
          "output_type": "stream",
          "name": "stdout",
          "text": [
            "   INFO 2023-12-05 12:28:37: train_Y created with shape: (520, 4, 4)\n"
          ]
        },
        {
          "output_type": "stream",
          "name": "stderr",
          "text": [
            "INFO:__main__:train_Y created with shape: (520, 4, 4)\n"
          ]
        },
        {
          "output_type": "stream",
          "name": "stdout",
          "text": [
            "   INFO 2023-12-05 12:28:37:   val_X created with shape: (130, 10, 2)\n"
          ]
        },
        {
          "output_type": "stream",
          "name": "stderr",
          "text": [
            "INFO:__main__:  val_X created with shape: (130, 10, 2)\n"
          ]
        },
        {
          "output_type": "stream",
          "name": "stdout",
          "text": [
            "   INFO 2023-12-05 12:28:37:   val_Y created with shape: (130, 4, 4)\n"
          ]
        },
        {
          "output_type": "stream",
          "name": "stderr",
          "text": [
            "INFO:__main__:  val_Y created with shape: (130, 4, 4)\n"
          ]
        }
      ]
    },
    {
      "cell_type": "code",
      "source": [
        "##=============##\n",
        "##  Fit model  ##\n",
        "##=============##\n",
        "\n",
        "##  Resolve training config\n",
        "epochs     = config[\"training\"].get(\"epochs\", 100)\n",
        "batch_size = config[\"training\"].get(\"batch_size\", 32)\n",
        "monitor    = config[\"training\"].get(\"early_stopping\", {}).get(\"monitor\" , \"loss\")\n",
        "patience   = config[\"training\"].get(\"early_stopping\", {}).get(\"patience\", 10    )\n",
        "\n",
        "##  Log settings\n",
        "logger.info(f\"Training for maximum of {epochs} epochs\")\n",
        "logger.info(f\"Early stopping with minitor '{monitor}' and patience={patience}\")\n",
        "\n",
        "##  Fit model\n",
        "model.fit(train_X,\n",
        "          train_Y,\n",
        "          epochs     = epochs,\n",
        "          batch_size = batch_size,\n",
        "          callbacks  = [tf.keras.callbacks.EarlyStopping(monitor=monitor, patience=patience, restore_best_weights=True)],\n",
        "         )\n"
      ],
      "metadata": {
        "id": "RyJGjvHGw5eT",
        "colab": {
          "base_uri": "https://localhost:8080/"
        },
        "outputId": "4f995dc3-cc13-4daf-c5f2-cad0bacda52c"
      },
      "execution_count": null,
      "outputs": [
        {
          "output_type": "stream",
          "name": "stdout",
          "text": [
            "   INFO 2023-12-05 14:51:26: Training for maximum of 100 epochs\n"
          ]
        },
        {
          "output_type": "stream",
          "name": "stderr",
          "text": [
            "INFO:__main__:Training for maximum of 100 epochs\n"
          ]
        },
        {
          "output_type": "stream",
          "name": "stdout",
          "text": [
            "   INFO 2023-12-05 14:51:26: Early stopping with minitor 'loss' and patience=10\n"
          ]
        },
        {
          "output_type": "stream",
          "name": "stderr",
          "text": [
            "INFO:__main__:Early stopping with minitor 'loss' and patience=10\n"
          ]
        },
        {
          "output_type": "stream",
          "name": "stdout",
          "text": [
            "Epoch 1/100\n",
            "17/17 [==============================] - 16s 943ms/step - loss: 0.3781 - accuracy: 0.3837\n",
            "Epoch 2/100\n",
            "17/17 [==============================] - 13s 717ms/step - loss: 0.3778 - accuracy: 0.4505\n",
            "Epoch 3/100\n",
            "17/17 [==============================] - 13s 726ms/step - loss: 0.3774 - accuracy: 0.3788\n",
            "Epoch 4/100\n",
            "17/17 [==============================] - 13s 790ms/step - loss: 0.3794 - accuracy: 0.5356\n",
            "Epoch 5/100\n",
            "17/17 [==============================] - 13s 790ms/step - loss: 0.3775 - accuracy: 0.4712\n",
            "Epoch 6/100\n",
            "17/17 [==============================] - 13s 794ms/step - loss: 0.3771 - accuracy: 0.4303\n",
            "Epoch 7/100\n",
            "17/17 [==============================] - 13s 792ms/step - loss: 0.3778 - accuracy: 0.4034\n",
            "Epoch 8/100\n",
            "17/17 [==============================] - 13s 790ms/step - loss: 0.3795 - accuracy: 0.4832\n",
            "Epoch 9/100\n",
            "17/17 [==============================] - 13s 785ms/step - loss: 0.3794 - accuracy: 0.4322\n",
            "Epoch 10/100\n",
            "17/17 [==============================] - 12s 724ms/step - loss: 0.3769 - accuracy: 0.4721\n",
            "Epoch 11/100\n",
            "17/17 [==============================] - 12s 690ms/step - loss: 0.3794 - accuracy: 0.3236\n",
            "Epoch 12/100\n",
            "17/17 [==============================] - 13s 772ms/step - loss: 0.3779 - accuracy: 0.4005\n",
            "Epoch 13/100\n",
            "17/17 [==============================] - 13s 795ms/step - loss: 0.3792 - accuracy: 0.3986\n",
            "Epoch 14/100\n",
            "17/17 [==============================] - 13s 789ms/step - loss: 0.3778 - accuracy: 0.4284\n",
            "Epoch 15/100\n",
            "17/17 [==============================] - 13s 785ms/step - loss: 0.3775 - accuracy: 0.3538\n",
            "Epoch 16/100\n",
            "17/17 [==============================] - 13s 789ms/step - loss: 0.3770 - accuracy: 0.4519\n",
            "Epoch 17/100\n",
            "17/17 [==============================] - 13s 791ms/step - loss: 0.3765 - accuracy: 0.4644\n",
            "Epoch 18/100\n",
            "17/17 [==============================] - 13s 749ms/step - loss: 0.3783 - accuracy: 0.4058\n",
            "Epoch 19/100\n",
            "17/17 [==============================] - 14s 809ms/step - loss: 0.3769 - accuracy: 0.4322\n",
            "Epoch 20/100\n",
            "17/17 [==============================] - 13s 740ms/step - loss: 0.3766 - accuracy: 0.3995\n",
            "Epoch 21/100\n",
            "17/17 [==============================] - 13s 792ms/step - loss: 0.3762 - accuracy: 0.3923\n",
            "Epoch 22/100\n",
            "17/17 [==============================] - 13s 791ms/step - loss: 0.3767 - accuracy: 0.4635\n",
            "Epoch 23/100\n",
            "17/17 [==============================] - 13s 799ms/step - loss: 0.3768 - accuracy: 0.4462\n",
            "Epoch 24/100\n",
            "17/17 [==============================] - 13s 792ms/step - loss: 0.3772 - accuracy: 0.4067\n",
            "Epoch 25/100\n",
            "17/17 [==============================] - 13s 796ms/step - loss: 0.3764 - accuracy: 0.3630\n",
            "Epoch 26/100\n",
            "17/17 [==============================] - 13s 795ms/step - loss: 0.3768 - accuracy: 0.3918\n",
            "Epoch 27/100\n",
            "17/17 [==============================] - 12s 725ms/step - loss: 0.3769 - accuracy: 0.4553\n",
            "Epoch 28/100\n",
            "17/17 [==============================] - 12s 697ms/step - loss: 0.3762 - accuracy: 0.3707\n",
            "Epoch 29/100\n",
            "17/17 [==============================] - 13s 777ms/step - loss: 0.3761 - accuracy: 0.3894\n",
            "Epoch 30/100\n",
            "17/17 [==============================] - 13s 785ms/step - loss: 0.3762 - accuracy: 0.3942\n",
            "Epoch 31/100\n",
            "17/17 [==============================] - 13s 786ms/step - loss: 0.3761 - accuracy: 0.4370\n",
            "Epoch 32/100\n",
            "17/17 [==============================] - 13s 784ms/step - loss: 0.3765 - accuracy: 0.3885\n",
            "Epoch 33/100\n",
            "17/17 [==============================] - 13s 785ms/step - loss: 0.3768 - accuracy: 0.3764\n",
            "Epoch 34/100\n",
            "17/17 [==============================] - 13s 792ms/step - loss: 0.3759 - accuracy: 0.4399\n",
            "Epoch 35/100\n",
            "17/17 [==============================] - 12s 732ms/step - loss: 0.3776 - accuracy: 0.4721\n",
            "Epoch 36/100\n",
            "17/17 [==============================] - 12s 684ms/step - loss: 0.3773 - accuracy: 0.3750\n",
            "Epoch 37/100\n",
            "17/17 [==============================] - 13s 754ms/step - loss: 0.3766 - accuracy: 0.4274\n",
            "Epoch 38/100\n",
            "17/17 [==============================] - 13s 789ms/step - loss: 0.3778 - accuracy: 0.4029\n",
            "Epoch 39/100\n",
            "17/17 [==============================] - 13s 787ms/step - loss: 0.3769 - accuracy: 0.4322\n",
            "Epoch 40/100\n",
            "17/17 [==============================] - 13s 786ms/step - loss: 0.3763 - accuracy: 0.4933\n",
            "Epoch 41/100\n",
            "17/17 [==============================] - 13s 786ms/step - loss: 0.3769 - accuracy: 0.3707\n",
            "Epoch 42/100\n",
            "17/17 [==============================] - 13s 786ms/step - loss: 0.3767 - accuracy: 0.4606\n",
            "Epoch 43/100\n",
            "17/17 [==============================] - 12s 737ms/step - loss: 0.3759 - accuracy: 0.4587\n",
            "Epoch 44/100\n",
            "17/17 [==============================] - 12s 702ms/step - loss: 0.3761 - accuracy: 0.3740\n"
          ]
        },
        {
          "output_type": "execute_result",
          "data": {
            "text/plain": [
              "<keras.src.callbacks.History at 0x7d1338ae74f0>"
            ]
          },
          "metadata": {},
          "execution_count": 25
        }
      ]
    },
    {
      "cell_type": "code",
      "source": [
        "##================================##\n",
        "##  Evaluate model on train data  ##\n",
        "##================================##\n",
        "\n",
        "evals = model.evaluate(train_X, train_Y, verbose=0)\n",
        "for metric_name, metric_value in zip(model.metrics_names, evals) :\n",
        "        logger.info(f\"Training set: {metric_name} = {metric_value:.4}\")\n",
        "\n"
      ],
      "metadata": {
        "id": "PHYblzC90jev",
        "colab": {
          "base_uri": "https://localhost:8080/"
        },
        "outputId": "52ed5032-dcab-46dd-cb00-90a84baa3eea"
      },
      "execution_count": null,
      "outputs": [
        {
          "output_type": "stream",
          "name": "stdout",
          "text": [
            "   INFO 2023-12-05 12:44:19: Training set: loss = 0.3794\n"
          ]
        },
        {
          "output_type": "stream",
          "name": "stderr",
          "text": [
            "INFO:__main__:Training set: loss = 0.3794\n"
          ]
        },
        {
          "output_type": "stream",
          "name": "stdout",
          "text": [
            "   INFO 2023-12-05 12:44:19: Training set: accuracy = 0.4308\n"
          ]
        },
        {
          "output_type": "stream",
          "name": "stderr",
          "text": [
            "INFO:__main__:Training set: accuracy = 0.4308\n"
          ]
        }
      ]
    },
    {
      "cell_type": "code",
      "source": [
        "##=====================================##\n",
        "##  Evaluate model on validation data  ##\n",
        "##=====================================##\n",
        "\n",
        "evals = model.evaluate(val_X, val_Y, verbose=0)\n",
        "for metric_name, metric_value in zip(model.metrics_names, evals) :\n",
        "        logger.info(f\"Validation set: {metric_name} = {metric_value:.4}\")\n"
      ],
      "metadata": {
        "id": "ORFpesCf0xvW",
        "colab": {
          "base_uri": "https://localhost:8080/"
        },
        "outputId": "77787fbc-b3c0-4fb0-971d-a52f8af71835"
      },
      "execution_count": null,
      "outputs": [
        {
          "output_type": "stream",
          "name": "stdout",
          "text": [
            "   INFO 2023-12-05 12:44:20: Validation set: loss = 0.387\n"
          ]
        },
        {
          "output_type": "stream",
          "name": "stderr",
          "text": [
            "INFO:__main__:Validation set: loss = 0.387\n"
          ]
        },
        {
          "output_type": "stream",
          "name": "stdout",
          "text": [
            "   INFO 2023-12-05 12:44:20: Validation set: accuracy = 0.4365\n"
          ]
        },
        {
          "output_type": "stream",
          "name": "stderr",
          "text": [
            "INFO:__main__:Validation set: accuracy = 0.4365\n"
          ]
        }
      ]
    },
    {
      "cell_type": "code",
      "source": [],
      "metadata": {
        "id": "K34jTIvd0zjH"
      },
      "execution_count": null,
      "outputs": []
    },
    {
      "cell_type": "code",
      "source": [
        "##======================================================================##\n",
        "##  Define quick method for plotting a true map against its prediction  ##\n",
        "##======================================================================##\n",
        "\n",
        "def plot_maps(Y_true : np.ndarray,\n",
        "              Y_pred : np.ndarray,\n",
        "              X_true : np.ndarray | None = None,\n",
        "              show   : bool              = True,\n",
        "              close  : bool              = True,\n",
        "             ) -> plt.Figure :\n",
        "    \"\"\"\n",
        "    Plot a true pixel-map side-by-side with that predicted by a model\n",
        "    Optionally also plot the true trajectory\n",
        "    Returns the figure object\n",
        "    \"\"\"\n",
        "    print(X_true)\n",
        "    print(Y_true)\n",
        "    ##  Create figure\n",
        "    fig = plt.figure(figsize=(6.3, 3))\n",
        "    fig.subplots_adjust(wspace=.3/3)\n",
        "\n",
        "    ##  Create and format axes\n",
        "    ax1 = fig.add_subplot(1, 2, 1)\n",
        "    ax2 = fig.add_subplot(1, 2, 2)\n",
        "    ax1.tick_params(left=False, bottom=False, top=False, right=False)\n",
        "    ax2.tick_params(left=False, bottom=False, top=False, right=False)\n",
        "    ax1.xaxis.set_ticklabels([])\n",
        "    ax2.xaxis.set_ticklabels([])\n",
        "    ax1.yaxis.set_ticklabels([])\n",
        "    ax2.yaxis.set_ticklabels([])\n",
        "    ax1.set_title(\"True\", weight=\"bold\", fontsize=14)\n",
        "    ax2.set_title(\"Pred\", weight=\"bold\", fontsize=14)\n",
        "\n",
        "    ##  Plot pixel maps\n",
        "    ax1.imshow(Y_true.T, origin=\"lower\", cmap=\"Greys\")\n",
        "    ax2.imshow(Y_pred.T, origin=\"lower\", cmap=\"Greys\")\n",
        "\n",
        "    ##  Infer number of legal squares from shape of map provided\n",
        "    num_squares_x = Y_true.shape[0]\n",
        "    num_squares_y = Y_true.shape[1]\n",
        "\n",
        "    ##  Plot trajectory\n",
        "    ##  N.B. we must subtract 1 from pixel locations to account for earlier offset\n",
        "    if X_true is not None :\n",
        "        x_last, y_last = None, None\n",
        "        for x, y in X_true - 1 :\n",
        "            if x < 0 or x >= num_squares_x : continue  # Ignore [MASK, BEGIN, END] tokens\n",
        "            if y < 0 or y >= num_squares_y : continue  # Ignore [MASK, BEGIN, END] tokens\n",
        "            ax1.plot(x, y, \"o\", ms=10, c=\"red\")\n",
        "            ax2.plot(x, y, \"o\", ms=10, c=\"red\")\n",
        "            if x_last is not None :\n",
        "                ax1.plot([x_last, x], [y_last, y], \"--\", lw=2, c=\"r\")\n",
        "                ax2.plot([x_last, x], [y_last, y], \"--\", lw=2, c=\"r\")\n",
        "            x_last, y_last = x, y\n",
        "\n",
        "    ##  Show figure\n",
        "    if show :\n",
        "        plt.show(fig)\n",
        "\n",
        "    ##  Close figure\n",
        "    if close :\n",
        "        plt.close(fig)\n",
        "\n",
        "    ##  Return figure\n",
        "    return fig"
      ],
      "metadata": {
        "id": "4idGN9lR04bX"
      },
      "execution_count": null,
      "outputs": []
    },
    {
      "cell_type": "code",
      "source": [
        "##==========================================##\n",
        "##  Plot some predictions on training data  ##\n",
        "##==========================================##\n",
        "\n",
        "num_print = min([3, len(train_X)])\n",
        "print(\"train_X\",train_X)\n",
        "train_Y_predictions = model.predict(train_X[:num_print], verbose=0)\n",
        "for row_idx in range(num_print) :\n",
        "    logger.info(f\"Training set row {row_idx} with\")\n",
        "    logger.debug(f\"Y_TRUE =\\n{train_Y[row_idx]}\\n\")\n",
        "    logger.debug(f\"Y_PRED =\\n{train_Y_predictions[row_idx]}\\n\")\n",
        "    plot_maps(train_Y[row_idx], train_Y_predictions[row_idx], train_X[row_idx])\n"
      ],
      "metadata": {
        "id": "2j49zPAP07lO",
        "colab": {
          "base_uri": "https://localhost:8080/",
          "height": 1000
        },
        "outputId": "72fab0b4-4405-4891-9980-9238d42775ee"
      },
      "execution_count": null,
      "outputs": [
        {
          "output_type": "stream",
          "name": "stdout",
          "text": [
            "train_X [[[5 5]\n",
            "  [1 1]\n",
            "  [2 2]\n",
            "  ...\n",
            "  [0 0]\n",
            "  [0 0]\n",
            "  [0 0]]\n",
            "\n",
            " [[5 5]\n",
            "  [1 1]\n",
            "  [1 2]\n",
            "  ...\n",
            "  [0 0]\n",
            "  [0 0]\n",
            "  [0 0]]\n",
            "\n",
            " [[5 5]\n",
            "  [1 1]\n",
            "  [1 2]\n",
            "  ...\n",
            "  [0 0]\n",
            "  [0 0]\n",
            "  [0 0]]\n",
            "\n",
            " ...\n",
            "\n",
            " [[5 5]\n",
            "  [1 1]\n",
            "  [2 1]\n",
            "  ...\n",
            "  [0 0]\n",
            "  [0 0]\n",
            "  [0 0]]\n",
            "\n",
            " [[5 5]\n",
            "  [1 1]\n",
            "  [1 2]\n",
            "  ...\n",
            "  [0 0]\n",
            "  [0 0]\n",
            "  [0 0]]\n",
            "\n",
            " [[5 5]\n",
            "  [1 1]\n",
            "  [1 2]\n",
            "  ...\n",
            "  [0 0]\n",
            "  [0 0]\n",
            "  [0 0]]]\n",
            "   INFO 2023-12-05 12:44:23: Training set row 0 with\n"
          ]
        },
        {
          "output_type": "stream",
          "name": "stderr",
          "text": [
            "INFO:__main__:Training set row 0 with\n"
          ]
        },
        {
          "output_type": "stream",
          "name": "stdout",
          "text": [
            "[[5 5]\n",
            " [1 1]\n",
            " [2 2]\n",
            " [1 3]\n",
            " [1 4]\n",
            " [6 6]\n",
            " [0 0]\n",
            " [0 0]\n",
            " [0 0]\n",
            " [0 0]]\n",
            "[[0. 1. 0. 0.]\n",
            " [0. 0. 1. 0.]\n",
            " [0. 1. 0. 0.]\n",
            " [0. 0. 0. 0.]]\n"
          ]
        },
        {
          "output_type": "display_data",
          "data": {
            "text/plain": [
              "<Figure size 630x300 with 2 Axes>"
            ],
            "image/png": "[encoded data removed]"
          },
          "metadata": {}
        },
        {
          "output_type": "stream",
          "name": "stdout",
          "text": [
            "   INFO 2023-12-05 12:44:23: Training set row 1 with\n"
          ]
        },
        {
          "output_type": "stream",
          "name": "stderr",
          "text": [
            "INFO:__main__:Training set row 1 with\n"
          ]
        },
        {
          "output_type": "stream",
          "name": "stdout",
          "text": [
            "[[5 5]\n",
            " [1 1]\n",
            " [1 2]\n",
            " [1 3]\n",
            " [1 4]\n",
            " [6 6]\n",
            " [0 0]\n",
            " [0 0]\n",
            " [0 0]\n",
            " [0 0]]\n",
            "[[0. 0. 0. 0.]\n",
            " [0. 0. 0. 0.]\n",
            " [1. 1. 0. 0.]\n",
            " [1. 1. 0. 0.]]\n"
          ]
        },
        {
          "output_type": "display_data",
          "data": {
            "text/plain": [
              "<Figure size 630x300 with 2 Axes>"
            ],
            "image/png": "[encoded data removed]"
          },
          "metadata": {}
        },
        {
          "output_type": "stream",
          "name": "stdout",
          "text": [
            "   INFO 2023-12-05 12:44:23: Training set row 2 with\n"
          ]
        },
        {
          "output_type": "stream",
          "name": "stderr",
          "text": [
            "INFO:__main__:Training set row 2 with\n"
          ]
        },
        {
          "output_type": "stream",
          "name": "stdout",
          "text": [
            "[[5 5]\n",
            " [1 1]\n",
            " [1 2]\n",
            " [1 3]\n",
            " [1 4]\n",
            " [6 6]\n",
            " [0 0]\n",
            " [0 0]\n",
            " [0 0]\n",
            " [0 0]]\n",
            "[[0. 0. 0. 0.]\n",
            " [1. 0. 0. 0.]\n",
            " [1. 1. 0. 0.]\n",
            " [0. 1. 0. 0.]]\n"
          ]
        },
        {
          "output_type": "display_data",
          "data": {
            "text/plain": [
              "<Figure size 630x300 with 2 Axes>"
            ],
            "image/png": "[encoded data removed]"
          },
          "metadata": {}
        }
      ]
    },
    {
      "cell_type": "code",
      "source": [
        "##============================================##\n",
        "##  Plot some predictions on validation data  ##\n",
        "##============================================##\n",
        "\n",
        "num_print = min([3, len(val_X)])\n",
        "val_Y_predictions = model.predict(val_X[:num_print], verbose=0)\n",
        "for row_idx in range(num_print) :\n",
        "    logger.info(f\"Validationn set row {row_idx} with\")\n",
        "    logger.debug(f\"Y_TRUE =\\n{val_Y[row_idx]}\\n\")\n",
        "    logger.debug(f\"Y_PRED =\\n{val_Y_predictions[row_idx]}\\n\")\n",
        "    print(\"val_Y_predictions[row_idx]\",val_Y_predictions[row_idx])\n",
        "    plot_maps(val_Y[row_idx], val_Y_predictions[row_idx], val_X[row_idx])"
      ],
      "metadata": {
        "id": "VgsmffyE1FJ4",
        "colab": {
          "base_uri": "https://localhost:8080/",
          "height": 1000
        },
        "outputId": "8ecfe174-8d2b-4a6a-c8e2-ed25bb062bcf"
      },
      "execution_count": null,
      "outputs": [
        {
          "output_type": "stream",
          "name": "stdout",
          "text": [
            "   INFO 2023-12-05 12:44:24: Validationn set row 0 with\n"
          ]
        },
        {
          "output_type": "stream",
          "name": "stderr",
          "text": [
            "INFO:__main__:Validationn set row 0 with\n"
          ]
        },
        {
          "output_type": "stream",
          "name": "stdout",
          "text": [
            "val_Y_predictions[row_idx] [[4.9709971e-03 6.7004526e-01 5.2231014e-01 1.4889924e-04]\n",
            " [3.9183393e-01 1.3233639e-01 2.3981601e-01 1.0809698e-03]\n",
            " [3.9230692e-01 3.3380905e-01 3.5694697e-01 1.5286555e-03]\n",
            " [3.6975437e-01 3.3921766e-01 3.2365945e-01 1.6023070e-03]]\n",
            "[[5 5]\n",
            " [1 1]\n",
            " [1 2]\n",
            " [2 3]\n",
            " [1 4]\n",
            " [6 6]\n",
            " [0 0]\n",
            " [0 0]\n",
            " [0 0]\n",
            " [0 0]]\n",
            "[[0. 0. 1. 0.]\n",
            " [1. 0. 0. 0.]\n",
            " [0. 0. 0. 0.]\n",
            " [0. 0. 0. 0.]]\n"
          ]
        },
        {
          "output_type": "display_data",
          "data": {
            "text/plain": [
              "<Figure size 630x300 with 2 Axes>"
            ],
            "image/png": "[encoded data removed]"
          },
          "metadata": {}
        },
        {
          "output_type": "stream",
          "name": "stdout",
          "text": [
            "   INFO 2023-12-05 12:44:24: Validationn set row 1 with\n"
          ]
        },
        {
          "output_type": "stream",
          "name": "stderr",
          "text": [
            "INFO:__main__:Validationn set row 1 with\n"
          ]
        },
        {
          "output_type": "stream",
          "name": "stdout",
          "text": [
            "val_Y_predictions[row_idx] [[4.9709999e-03 6.7004412e-01 5.2231055e-01 1.4889910e-04]\n",
            " [3.9183345e-01 1.3233648e-01 2.3981643e-01 1.0809678e-03]\n",
            " [3.9230701e-01 3.3380884e-01 3.5694665e-01 1.5286512e-03]\n",
            " [3.6975399e-01 3.3921814e-01 3.2365987e-01 1.6023039e-03]]\n",
            "[[5 5]\n",
            " [1 1]\n",
            " [2 2]\n",
            " [1 3]\n",
            " [1 4]\n",
            " [6 6]\n",
            " [0 0]\n",
            " [0 0]\n",
            " [0 0]\n",
            " [0 0]]\n",
            "[[0. 1. 0. 0.]\n",
            " [0. 0. 1. 0.]\n",
            " [1. 0. 0. 0.]\n",
            " [0. 1. 0. 0.]]\n"
          ]
        },
        {
          "output_type": "display_data",
          "data": {
            "text/plain": [
              "<Figure size 630x300 with 2 Axes>"
            ],
            "image/png": "[encoded data removed]"
          },
          "metadata": {}
        },
        {
          "output_type": "stream",
          "name": "stdout",
          "text": [
            "   INFO 2023-12-05 12:44:25: Validationn set row 2 with\n"
          ]
        },
        {
          "output_type": "stream",
          "name": "stderr",
          "text": [
            "INFO:__main__:Validationn set row 2 with\n"
          ]
        },
        {
          "output_type": "stream",
          "name": "stdout",
          "text": [
            "val_Y_predictions[row_idx] [[0.00622924 0.6574326  0.71707255 0.00078462]\n",
            " [0.23255065 0.37149328 0.5161397  0.00084139]\n",
            " [0.37781236 0.14081524 0.15043457 0.00133448]\n",
            " [0.38028848 0.2694026  0.27692857 0.00181957]]\n",
            "[[5 5]\n",
            " [1 1]\n",
            " [2 1]\n",
            " [3 2]\n",
            " [2 3]\n",
            " [1 4]\n",
            " [6 6]\n",
            " [0 0]\n",
            " [0 0]\n",
            " [0 0]]\n",
            "[[0. 1. 0. 0.]\n",
            " [0. 1. 0. 0.]\n",
            " [0. 0. 0. 0.]\n",
            " [1. 1. 0. 0.]]\n"
          ]
        },
        {
          "output_type": "display_data",
          "data": {
            "text/plain": [
              "<Figure size 630x300 with 2 Axes>"
            ],
            "image/png": "[encoded data removed]"
          },
          "metadata": {}
        }
      ]
    }
  ]
}